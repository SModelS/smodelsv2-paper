{
 "cells": [
  {
   "cell_type": "code",
   "execution_count": 9,
   "metadata": {},
   "outputs": [],
   "source": [
    "import os\n",
    "import xslha\n",
    "from importlib import import_module\n",
    "import pandas as pd\n",
    "\n",
    "# Fetching the slha and python outputs filenames\n",
    "points = os.listdir(\"scanpoints\")\n",
    "shorts = [os.path.splitext(point)[0] for point in points]\n",
    "pys = [\"pyoutputs.\"+sh for sh in shorts]\n",
    "slhas = [os.path.join(\"scanpoints\", slha) for slha in points]"
   ]
  },
  {
   "cell_type": "code",
   "execution_count": 10,
   "metadata": {},
   "outputs": [
    {
     "ename": "KeyError",
     "evalue": "'dA0'",
     "output_type": "error",
     "traceback": [
      "\u001b[0;31m---------------------------------------------------------------------------\u001b[0m",
      "\u001b[0;31mKeyError\u001b[0m                                  Traceback (most recent call last)",
      "\u001b[0;32m<ipython-input-10-4ca20ce11295>\u001b[0m in \u001b[0;36m<module>\u001b[0;34m\u001b[0m\n\u001b[1;32m     27\u001b[0m     \u001b[0mdata\u001b[0m\u001b[0;34m[\u001b[0m\u001b[0;34m'mH0'\u001b[0m\u001b[0;34m]\u001b[0m\u001b[0;34m.\u001b[0m\u001b[0mappend\u001b[0m\u001b[0;34m(\u001b[0m\u001b[0mmH0\u001b[0m\u001b[0;34m)\u001b[0m\u001b[0;34m\u001b[0m\u001b[0;34m\u001b[0m\u001b[0m\n\u001b[1;32m     28\u001b[0m     \u001b[0mdata\u001b[0m\u001b[0;34m[\u001b[0m\u001b[0;34m'deltaM'\u001b[0m\u001b[0;34m]\u001b[0m\u001b[0;34m.\u001b[0m\u001b[0mappend\u001b[0m\u001b[0;34m(\u001b[0m\u001b[0mdeltaM\u001b[0m\u001b[0;34m)\u001b[0m\u001b[0;34m\u001b[0m\u001b[0;34m\u001b[0m\u001b[0m\n\u001b[0;32m---> 29\u001b[0;31m     \u001b[0mdata\u001b[0m\u001b[0;34m[\u001b[0m\u001b[0;34m'dA0'\u001b[0m\u001b[0;34m]\u001b[0m\u001b[0;34m.\u001b[0m\u001b[0mappend\u001b[0m\u001b[0;34m(\u001b[0m\u001b[0mdA0\u001b[0m\u001b[0;34m)\u001b[0m\u001b[0;34m\u001b[0m\u001b[0;34m\u001b[0m\u001b[0m\n\u001b[0m\u001b[1;32m     30\u001b[0m     \u001b[0mdata\u001b[0m\u001b[0;34m[\u001b[0m\u001b[0;34m'dHc'\u001b[0m\u001b[0;34m]\u001b[0m\u001b[0;34m.\u001b[0m\u001b[0mappend\u001b[0m\u001b[0;34m(\u001b[0m\u001b[0mdHc\u001b[0m\u001b[0;34m)\u001b[0m\u001b[0;34m\u001b[0m\u001b[0;34m\u001b[0m\u001b[0m\n\u001b[1;32m     31\u001b[0m     \u001b[0;32mtry\u001b[0m\u001b[0;34m:\u001b[0m\u001b[0;34m\u001b[0m\u001b[0;34m\u001b[0m\u001b[0m\n",
      "\u001b[0;31mKeyError\u001b[0m: 'dA0'"
     ]
    }
   ],
   "source": [
    "# Fetching particle masses and widths in slhas and reading python outputs\n",
    "data = {'mA0':[], 'mHc':[], 'mH0':[], 'deltaM':[], 'dHc':[], 'rmax':[], 'ana':[], 'topo':[], 'bestTx':[], 'pions':[]}\n",
    "for slha, py in zip(slhas, pys):\n",
    "    try:\n",
    "        f = xslha.read(slha)\n",
    "    except UnicodeDecodeError:\n",
    "        print(\"could not read\", slha)\n",
    "    if not \"MASS\" in f.blocks:\n",
    "        print(\"no MASS block in\", slha)\n",
    "        continue\n",
    "    mA0 = f.Value(\"MASS\", [36])\n",
    "    mHc = f.Value(\"MASS\", [37])\n",
    "    mH0 = f.Value(\"MASS\", [35])\n",
    "    deltaM = mHc - mH0\n",
    "    brHc = f.br[37]\n",
    "    # Is H+ decaying to pions or not\n",
    "    pions = False\n",
    "    for b in brHc:\n",
    "        if 211 in b:\n",
    "            pions = True\n",
    "            break\n",
    "    data['pions'].append(pions)\n",
    "    # Converting widths to ctau in meters\n",
    "    dHc = 1/f.Value(\"WIDTH\", 37)*6.582E-25*299792458\n",
    "    data['mA0'].append(mA0)\n",
    "    data['mHc'].append(mHc)\n",
    "    data['mH0'].append(mH0)\n",
    "    data['deltaM'].append(deltaM)\n",
    "    data['dHc'].append(dHc)\n",
    "    try:\n",
    "        dic = import_module(py).smodelsOutput\n",
    "    except ModuleNotFoundError:\n",
    "        print(\"could not load\", py)\n",
    "    res = dic['ExptRes']\n",
    "    rmax = res[0]['r']\n",
    "    data['rmax'].append(rmax) \n",
    "    data['ana'].append(res[0]['AnalysisID'])\n",
    "    data['topo'].append(res[0]['TxNames'])\n",
    "    # Looking for the \"best\" txname\n",
    "    weights = res[0]['TxNames weights (fb)']\n",
    "    bestW = 0\n",
    "    for tx in weights:\n",
    "        if weights[tx] > bestW:\n",
    "            bestW =  weights[tx]\n",
    "            bestTx = tx\n",
    "    data['bestTx'].append(bestTx)\n",
    "df = pd.DataFrame(data)\n",
    "df.to_csv(\"scalarData.csv\")"
   ]
  }
 ],
 "metadata": {
  "kernelspec": {
   "display_name": "Python 3",
   "language": "python",
   "name": "python3"
  },
  "language_info": {
   "codemirror_mode": {
    "name": "ipython",
    "version": 3
   },
   "file_extension": ".py",
   "mimetype": "text/x-python",
   "name": "python",
   "nbconvert_exporter": "python",
   "pygments_lexer": "ipython3",
   "version": "3.7.9"
  }
 },
 "nbformat": 4,
 "nbformat_minor": 4
}
