{
 "cells": [
  {
   "cell_type": "code",
   "execution_count": 2,
   "metadata": {},
   "outputs": [],
   "source": [
    "import shutil,sys,glob,os\n",
    "import pyslha"
   ]
  },
  {
   "cell_type": "code",
   "execution_count": 24,
   "metadata": {},
   "outputs": [],
   "source": [
    "rValues = {}\n",
    "for f in glob.glob('./data/smodels_scanRandom/*smodelsslha'):\n",
    "    res = pyslha.readSLHAFile(f,ignorenobr=True,ignorenomass=True)\n",
    "    if res.blocks['SMODELS_EXCLUSION'][0,0] < 0:\n",
    "        continue\n",
    "    r = res.blocks['SMODELS_EXCLUSION'][1,1]\n",
    "    slhafile = os.path.basename(f).replace('.smodelsslha','')\n",
    "    rValues[slhafile] = r"
   ]
  },
  {
   "cell_type": "code",
   "execution_count": 25,
   "metadata": {},
   "outputs": [
    {
     "name": "stdout",
     "output_type": "stream",
     "text": [
      "64394\n"
     ]
    }
   ],
   "source": [
    "print(len(rValues))"
   ]
  },
  {
   "cell_type": "code",
   "execution_count": 30,
   "metadata": {},
   "outputs": [],
   "source": [
    "borderFiles = []\n",
    "for f,r in rValues.items():\n",
    "    if r > 1.0: continue\n",
    "    if r < 0.5: continue\n",
    "    borderFiles.append(f)"
   ]
  },
  {
   "cell_type": "code",
   "execution_count": 31,
   "metadata": {},
   "outputs": [
    {
     "name": "stdout",
     "output_type": "stream",
     "text": [
      "2219\n"
     ]
    }
   ],
   "source": [
    "print(len(borderFiles))"
   ]
  },
  {
   "cell_type": "code",
   "execution_count": 34,
   "metadata": {},
   "outputs": [],
   "source": [
    "try:\n",
    "    os.makedirs('./data/slha_border')\n",
    "except:\n",
    "    pass\n",
    "\n",
    "for f in borderFiles:\n",
    "    shutil.copyfile(os.path.join('./data/slha_scanRandom/',f),os.path.join('./data/slha_border',f))"
   ]
  },
  {
   "cell_type": "code",
   "execution_count": null,
   "metadata": {},
   "outputs": [],
   "source": []
  }
 ],
 "metadata": {
  "kernelspec": {
   "display_name": "Python 3",
   "language": "python",
   "name": "python3"
  },
  "language_info": {
   "codemirror_mode": {
    "name": "ipython",
    "version": 3
   },
   "file_extension": ".py",
   "mimetype": "text/x-python",
   "name": "python",
   "nbconvert_exporter": "python",
   "pygments_lexer": "ipython3",
   "version": "3.8.6"
  }
 },
 "nbformat": 4,
 "nbformat_minor": 4
}
