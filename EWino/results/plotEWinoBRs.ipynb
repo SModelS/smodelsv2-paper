{
 "cells": [
  {
   "cell_type": "markdown",
   "metadata": {},
   "source": [
    "# Plot results using the DataFrame stored in pickle file"
   ]
  },
  {
   "cell_type": "code",
   "execution_count": 1,
   "metadata": {},
   "outputs": [],
   "source": [
    "import warnings\n",
    "warnings.filterwarnings(\"ignore\", message=\"numpy.dtype size changed\")\n",
    "import numpy as np\n",
    "import pandas as pd\n",
    "import glob,imp,os,shutil\n",
    "from pandas.io.json import json_normalize\n",
    "import pyslha\n",
    "import matplotlib as mpl\n",
    "import matplotlib.pyplot as plt\n",
    "from matplotlib.colors import LogNorm\n",
    "from collections import OrderedDict\n",
    "import seaborn as sns\n",
    "from scipy.interpolate import interp1d\n",
    "\n",
    "pd.option_context('display.max_columns', -1)\n",
    "\n",
    "pd.options.mode.chained_assignment = None #Disable copy warnings\n",
    "# plt.style.use('fivethirtyeight') #Set style\n",
    "# mpl.rcParams.update({'figure.figsize' : (15,10)})  #Set general plotting options\n",
    "\n",
    "#Define plotting style:\n",
    "sns.set() #Set style\n",
    "sns.set_style('ticks',{'font.family':'Times New Roman', 'font.serif':'Times New Roman'})\n",
    "sns.set_context('paper', font_scale=1.8)\n",
    "cm = plt.cm.get_cmap('RdYlBu')"
   ]
  },
  {
   "cell_type": "code",
   "execution_count": 2,
   "metadata": {},
   "outputs": [],
   "source": [
    "#Merge with SModelS DataFrame\n",
    "dataDF = pd.read_pickle('EWino_scanRandomProspino.pcl')\n",
    "# print(dataDF.columns.values.tolist()) #Print all columns names"
   ]
  },
  {
   "cell_type": "markdown",
   "metadata": {},
   "source": [
    "#### Set r = 0 for points with no results "
   ]
  },
  {
   "cell_type": "code",
   "execution_count": 3,
   "metadata": {},
   "outputs": [],
   "source": [
    "#Set points without results with r == 0\n",
    "dataDF.fillna(value={'ExptRes.result0.r' : 0.0},inplace=True)\n",
    "#Sort points according to r value:\n",
    "dataDF = dataDF.sort_values(by=['ExptRes.result0.r'],ascending=False)\n",
    "#Add simple flag for excluded points:\n",
    "dataDF['excluded'] = dataDF['ExptRes.result0.r'] > 1.0 #Include flat k-factor"
   ]
  },
  {
   "cell_type": "markdown",
   "metadata": {},
   "source": [
    "#### Add c*tau column for charginos"
   ]
  },
  {
   "cell_type": "code",
   "execution_count": 4,
   "metadata": {},
   "outputs": [],
   "source": [
    "dataDF['ctau.1000024'] = 1.967e-16/dataDF['width.1000024']"
   ]
  },
  {
   "cell_type": "code",
   "execution_count": 5,
   "metadata": {},
   "outputs": [],
   "source": [
    "# dataDF.columns.values.tolist()"
   ]
  },
  {
   "cell_type": "markdown",
   "metadata": {},
   "source": [
    "### Get points excluded:"
   ]
  },
  {
   "cell_type": "code",
   "execution_count": 6,
   "metadata": {},
   "outputs": [
    {
     "name": "stdout",
     "output_type": "stream",
     "text": [
      "Total number of points = 47692\n",
      "Total excluded = 3779\n",
      "Total allowed = 43913\n"
     ]
    }
   ],
   "source": [
    "excluded = dataDF[dataDF['excluded'] == True]\n",
    "allowed = dataDF[dataDF['excluded'] == False]\n",
    "print('Total number of points = %i' %len(dataDF))\n",
    "print('Total excluded = %i'%(len(excluded)))\n",
    "print('Total allowed = %i'%(len(allowed)))"
   ]
  },
  {
   "cell_type": "markdown",
   "metadata": {},
   "source": [
    "### Create analysis label for excluded points"
   ]
  },
  {
   "cell_type": "code",
   "execution_count": 7,
   "metadata": {},
   "outputs": [],
   "source": [
    "anas = excluded['ExptRes.result0.AnalysisID'].value_counts()\n",
    "anas.sort_values(inplace=True,ascending=False)\n",
    "labels = []\n",
    "for index, row in excluded.iterrows():\n",
    "    ana = row['ExptRes.result0.AnalysisID']\n",
    "    txList = sorted(row['ExptRes.result0.TxNames'])\n",
    "    label = ana + ' (' + ','.join(txList) + ')'\n",
    "    labels.append(label)\n",
    "excluded['label'] = labels"
   ]
  },
  {
   "cell_type": "code",
   "execution_count": 8,
   "metadata": {},
   "outputs": [
    {
     "name": "stdout",
     "output_type": "stream",
     "text": [
      "['ATLAS-SUSY-2016-06 (TDTM1F,TDTM2F)' 'CMS-SUS-17-004 (TChiWZoff)'\n",
      " 'CMS-SUS-17-004 (TChiWZ)' 'ATLAS-SUSY-2016-24 (TChiWZ)'\n",
      " 'ATLAS-SUSY-2019-08 (TChiWH)' 'ATLAS-SUSY-2018-32 (TChiWW)'\n",
      " 'CMS-SUS-13-006 (TChiWZoff)' 'ATLAS-SUSY-2013-12 (TChiWZ)'\n",
      " 'ATLAS-SUSY-2017-03 (TChiWZ)']\n"
     ]
    }
   ],
   "source": [
    "print(excluded['label'].unique())"
   ]
  },
  {
   "cell_type": "markdown",
   "metadata": {},
   "source": [
    "### Get relevant official exclusion curves"
   ]
  },
  {
   "cell_type": "code",
   "execution_count": 9,
   "metadata": {},
   "outputs": [],
   "source": [
    "excCurves = {}\n",
    "excATLAS = np.genfromtxt('../EWino/data/HEPData-ins1641262-v4-Exclusion_contour_EW_2_obs_conv.txt',\n",
    "                       names=True)\n",
    "\n",
    "excCurves['ATLAS-SUSY-2016-06 (TDTM1F,TDTM2F)'] = np.array(list(zip(excATLAS['mC1_GeV'],1.967e-16/excATLAS['width_GeV'])))\n",
    "\n",
    "\n",
    "excCurves['CMS-SUS-17-004 (TChiWZ)'] =  np.genfromtxt('../EWino/data/CMS_SUS_17_004_TChiWZ_obs.csv', \n",
    "                                                      delimiter=',')\n",
    "excCurves['ATLAS-SUSY-2016-24 (TChiWZ)'] = np.genfromtxt('../EWino/data/HEPData-ins1658902-v1-Table_20.csv',\n",
    "                       delimiter=',', skip_header=9)\n",
    "excCurves['ATLAS-SUSY-2019-08 (TChiWH)'] = np.genfromtxt('../EWino/data/HEPData-ins1755298-v1-Observed_limit_1lbb.csv',\n",
    "                       delimiter=',', skip_header=11)\n",
    "excCurves['ATLAS-SUSY-2018-32 (TChiWW)'] = np.genfromtxt('../EWino/data/HEPData-ins1750597-v1-Exclusion_contour_(obs)_1.csv',\n",
    "                       delimiter=',', skip_header=10)\n",
    "excCurves['CMS-SUS-13-006 (TChiWZoff)'] = np.genfromtxt('../EWino/data/CMS_SUS_13_006_TChiWZ_obs.csv', \n",
    "                                                      delimiter=',')"
   ]
  },
  {
   "cell_type": "markdown",
   "metadata": {},
   "source": [
    "### Select data from allowed points"
   ]
  },
  {
   "cell_type": "code",
   "execution_count": 10,
   "metadata": {},
   "outputs": [
    {
     "name": "stdout",
     "output_type": "stream",
     "text": [
      "75\n"
     ]
    }
   ],
   "source": [
    "dataRed = allowed[(allowed['mass.1000024'] < 750) & (allowed['mass.1000024'] > 650) \n",
    "                  & (allowed['mass.1000022'] < 100)]\n",
    "print(len(dataRed))"
   ]
  },
  {
   "cell_type": "markdown",
   "metadata": {},
   "source": [
    "### Plot BRs"
   ]
  },
  {
   "cell_type": "code",
   "execution_count": 11,
   "metadata": {},
   "outputs": [
    {
     "data": {
      "image/png": "[encoded data removed]",
      "text/plain": [
       "<Figure size 576x432 with 2 Axes>"
      ]
     },
     "metadata": {},
     "output_type": "display_data"
    }
   ],
   "source": [
    "plt.figure(figsize=(8,6))\n",
    "\n",
    "x = dataRed['mass.1000024']\n",
    "y = dataRed['mass.1000022']\n",
    "z = dataRed['BRs.N2.higgs,N1']*dataRed['BRs.C1+.W+,N1']\n",
    "x = x.values[(z.values).argsort()]\n",
    "y = y.values[(z.values).argsort()]\n",
    "z = z.values[(z.values).argsort()]\n",
    "cm = plt.cm.get_cmap('RdYlBu')\n",
    "plt.scatter(x,y,c=z,cmap=cm,s=60,vmin=0.5,vmax=1)\n",
    "\n",
    "\n",
    "curve = excCurves['ATLAS-SUSY-2019-08 (TChiWH)']\n",
    "plt.plot(curve[:,0],curve[:,1],linewidth=3,linestyle='-',color='blue')\n",
    "plt.colorbar(label=r'BR($\\chi_2^0 \\to \\chi_1^0 + h$)')\n",
    "# plt.ylim(0,700)\n",
    "# plt.xlim(0,800)\n",
    "plt.xlabel(r'$\\mathregular{m_{\\tilde{\\chi}_1^\\pm}}$ (GeV)',fontsize = 25)\n",
    "plt.ylabel(r'$\\mathregular{m_{\\tilde{\\chi}_1^0}}$ (GeV)',fontsize = 25)\n",
    "plt.tight_layout()\n",
    "plt.show()"
   ]
  },
  {
   "cell_type": "code",
   "execution_count": 12,
   "metadata": {},
   "outputs": [],
   "source": [
    "### NLL xsecs:\n",
    "NLLxsec = np.array([[650,13.7303],[675.0,11.3975],[700.,9.51032],[725,7.9595],[750,6.69356]])\n",
    "xsecNLLf = interp1d(NLLxsec[:,0],NLLxsec[:,1])"
   ]
  },
  {
   "cell_type": "code",
   "execution_count": 13,
   "metadata": {},
   "outputs": [
    {
     "name": "stdout",
     "output_type": "stream",
     "text": [
      "ew_ko3il77e.slha\n",
      "masses = 663.06 (C1), 663.06 (N2)\n",
      "xsec= 11.870, BR = 0.83\n",
      "k(NLL/NLO) = 1.05\n",
      "r= 0.97, r(NLL) = 1.03, r(NLL+BR) = 1.24\n",
      "\n",
      "\n",
      "ew_vuollfqm.slha\n",
      "masses = 697.32 (C1), 697.32 (N2)\n",
      "xsec= 8.890, BR = 0.87\n",
      "k(NLL/NLO) = 1.09\n",
      "r= 0.97, r(NLL) = 1.06, r(NLL+BR) = 1.22\n",
      "\n",
      "\n",
      "ew_k8jozrqi.slha\n",
      "masses = 666.04 (C1), 666.04 (N2)\n",
      "xsec= 11.440, BR = 0.80\n",
      "k(NLL/NLO) = 1.07\n",
      "r= 0.96, r(NLL) = 1.03, r(NLL+BR) = 1.29\n",
      "\n",
      "\n",
      "ew_jqyr1y_j.slha\n",
      "masses = 681.29 (C1), 681.29 (N2)\n",
      "xsec= 10.120, BR = 0.89\n",
      "k(NLL/NLO) = 1.08\n",
      "r= 0.96, r(NLL) = 1.04, r(NLL+BR) = 1.17\n",
      "\n",
      "\n",
      "ew_19yj9ysz.slha\n",
      "masses = 704.84 (C1), 704.84 (N2)\n",
      "xsec= 8.870, BR = 0.85\n",
      "k(NLL/NLO) = 1.04\n",
      "r= 0.95, r(NLL) = 0.99, r(NLL+BR) = 1.17\n",
      "\n",
      "\n",
      "ew_b0dbo4so.slha\n",
      "masses = 704.53 (C1), 704.53 (N2)\n",
      "xsec= 8.870, BR = 0.91\n",
      "k(NLL/NLO) = 1.04\n",
      "r= 0.94, r(NLL) = 0.98, r(NLL+BR) = 1.08\n",
      "\n",
      "\n",
      "ew_56j5w2ky.slha\n",
      "masses = 702.88 (C1), 702.88 (N2)\n",
      "xsec= 8.600, BR = 0.84\n",
      "k(NLL/NLO) = 1.09\n",
      "r= 0.94, r(NLL) = 1.02, r(NLL+BR) = 1.22\n",
      "\n",
      "\n",
      "ew_qvtrv_4v.slha\n",
      "masses = 723.67 (C1), 723.67 (N2)\n",
      "xsec= 7.590, BR = 0.89\n",
      "k(NLL/NLO) = 1.06\n",
      "r= 0.91, r(NLL) = 0.97, r(NLL+BR) = 1.09\n",
      "\n",
      "\n",
      "ew_36u0odgh.slha\n",
      "masses = 677.68 (C1), 677.68 (N2)\n",
      "xsec= 10.590, BR = 0.76\n",
      "k(NLL/NLO) = 1.06\n",
      "r= 0.90, r(NLL) = 0.95, r(NLL+BR) = 1.26\n",
      "\n",
      "\n",
      "ew_dwgl6dst.slha\n",
      "masses = 670.45 (C1), 670.45 (N2)\n",
      "xsec= 10.820, BR = 0.83\n",
      "k(NLL/NLO) = 1.09\n",
      "r= 0.90, r(NLL) = 0.99, r(NLL+BR) = 1.19\n",
      "\n",
      "\n",
      "ew_g1imv1_5.slha\n",
      "masses = 669.91 (C1), 669.91 (N2)\n",
      "xsec= 11.010, BR = 0.76\n",
      "k(NLL/NLO) = 1.08\n",
      "r= 0.90, r(NLL) = 0.97, r(NLL+BR) = 1.28\n",
      "\n",
      "\n",
      "ew_yjj58h24.slha\n",
      "masses = 686.01 (C1), 686.01 (N2)\n",
      "xsec= 10.050, BR = 0.79\n",
      "k(NLL/NLO) = 1.05\n",
      "r= 0.90, r(NLL) = 0.94, r(NLL+BR) = 1.19\n",
      "\n",
      "\n",
      "ew_v3jaedmh.slha\n",
      "masses = 704.03 (C1), 704.03 (N2)\n",
      "xsec= 8.910, BR = 0.88\n",
      "k(NLL/NLO) = 1.04\n",
      "r= 0.90, r(NLL) = 0.93, r(NLL+BR) = 1.05\n",
      "\n",
      "\n",
      "ew_5ev7ct85.slha\n",
      "masses = 714.19 (C1), 714.19 (N2)\n",
      "xsec= 8.170, BR = 0.84\n",
      "k(NLL/NLO) = 1.06\n",
      "r= 0.89, r(NLL) = 0.94, r(NLL+BR) = 1.12\n",
      "\n",
      "\n",
      "ew_r6rz4qkh.slha\n",
      "masses = 691.31 (C1), 691.31 (N2)\n",
      "xsec= 9.300, BR = 0.77\n",
      "k(NLL/NLO) = 1.09\n",
      "r= 0.88, r(NLL) = 0.96, r(NLL+BR) = 1.25\n",
      "\n",
      "\n",
      "ew_qvyf3u0a.slha\n",
      "masses = 718.31 (C1), 718.31 (N2)\n",
      "xsec= 7.870, BR = 0.91\n",
      "k(NLL/NLO) = 1.06\n",
      "r= 0.87, r(NLL) = 0.93, r(NLL+BR) = 1.02\n",
      "\n",
      "\n",
      "ew_qpyaxo4t.slha\n",
      "masses = 696.41 (C1), 696.41 (N2)\n",
      "xsec= 8.750, BR = 0.79\n",
      "k(NLL/NLO) = 1.12\n",
      "r= 0.87, r(NLL) = 0.97, r(NLL+BR) = 1.23\n",
      "\n",
      "\n",
      "ew_u4lz8g2g.slha\n",
      "masses = 679.08 (C1), 679.08 (N2)\n",
      "xsec= 10.320, BR = 0.73\n",
      "k(NLL/NLO) = 1.07\n",
      "r= 0.85, r(NLL) = 0.91, r(NLL+BR) = 1.24\n",
      "\n",
      "\n",
      "ew_plq2giij.slha\n",
      "masses = 739.30 (C1), 739.30 (N2)\n",
      "xsec= 6.840, BR = 0.90\n",
      "k(NLL/NLO) = 1.06\n",
      "r= 0.85, r(NLL) = 0.90, r(NLL+BR) = 0.99\n",
      "\n",
      "\n",
      "ew_3m_nvdw3.slha\n",
      "masses = 706.42 (C1), 706.42 (N2)\n",
      "xsec= 8.600, BR = 0.86\n",
      "k(NLL/NLO) = 1.06\n",
      "r= 0.84, r(NLL) = 0.89, r(NLL+BR) = 1.04\n",
      "\n",
      "\n",
      "ew_4b7yir31.slha\n",
      "masses = 659.18 (C1), 659.18 (N2)\n",
      "xsec= 11.410, BR = 0.73\n",
      "k(NLL/NLO) = 1.13\n",
      "r= 0.84, r(NLL) = 0.95, r(NLL+BR) = 1.31\n",
      "\n",
      "\n",
      "ew_ys_4tkmp.slha\n",
      "masses = 682.65 (C1), 682.65 (N2)\n",
      "xsec= 10.110, BR = 0.78\n",
      "k(NLL/NLO) = 1.07\n",
      "r= 0.82, r(NLL) = 0.88, r(NLL+BR) = 1.12\n",
      "\n",
      "\n",
      "ew_zrybabhc.slha\n",
      "masses = 717.20 (C1), 717.20 (N2)\n",
      "xsec= 7.880, BR = 0.85\n",
      "k(NLL/NLO) = 1.07\n",
      "r= 0.82, r(NLL) = 0.88, r(NLL+BR) = 1.03\n",
      "\n",
      "\n",
      "ew_cyrwslel.slha\n",
      "masses = 717.01 (C1), 717.01 (N2)\n",
      "xsec= 7.860, BR = 0.78\n",
      "k(NLL/NLO) = 1.08\n",
      "r= 0.82, r(NLL) = 0.88, r(NLL+BR) = 1.13\n",
      "\n",
      "\n",
      "ew_nu4v1fjo.slha\n",
      "masses = 730.62 (C1), 730.62 (N2)\n",
      "xsec= 7.120, BR = 0.83\n",
      "k(NLL/NLO) = 1.08\n",
      "r= 0.81, r(NLL) = 0.87, r(NLL+BR) = 1.06\n",
      "\n",
      "\n",
      "ew_9e2kukkw.slha\n",
      "masses = 702.19 (C1), 702.19 (N2)\n",
      "xsec= 8.520, BR = 0.74\n",
      "k(NLL/NLO) = 1.10\n",
      "r= 0.81, r(NLL) = 0.89, r(NLL+BR) = 1.21\n",
      "\n",
      "\n",
      "ew_5tbyyn4o.slha\n",
      "masses = 749.74 (C1), 749.74 (N2)\n",
      "xsec= 6.390, BR = 0.87\n",
      "k(NLL/NLO) = 1.05\n",
      "r= 0.79, r(NLL) = 0.83, r(NLL+BR) = 0.95\n",
      "\n",
      "\n",
      "ew_hdphpw7p.slha\n",
      "masses = 738.61 (C1), 738.61 (N2)\n",
      "xsec= 6.800, BR = 0.79\n",
      "k(NLL/NLO) = 1.07\n",
      "r= 0.74, r(NLL) = 0.79, r(NLL+BR) = 1.00\n",
      "\n",
      "\n",
      "ew_ugl4zl06.slha\n",
      "masses = 735.15 (C1), 735.15 (N2)\n",
      "xsec= 6.820, BR = 0.76\n",
      "k(NLL/NLO) = 1.09\n",
      "r= 0.72, r(NLL) = 0.78, r(NLL+BR) = 1.03\n",
      "\n",
      "\n",
      "ew_wj0b7fcm.slha\n",
      "masses = 672.23 (C1), 672.23 (N2)\n",
      "xsec= 8.399, BR = 0.80\n",
      "k(NLL/NLO) = 1.39\n",
      "r= 0.71, r(NLL) = 0.99, r(NLL+BR) = 1.23\n",
      "\n",
      "\n",
      "ew_g79kld6i.slha\n",
      "masses = 742.15 (C1), 742.15 (N2)\n",
      "xsec= 6.380, BR = 0.72\n",
      "k(NLL/NLO) = 1.11\n",
      "r= 0.65, r(NLL) = 0.72, r(NLL+BR) = 0.99\n",
      "\n",
      "\n"
     ]
    }
   ],
   "source": [
    "#Get points with large BR:\n",
    "dataRed2 = dataRed[dataRed['BRs.N2.higgs,N1'] > 0.7]\n",
    "\n",
    "\n",
    "axislabels = {'extpar.1' : r'$\\mathregular{M_1}$ (GeV)',\n",
    "              'extpar.2' : r'$\\mathregular{M_2}$ (GeV)',\n",
    "              'extpar.23' : r'$\\mathregular{\\mu}$ (GeV)'}\n",
    "\n",
    "for i,pt in dataRed2.iterrows():\n",
    "    M1 = pt['extpar.1']\n",
    "    M2 = pt['extpar.2']\n",
    "    mu = pt['extpar.23']\n",
    "    \n",
    "    if mu < M2: continue #Remove higgsino points\n",
    "        \n",
    "        \n",
    "    xsec = (pt['xsec13TeV(fb).1000023_1000024']+pt['xsec13TeV(fb).-1000024_1000023'])\n",
    "    BR = pt['BRs.N2.higgs,N1']*pt['BRs.C1+.W+,N1']\n",
    "    massC1 = pt['mass.1000023']\n",
    "    massN2 = pt['mass.1000023']\n",
    "    xsecNLL = xsecNLLf(massC1)\n",
    "    kNLL = xsecNLL/xsec\n",
    "    print(pt['filename'])\n",
    "    print('masses = %1.2f (C1), %1.2f (N2)' %(massC1,massN2))\n",
    "    print('xsec= %1.3f, BR = %1.2f' %(xsec,BR))\n",
    "    print('k(NLL/NLO) = %1.2f' %(kNLL))\n",
    "    print('r= %1.2f, r(NLL) = %1.2f, r(NLL+BR) = %1.2f' %(pt['ExptRes.result0.r'],pt['ExptRes.result0.r']*kNLL,\n",
    "                                                     pt['ExptRes.result0.r']*kNLL/BR))\n",
    "    print('\\n')"
   ]
  },
  {
   "cell_type": "code",
   "execution_count": null,
   "metadata": {},
   "outputs": [],
   "source": []
  },
  {
   "cell_type": "code",
   "execution_count": null,
   "metadata": {},
   "outputs": [],
   "source": []
  }
 ],
 "metadata": {
  "kernelspec": {
   "display_name": "Python 3",
   "language": "python",
   "name": "python3"
  },
  "language_info": {
   "codemirror_mode": {
    "name": "ipython",
    "version": 3
   },
   "file_extension": ".py",
   "mimetype": "text/x-python",
   "name": "python",
   "nbconvert_exporter": "python",
   "pygments_lexer": "ipython3",
   "version": "3.8.10"
  }
 },
 "nbformat": 4,
 "nbformat_minor": 2
}
