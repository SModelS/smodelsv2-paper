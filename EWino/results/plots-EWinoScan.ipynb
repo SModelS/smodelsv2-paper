{
 "cells": [
  {
   "cell_type": "markdown",
   "metadata": {},
   "source": [
    "# Plots for the paper concerning the EWino scan"
   ]
  },
  {
   "cell_type": "code",
   "execution_count": 1,
   "metadata": {},
   "outputs": [],
   "source": [
    "import warnings\n",
    "warnings.filterwarnings(\"ignore\", message=\"numpy.dtype size changed\")\n",
    "import numpy as np\n",
    "import pandas as pd\n",
    "import glob,imp,os,shutil\n",
    "from pandas.io.json import json_normalize\n",
    "import pyslha\n",
    "import matplotlib as mpl\n",
    "import matplotlib.pyplot as plt\n",
    "from matplotlib.colors import LogNorm\n",
    "from collections import OrderedDict\n",
    "import seaborn as sns\n",
    "from scipy.interpolate import interp1d\n",
    "from IPython.display import display, Markdown\n",
    "\n",
    "pd.option_context('display.max_columns', -1)\n",
    "\n",
    "pd.options.mode.chained_assignment = None #Disable copy warnings\n",
    "# plt.style.use('fivethirtyeight') #Set style\n",
    "# mpl.rcParams.update({'figure.figsize' : (15,10)})  #Set general plotting options\n",
    "plt.rcParams.update({\n",
    "    \"text.usetex\": True,\n",
    "    \"font.family\": \"sans-serif\",\n",
    "    \"font.sans-serif\": [\"Helvetica\"]})\n",
    "\n",
    "plt.rcParams.update({\"savefig.dpi\" : 300}) #Figure resolution\n",
    "\n",
    "\n",
    "#Define plotting style:\n",
    "sns.set() #Set style\n",
    "sns.set_style('ticks',{'font.family':'Times New Roman', 'font.serif':'Times New Roman'})\n",
    "sns.set_context('paper', font_scale=1.8)\n",
    "cm = plt.cm.get_cmap('RdYlBu')"
   ]
  },
  {
   "cell_type": "markdown",
   "metadata": {},
   "source": [
    "#### Create txname/process translator"
   ]
  },
  {
   "cell_type": "code",
   "execution_count": 2,
   "metadata": {},
   "outputs": [],
   "source": [
    "processDict = {'TChiWZ' : r'$\\tilde{\\chi}_1^\\pm \\, \\tilde{\\chi}_2^0 \\to W^{(*)} Z^{(*)}\\, \\tilde{\\chi}_1^0 \\tilde{\\chi}_1^0$',\n",
    "              'TChiWH' : r'$\\tilde{\\chi}_1^\\pm \\, \\tilde{\\chi}_2^0 \\to W h\\, \\tilde{\\chi}_1^0 \\tilde{\\chi}_1^0$',\n",
    "              'TChiWW' : r'$\\tilde{\\chi}_1^\\pm \\, \\tilde{\\chi}_1^\\mp \\to W W \\, \\tilde{\\chi}_1^0 \\tilde{\\chi}_1^0$',\n",
    "              'TDTM1F,TDTM2F' : r'$\\tilde{\\chi}_1^\\pm \\to \\pi^\\pm \\tilde{\\chi}_1^0$, DT'}\n",
    "def convertLabel(label):\n",
    "    newlabel = label[:]\n",
    "    #Replace txnames by process\n",
    "    for txlabel,proc in processDict.items():\n",
    "        newlabel = newlabel.replace(txlabel,proc) \n",
    "    #Remove off-shell Ws and Zs from ATLAS analyses (since they only appear in on-shell cases)\n",
    "    if 'ATLAS' in newlabel:\n",
    "        newlabel = newlabel.replace('W^{(*)} Z^{(*)}', 'W Z')\n",
    "    return newlabel"
   ]
  },
  {
   "cell_type": "code",
   "execution_count": null,
   "metadata": {},
   "outputs": [],
   "source": [
    "#Merge with SModelS DataFrame\n",
    "dataDF = pd.read_pickle('EWino_scanRandom.pcl')\n",
    "# print(dataDF.columns.values.tolist()) #Print all columns names"
   ]
  },
  {
   "cell_type": "markdown",
   "metadata": {},
   "source": [
    "#### Set r = 0 for points with no results "
   ]
  },
  {
   "cell_type": "code",
   "execution_count": null,
   "metadata": {},
   "outputs": [],
   "source": [
    "#Set points without results with r == 0\n",
    "dataDF.fillna(value={'ExptRes.result0.r' : 0.0},inplace=True)\n",
    "#Sort points according to r value:\n",
    "dataDF = dataDF.sort_values(by=['ExptRes.result0.r'],ascending=False)"
   ]
  },
  {
   "cell_type": "markdown",
   "metadata": {},
   "source": [
    "#### Define exclusions"
   ]
  },
  {
   "cell_type": "code",
   "execution_count": null,
   "metadata": {},
   "outputs": [],
   "source": [
    "#Add simple flag for excluded points:\n",
    "dataDF['excludedLHC'] = dataDF['ExptRes.result0.r'] > 1.0\n",
    "dataDF['excludedRelic'] = dataDF['Omega'] > 0.13\n",
    "#Xenon 1T curve (from micromegas):\n",
    "data_1t_lnM = [1.790E+00, 1.885E+00, 2.006E+00, 2.148E+00, 2.297E+00, 2.449E+00, 2.598E+00, 2.783E+00, 2.961E+00, 3.117E+00, 3.302E+00, 3.444E+00, 3.614E+00, 3.796E+00, 4.037E+00, 4.268E+00, 4.581E+00, 4.904E+00, 5.178E+00, 5.441E+00, 5.768E+00, 6.095E+00, 6.369E+00, 6.550E+00, 6.891E+00]\n",
    "data_1t_lnS = [1.040E+00, 2.794E-02,-1.003E+00,-2.035E+00,-2.888E+00,-3.591E+00,-4.144E+00,-4.717E+00,-5.111E+00,-5.326E+00,-5.458E+00,-5.486E+00,-5.440E+00,-5.375E+00,-5.178E+00,-4.982E+00,-4.711E+00,-4.412E+00,-4.150E+00,-3.925E+00,-3.598E+00,-3.270E+00,-3.009E+00,-2.812E+00,-2.485E+00]\n",
    "xenonF = interp1d(data_1t_lnM,data_1t_lnS,\n",
    "                  bounds_error=False,fill_value=\"extrapolate\") #interpolate in log\n",
    "@np.vectorize\n",
    "def xenonUL(mDM):\n",
    "    return 1e-8*np.exp(xenonF(np.log(mDM))) #90% upper limit on sigmaNucleon (pb)\n",
    "\n",
    "rDD = (dataDF['Omega']/0.12)*(dataDF['proton_SI']+dataDF['neutron_SI'])/2.0\n",
    "rDD = rDD/xenonUL(dataDF['mass.1000022'])\n",
    "dataDF['excludedDD'] = (rDD > 1)"
   ]
  },
  {
   "cell_type": "markdown",
   "metadata": {},
   "source": [
    "#### Add c*tau column for charginos"
   ]
  },
  {
   "cell_type": "code",
   "execution_count": null,
   "metadata": {},
   "outputs": [],
   "source": [
    "dataDF['ctau.1000024'] = 1.967e-16/dataDF['width.1000024']"
   ]
  },
  {
   "cell_type": "markdown",
   "metadata": {},
   "source": [
    "### Get points excluded:"
   ]
  },
  {
   "cell_type": "code",
   "execution_count": null,
   "metadata": {},
   "outputs": [],
   "source": [
    "excluded = dataDF[dataDF['excludedLHC'] == True]\n",
    "# excludedDM = dataDF[(dataDF['excludedLHC'] == False) & (dataDF['excludedRelic'] == True)]\n",
    "# excludedDD = dataDF[(dataDF['excludedLHC'] == False) & (dataDF['excludedRelic'] == False) \n",
    "#                     & (dataDF['excludedDD'] == True)]\n",
    "\n",
    "excludedDM = dataDF[(dataDF['excludedRelic'] == True)]\n",
    "excludedDD = dataDF[(dataDF['excludedDD'] == True)]\n",
    "\n",
    "\n",
    "allowed = dataDF[(dataDF['excludedLHC'] == False) & (dataDF['excludedRelic'] == False) \n",
    "                 & (dataDF['excludedDD'] == False)]\n",
    "\n",
    "allowedLHC = dataDF[(dataDF['excludedLHC'] == False)]\n",
    "\n",
    "\n",
    "print('Total number of points = %i' %len(dataDF))\n",
    "print('Total excluded (LHC) = %i'%(len(excluded)))\n",
    "print('Total excluded (relic) = %i'%(len(excludedDM)))\n",
    "print('Total excluded (DD) = %i'%(len(excludedDD)))\n",
    "print('Total allowed = %i\\n'%(len(allowed)))\n",
    "\n",
    "# print('Total excluded (r > %1.2f) = %i'%(rscale,len(excludedSC)))\n",
    "# print('Total allowed (r > %1.2f) = %i'%(rscale,len(allowedSC)))\n"
   ]
  },
  {
   "cell_type": "markdown",
   "metadata": {},
   "source": [
    "### Create analysis label for excluded points"
   ]
  },
  {
   "cell_type": "code",
   "execution_count": null,
   "metadata": {},
   "outputs": [],
   "source": [
    "anas = excluded['ExptRes.result0.AnalysisID'].value_counts()\n",
    "anas.sort_values(inplace=True,ascending=False)\n",
    "\n",
    "    \n",
    "labels = []\n",
    "for index, row in excluded.iterrows():\n",
    "    ana = row['ExptRes.result0.AnalysisID']\n",
    "    txList = sorted(row['ExptRes.result0.TxNames'])\n",
    "    label = ana + ' (' + ','.join(txList) + ')'\n",
    "    label = label.replace('off','') #Group together on and off-shell topologies\n",
    "    labels.append(label)\n",
    "excluded['label'] = labels\n"
   ]
  },
  {
   "cell_type": "code",
   "execution_count": null,
   "metadata": {},
   "outputs": [],
   "source": [
    "nexcluded = [[len(excluded[excluded['label'] == label]),label] for label in excluded['label'].unique()]\n",
    "nexcluded = sorted(nexcluded,reverse=True)\n",
    "nexcluded = np.array(nexcluded)\n",
    "for label in nexcluded[:,1]:\n",
    "    print(label+': %i'%len(excluded[excluded['label'] == label]))"
   ]
  },
  {
   "cell_type": "markdown",
   "metadata": {},
   "source": [
    "### Define colors and plotting order"
   ]
  },
  {
   "cell_type": "code",
   "execution_count": null,
   "metadata": {},
   "outputs": [],
   "source": [
    "colors = sns.color_palette(\"Paired\",len(excluded['label'].unique()))\n",
    "colorsPink = sns.color_palette(\"colorblind\",8)\n",
    "colorDict = {'ATLAS-SUSY-2016-06 (TDTM1F,TDTM2F)' : colorsPink[4], #light pink\n",
    "             'ATLAS-SUSY-2019-08 (TChiWH)' : colors[5], #red\n",
    "             'CMS-SUS-17-004 (TChiWZ)' : colors[1], #dark blue\n",
    "             'ATLAS-SUSY-2018-32 (TChiWW)' : colors[3], #dark green\n",
    "             'ATLAS-SUSY-2018-06 (TChiWZ)' : colors[0], #light blue\n",
    "             'CMS-EXO-19-010 (TDTM1F,TDTM2F)' : colorsPink[6], #dark pink\n",
    "             'Other' : colors[9] #dark purple\n",
    "             }\n",
    "#Define plotting order:\n",
    "plottingOrder = ['ATLAS-SUSY-2016-06 (TDTM1F,TDTM2F)','CMS-EXO-19-010 (TDTM1F,TDTM2F)',\n",
    "                 'ATLAS-SUSY-2019-08 (TChiWH)', 'CMS-SUS-17-004 (TChiWZ)',\n",
    "                 'ATLAS-SUSY-2018-06 (TChiWZ)','ATLAS-SUSY-2018-32 (TChiWW)']\n",
    "#Add other analyses\n",
    "for ana in excluded['label'].unique():\n",
    "    if not ana in plottingOrder:\n",
    "        plottingOrder.append(ana)"
   ]
  },
  {
   "cell_type": "markdown",
   "metadata": {},
   "source": [
    "### Get relevant official exclusion curves"
   ]
  },
  {
   "cell_type": "code",
   "execution_count": null,
   "metadata": {},
   "outputs": [],
   "source": [
    "excCurves = {}\n",
    "excATLAS = np.genfromtxt('../data/HEPData-ins1641262-v4-Exclusion_contour_EW_2_obs_conv.txt',\n",
    "                       names=True)\n",
    "\n",
    "excCurves['ATLAS-SUSY-2016-06 (TDTM1F,TDTM2F)'] = np.array(list(zip(excATLAS['mC1_GeV'],1.967e-16/excATLAS['width_GeV'])))\n",
    "\n",
    "\n",
    "excCurves['CMS-SUS-17-004 (TChiWZ)'] =  np.genfromtxt('../data/CMS_SUS_17_004_TChiWZ_obs.csv', \n",
    "                                                      delimiter=',')\n",
    "excCurves['ATLAS-SUSY-2016-24 (TChiWZ)'] = np.genfromtxt('../data/HEPData-ins1658902-v1-Table_20.csv',\n",
    "                       delimiter=',', skip_header=9)\n",
    "excCurves['ATLAS-SUSY-2019-08 (TChiWH)'] = np.genfromtxt('../data/HEPData-ins1755298-v1-Observed_limit_1lbb.csv',\n",
    "                       delimiter=',', skip_header=11)\n",
    "excCurves['ATLAS-SUSY-2018-32 (TChiWW)'] = np.genfromtxt('../data/HEPData-ins1750597-v1-Exclusion_contour_(obs)_1.csv',\n",
    "                       delimiter=',', skip_header=10)\n",
    "excCurves['CMS-SUS-13-006 (TChiWZ)'] = np.genfromtxt('../data/CMS_SUS_13_006_TChiWZ_obs.csv', \n",
    "                                                      delimiter=',')\n",
    "\n",
    "excCurves['CMS-EXO-19-010 (TDTM1F,TDTM2F)'] = np.genfromtxt('../data/CMS_SUS_19_010_TChiWZ_obs.csv', \n",
    "                                                      delimiter=',')\n",
    "#Fix column order:\n",
    "excCurves['CMS-EXO-19-010 (TDTM1F,TDTM2F)'][:,[0,1]] = excCurves['CMS-EXO-19-010 (TDTM1F,TDTM2F)'][:,[1,0]]\n",
    "#Convert width to lifetime\n",
    "excCurves['CMS-EXO-19-010 (TDTM1F,TDTM2F)'][:,1]= 1.967e-16/excCurves['CMS-EXO-19-010 (TDTM1F,TDTM2F)'][:,1]\n"
   ]
  },
  {
   "cell_type": "markdown",
   "metadata": {},
   "source": [
    "### Chargino lifetime"
   ]
  },
  {
   "cell_type": "code",
   "execution_count": null,
   "metadata": {},
   "outputs": [],
   "source": [
    "cm = plt.cm.get_cmap('RdYlBu_r')\n",
    "plt.figure(figsize=(10,6))\n",
    "x = dataDF['extpar.2']/dataDF['extpar.23']\n",
    "y = dataDF['extpar.2']/dataDF['extpar.1']\n",
    "c = dataDF['ctau.1000024']\n",
    "x = x[c.argsort()]\n",
    "y = y[c.argsort()]\n",
    "c = c[c.argsort()]\n",
    "\n",
    "plt.scatter(x,y,c=c,s=20,cmap=cm, norm=LogNorm(vmin=1e-8,vmax=1e-1))\n",
    "# plt.plot([x.min(),x.max()],[x.min(),x.max()],'--')\n",
    "plt.colorbar(label=r'$c\\tau$ (m)')\n",
    "plt.xlabel(r'$M_2/\\mu$ (GeV)')\n",
    "plt.ylabel(r'$M_2/M_1$ (GeV)')\n",
    "# plt.ylim(-1,10)\n",
    "plt.xscale('log')\n",
    "plt.yscale('log')\n",
    "plt.text(0.7,10.0,r\"{\\bf Bino LSP}\",fontsize=16,color='white')\n",
    "plt.text(0.05,0.1,r\"{\\bf Wino LSP}\",fontsize=16,color='white')\n",
    "plt.text(2.,0.6,r\"{\\bf Higgsino LSP}\",fontsize=16)\n",
    "\n",
    "plt.tight_layout()\n",
    "plt.savefig('charginoLifetime.png')\n",
    "plt.show()"
   ]
  },
  {
   "cell_type": "code",
   "execution_count": null,
   "metadata": {},
   "outputs": [],
   "source": [
    "print(dataDF['ctau.1000024'].max())"
   ]
  },
  {
   "cell_type": "markdown",
   "metadata": {},
   "source": [
    "### Neutralino Branching ratio"
   ]
  },
  {
   "cell_type": "code",
   "execution_count": null,
   "metadata": {},
   "outputs": [],
   "source": [
    "deleteCurves = ['CMS-EXO-19-010','ATLAS-SUSY-2016-06','ATLAS-SUSY-2016-24','CMS-SUS-13-006']\n",
    "anas = excluded['label'].value_counts()\n",
    "anas.sort_values(inplace=True,ascending=False)\n",
    "\n",
    "plt.figure(figsize=(10,6))\n",
    "\n",
    "\n",
    "\n",
    "cm = plt.cm.get_cmap('RdYlBu_r')\n",
    "x = dataDF['mass.1000024']\n",
    "y = dataDF['mass.1000022']\n",
    "c = dataDF['BRs.N2.Z,N1']\n",
    "for ana in anas.index:\n",
    "    if not ana in excCurves: continue\n",
    "    if any(val in ana for val in deleteCurves): continue\n",
    "    curve = excCurves[ana]\n",
    "    color = colorDict[ana]\n",
    "    plt.plot(curve[:,0],curve[:,1],linewidth=3,linestyle='-',color=color)\n",
    "\n",
    "plt.scatter(x,y,c=c,s=50,cmap=cm)\n",
    "# plt.plot([x.min(),x.max()],[x.min(),x.max()],'--')\n",
    "plt.colorbar(label=r'$BR(\\tilde \\chi_2^0 \\to \\tilde \\chi_1^0 +Z)$')\n",
    "plt.xlabel(r'$m_{\\tilde{\\chi}_1^\\pm}$ (GeV)')\n",
    "plt.ylabel(r'$m_{\\tilde{\\chi}_1^0}$ (GeV)')\n",
    "plt.ylim(0,600)\n",
    "plt.xlim(0,800)\n",
    "plt.tight_layout()\n",
    "plt.show()"
   ]
  },
  {
   "cell_type": "code",
   "execution_count": null,
   "metadata": {},
   "outputs": [],
   "source": [
    "deleteCurves = ['CMS-EXO-19-010','ATLAS-SUSY-2016-06','ATLAS-SUSY-2016-24','CMS-SUS-13-006']\n",
    "anas = excluded['label'].value_counts()\n",
    "anas.sort_values(inplace=True,ascending=False)\n",
    "\n",
    "plt.figure(figsize=(10,6))\n",
    "\n",
    "\n",
    "\n",
    "cm = plt.cm.get_cmap('RdYlBu_r')\n",
    "x = dataDF['mass.1000024']\n",
    "y = dataDF['mass.1000022']\n",
    "c = dataDF['BRs.N2.higgs,N1']\n",
    "for ana in anas.index:\n",
    "    if not ana in excCurves: continue\n",
    "    if any(val in ana for val in deleteCurves): continue\n",
    "    curve = excCurves[ana]\n",
    "    color = colorDict[ana]\n",
    "    plt.plot(curve[:,0],curve[:,1],linewidth=3,linestyle='-',color=color)\n",
    "\n",
    "plt.scatter(x,y,c=c,s=50,cmap=cm)\n",
    "# plt.plot([x.min(),x.max()],[x.min(),x.max()],'--')\n",
    "plt.colorbar(label=r'$BR(\\tilde \\chi_2^0 \\to \\tilde \\chi_1^0 +H)$')\n",
    "plt.xlabel(r'$m_{\\tilde{\\chi}_1^\\pm}$ (GeV)')\n",
    "plt.ylabel(r'$m_{\\tilde{\\chi}_1^0}$ (GeV)')\n",
    "plt.ylim(0,600)\n",
    "plt.xlim(0,800)\n",
    "plt.tight_layout()\n",
    "plt.show()"
   ]
  },
  {
   "cell_type": "markdown",
   "metadata": {},
   "source": [
    "### Plot excluded points grouped by most excluding analysis"
   ]
  },
  {
   "cell_type": "code",
   "execution_count": null,
   "metadata": {},
   "outputs": [],
   "source": [
    "anas = excluded['label'].value_counts()\n",
    "anas.sort_values(inplace=True,ascending=False)\n",
    "\n",
    "plt.figure(figsize=(10,6))\n",
    "\n",
    "x = allowedLHC['mass.1000024']\n",
    "y = allowedLHC['ctau.1000024']\n",
    "c_other = 'lightgray'\n",
    "plt.scatter(x,y,color=c_other,label='All',s=60)\n",
    "\n",
    "otherLabel = 'Others'\n",
    "for ana in plottingOrder:\n",
    "    x = excluded[excluded['label'] == ana]['mass.1000024']\n",
    "    y = excluded[excluded['label'] == ana]['ctau.1000024']\n",
    "    if not ana in colorDict:\n",
    "        color = colorDict['Other']        \n",
    "        plt.scatter(x,y,color=color,label=otherLabel,s=60)\n",
    "        otherLabel = None #suppress repeated label\n",
    "    else:\n",
    "        color = colorDict[ana]\n",
    "        label = convertLabel(ana)\n",
    "        plt.scatter(x,y,color=color,label=label,s=60)\n",
    "\n",
    "    \n",
    "    \n",
    "    \n",
    "#Add official DT exclusion curve\n",
    "offExc = excCurves['ATLAS-SUSY-2016-06 (TDTM1F,TDTM2F)']\n",
    "c = colorDict['ATLAS-SUSY-2016-06 (TDTM1F,TDTM2F)']\n",
    "plt.plot(offExc[:,0],offExc[:,1],label='ATLAS-SUSY-2016-06 (DT)',linewidth=3,linestyle='-',color='black')\n",
    "offExc = excCurves['CMS-EXO-19-010 (TDTM1F,TDTM2F)']\n",
    "c = colorDict['CMS-EXO-19-010 (TDTM1F,TDTM2F)']\n",
    "plt.plot(offExc[:,0],offExc[:,1],label='CMS-EXO-19-010 (DT)',linewidth=3,linestyle='--',color='black')\n",
    "\n",
    "lgd = plt.legend(loc=(0.65,0.4), framealpha=1.,fontsize=15)\n",
    "plt.yscale('log')\n",
    "plt.ylim(1e-16,10)\n",
    "# plt.ylim(1e-2,0.1)\n",
    "plt.xlim(0,1000)\n",
    "# plt.xticks([0,200.,300.,400.,450.,500.,550.])\n",
    "# plt.grid()\n",
    "plt.xlabel(r'$m_{\\tilde{\\chi}_1^\\pm}$ (GeV)')\n",
    "plt.ylabel(r'$c \\tau_{\\tilde{\\chi}_1^\\pm}$ (m)')\n",
    "plt.yticks([1e-16,1e-14,1e-12,1e-10,1e-8,1e-6,1e-4,1e-2,1e0])\n",
    "plt.tight_layout()\n",
    "plt.savefig('EWino_exclusion_ctau.png')\n",
    "plt.show()"
   ]
  },
  {
   "cell_type": "code",
   "execution_count": null,
   "metadata": {},
   "outputs": [],
   "source": [
    "anas = excluded['label'].value_counts()\n",
    "anas.sort_values(inplace=True,ascending=False)\n",
    "\n",
    "plt.figure(figsize=(10,6))\n",
    "\n",
    "x = allowedLHC['mass.1000024']\n",
    "y = allowedLHC['mass.1000022']\n",
    "plt.scatter(x,y,color=c_other,label='All',s=60)\n",
    "\n",
    "\n",
    "deleteCurves = ['CMS-EXO-19-010','ATLAS-SUSY-2016-06','ATLAS-SUSY-2016-24','CMS-SUS-13-006']\n",
    "\n",
    "otherLabel = 'Others'\n",
    "for ana in plottingOrder:\n",
    "    x = excluded[excluded['label'] == ana]['mass.1000024']\n",
    "    y = excluded[excluded['label'] == ana]['mass.1000022']\n",
    "    if not ana in colorDict:\n",
    "        color = colorDict['Other']        \n",
    "        plt.scatter(x,y,color=color,label=otherLabel,s=60)\n",
    "        otherLabel = None #suppress repeated label\n",
    "    else:\n",
    "        color = colorDict[ana]\n",
    "        label = convertLabel(ana)\n",
    "        plt.scatter(x,y,color=color,label=label,s=60)\n",
    "\n",
    "for ana in anas.index:\n",
    "    if not ana in excCurves: continue\n",
    "    if any(val in ana for val in deleteCurves): continue\n",
    "    curve = excCurves[ana]\n",
    "    color = colorDict[ana]\n",
    "    plt.plot(curve[:,0],curve[:,1],linewidth=3,linestyle='-',color=color)\n",
    "        \n",
    "\n",
    "lgd = plt.legend(loc=(0.65,0.5), framealpha=1.,fontsize=15)\n",
    "\n",
    "plt.ylim(0,700)\n",
    "plt.xlim(50,1000)\n",
    "plt.xlabel(r'$m_{\\tilde{\\chi}_1^\\pm}$ (GeV)')\n",
    "plt.ylabel(r'$m_{\\tilde{\\chi}_1^0}$ (GeV)')\n",
    "plt.tight_layout()\n",
    "plt.savefig('EWino_exclusion_mass.png')\n",
    "plt.show()"
   ]
  },
  {
   "cell_type": "markdown",
   "metadata": {},
   "source": [
    "## Plots for Allowed points"
   ]
  },
  {
   "cell_type": "code",
   "execution_count": null,
   "metadata": {},
   "outputs": [],
   "source": [
    "anas = excluded['label'].value_counts()\n",
    "anas.sort_values(inplace=True,ascending=False)\n",
    "plt.figure(figsize=(10,6))\n",
    "\n",
    "x = np.array(allowedLHC['mass.1000024'])\n",
    "y = np.array(allowedLHC['mass.1000022'])\n",
    "# z = allowedLHC['ExptRes.result0.r']\n",
    "z = np.array(allowedLHC['ExptRes.result0.r']/allowedLHC['xsecRatio'])\n",
    "\n",
    "x = x[z.argsort()]\n",
    "y = y[z.argsort()]\n",
    "z = z[z.argsort()]   \n",
    "\n",
    "cm = plt.cm.get_cmap('RdYlBu')\n",
    "cm = plt.cm.get_cmap('Greys')\n",
    "cm = plt.cm.get_cmap('PiYG', 11) \n",
    "cm = plt.cm.get_cmap('PuOr', 11) \n",
    "plt.scatter(x,y,c=z,s=20,cmap=cm,vmin=0.0,vmax=2.0)\n",
    "\n",
    "plt.plot([90,500],[0,410],linestyle='--',c='black')\n",
    "\n",
    "\n",
    "for ana in anas.index:\n",
    "    if 'TDT' in ana: continue #Do not show disappearing track curve\n",
    "    if not ana in excCurves: continue\n",
    "    if any(val in ana for val in deleteCurves): continue\n",
    "    curve = excCurves[ana]\n",
    "    color = colorDict[ana]\n",
    "    label = convertLabel(ana)\n",
    "    plt.plot(curve[:,0],curve[:,1],linewidth=5,linestyle='-',color=color,label=label)\n",
    "        \n",
    "\n",
    "lgd = plt.legend(loc=(0.05,0.75), framealpha=1.,fontsize=15)\n",
    "\n",
    "plt.ylim(0,400)\n",
    "plt.xlim(50,800)\n",
    "\n",
    "plt.xlabel(r'$m_{\\tilde{\\chi}_1^\\pm}$ (GeV)')\n",
    "plt.ylabel(r'$m_{\\tilde{\\chi}_1^0}$ (GeV)')\n",
    "plt.colorbar(label = r'$r_{\\rm{max}} \\times \\sigma_{\\tilde \\chi \\tilde \\chi}^{\\rm wino}/\\sigma_{\\tilde\\chi \\tilde\\chi}$')\n",
    "# plt.title(\"Points allowed by LHC\")\n",
    "plt.tight_layout()\n",
    "plt.savefig('EWino_allowed_xsec.png')\n",
    "plt.show()"
   ]
  },
  {
   "cell_type": "markdown",
   "metadata": {},
   "source": [
    "### Dark Matter Plots"
   ]
  },
  {
   "cell_type": "markdown",
   "metadata": {},
   "source": [
    "#### Relic Density"
   ]
  },
  {
   "cell_type": "code",
   "execution_count": null,
   "metadata": {},
   "outputs": [],
   "source": [
    "anas = excluded['label'].value_counts()\n",
    "anas.sort_values(inplace=True,ascending=False)\n",
    "\n",
    "plt.figure(figsize=(10,6))\n",
    "\n",
    "xAll = allowedLHC['extpar.1']/allowedLHC[['extpar.2','extpar.23']].min(axis=1)\n",
    "yAll = allowedLHC['Omega']\n",
    "plt.scatter(xAll,yAll,color=c_other,label='All',s=60)\n",
    "\n",
    "\n",
    "deleteCurves = ['CMS-EXO-19-010','ATLAS-SUSY-2016-06','ATLAS-SUSY-2016-24','CMS-SUS-13-006']\n",
    "\n",
    "otherLabel = 'Others'\n",
    "for ana in plottingOrder:\n",
    "    excludedAna = excluded[excluded['label'] == ana]\n",
    "    x = excludedAna['extpar.1']/excludedAna[['extpar.2','extpar.23']].min(axis=1)\n",
    "    y = excludedAna['Omega']\n",
    "    if not ana in colorDict:\n",
    "        color = colorDict['Other']        \n",
    "        plt.scatter(x,y,color=color,label=otherLabel,s=60)\n",
    "        otherLabel = None #suppress repeated label\n",
    "    else:\n",
    "        color = colorDict[ana]\n",
    "        label = convertLabel(ana)\n",
    "        plt.scatter(x,y,color=color,label=label,s=60)\n",
    "\n",
    "plt.hlines(y=0.13,xmin=xAll.min(),xmax=xAll.max(),linestyle='-',linewidth=2,color='black')        \n",
    "plt.vlines(x=1.0,ymin=yAll.min(),ymax=yAll.max(),linestyle='--',linewidth=3,color='black',alpha=0.5)        \n",
    "\n",
    "plt.text(5e-3,0.18,r\"$\\Omega h^2 = 0.13$\",fontsize=18)\n",
    "plt.text(1.1e-1,0.1e-2,r\"{\\bf Bino LSP}\",fontsize=16)\n",
    "plt.text(1.3,0.1e-2,r\"{\\bf Wino/Higgsino LSP}\",fontsize=16)\n",
    "\n",
    "lgd = plt.legend(loc=(0.65,0.5), framealpha=1.,fontsize=15)\n",
    "\n",
    "plt.yscale('log')\n",
    "plt.xscale('log')\n",
    "# plt.xlim(0,4)\n",
    "plt.xlabel(r'$M_1/{\\rm min}(M_2,\\mu)$')\n",
    "plt.ylabel(r'$\\Omega h^2$')\n",
    "plt.tight_layout()\n",
    "plt.savefig('EWino_exclusion_omega.png')\n",
    "plt.show()"
   ]
  },
  {
   "cell_type": "markdown",
   "metadata": {},
   "source": [
    "#### Direct Detection"
   ]
  },
  {
   "cell_type": "code",
   "execution_count": null,
   "metadata": {},
   "outputs": [],
   "source": [
    "anas = excluded['label'].value_counts()\n",
    "anas.sort_values(inplace=True,ascending=False)\n",
    "mDMlist = np.logspace(1,3.5,100)\n",
    "sigUL = xenonUL(mDMlist)\n",
    "\n",
    "plt.figure(figsize=(12,6))\n",
    "\n",
    "c_other = 'lightgray'\n",
    "c_dm = 'darkgray'\n",
    "c_dd = 'gray'\n",
    "\n",
    "x = allowed['mass.1000022']\n",
    "y = (allowed['Omega']/0.12)*allowed['proton_SI']\n",
    "plt.scatter(x,y,color=c_other,label='All',s=60)\n",
    "x = excludedDD['mass.1000022']\n",
    "y = (excludedDD['Omega']/0.12)*excludedDD['proton_SI']\n",
    "plt.scatter(x,y,color=c_other,label=None,s=60)\n",
    "\n",
    "\n",
    "        \n",
    "x = excludedDM['mass.1000022']\n",
    "y = (excludedDM['Omega']/0.12)*excludedDM['proton_SI']\n",
    "plt.scatter(x,y,color=c_dm,label=r'Excluded ($\\Omega h^2 > 0.13$)',s=60)\n",
    "\n",
    "\n",
    "\n",
    "\n",
    "# x = excludedDD['mass.1000022']\n",
    "# y = (excludedDD['Omega']/0.12)*excludedDD['proton_SI']\n",
    "# plt.scatter(x,y,color=c_dd,label='Excluded (DD)',s=60)\n",
    "\n",
    "\n",
    "otherLabel = 'Others'\n",
    "for ana in plottingOrder:\n",
    "    excludedAna = excluded[excluded['label'] == ana]\n",
    "    excludedAna = excludedAna[excludedAna['excludedRelic'] == False] #Remove points excluded by Relic\n",
    "    x = excludedAna['mass.1000022']\n",
    "    y = (excludedAna['Omega']/0.12)*excludedAna['proton_SI']\n",
    "    if len(excludedAna) == 0: continue\n",
    "    if not ana in colorDict:\n",
    "        color = colorDict['Other']        \n",
    "        plt.scatter(x,y,color=color,label=otherLabel,s=60)\n",
    "        otherLabel = None #suppress repeated label\n",
    "    else:\n",
    "        color = colorDict[ana]\n",
    "        label = convertLabel(ana)\n",
    "        plt.scatter(x,y,color=color,label=label,s=60)        \n",
    "\n",
    "\n",
    "    \n",
    "# x = allowed['mass.1000022']\n",
    "# y = (allowed['Omega']/0.12)*allowed['proton_SI']\n",
    "# plt.scatter(x,y,color=c_other,label='Allowed',s=60)\n",
    "\n",
    "        \n",
    "plt.plot(mDMlist,sigUL,c='black',label='Xenon 1T',linewidth=3)\n",
    "\n",
    "\n",
    "lgd = plt.legend(loc=(0.85,0.45), framealpha=1.,fontsize=15)\n",
    "\n",
    "# plt.ylim(0,1)\n",
    "plt.xlim(10,1000)\n",
    "plt.xlabel(r'$m_{\\tilde{\\chi}_1^0}$ (GeV)')\n",
    "plt.ylabel(r'$(\\Omega h^2/0.12) \\sigma_{\\rm{SI}}$ (pb)')\n",
    "plt.yscale('log')\n",
    "plt.xscale('log')\n",
    "plt.tight_layout()\n",
    "plt.savefig('EWino_exclusion_DD.png')\n",
    "plt.show()"
   ]
  },
  {
   "cell_type": "code",
   "execution_count": null,
   "metadata": {},
   "outputs": [],
   "source": [
    "anas = excluded['label'].value_counts()\n",
    "anas.sort_values(inplace=True,ascending=False)\n",
    "mDMlist = np.logspace(1,3.5,100)\n",
    "sigUL = xenonUL(mDMlist)\n",
    "\n",
    "plt.figure(figsize=(13,6))\n",
    "\n",
    "c_other = 'lightgray'\n",
    "c_dm = 'darkgray'\n",
    "c_dd = 'gray'\n",
    "\n",
    "\n",
    "x = excludedDM['mass.1000022']\n",
    "y = (excludedDM['Omega']/0.12)*excludedDM['proton_SI']\n",
    "plt.scatter(x,y,color=c_dm,label='Excluded (DM)',s=60)\n",
    "\n",
    "\n",
    "x = excludedDD['mass.1000022']\n",
    "y = (excludedDD['Omega']/0.12)*excludedDD['proton_SI']\n",
    "plt.scatter(x,y,color=c_dm,label=None,s=60)\n",
    "\n",
    "\n",
    "otherLabel = 'Others'\n",
    "for ana in plottingOrder:\n",
    "    x = excluded[excluded['label'] == ana]['mass.1000022']\n",
    "    y = (excluded[excluded['label'] == ana]['Omega']/0.12)*excluded[excluded['label'] == ana]['proton_SI']\n",
    "    if not ana in colorDict:\n",
    "        color = colorDict['Other']        \n",
    "        plt.scatter(x,y,color=color,label=otherLabel,s=60)\n",
    "        otherLabel = None #suppress repeated label\n",
    "    else:\n",
    "        color = colorDict[ana]\n",
    "        label = convertLabel(ana)\n",
    "        plt.scatter(x,y,color=color,label=label,s=60)        \n",
    "\n",
    "    \n",
    "# x = allowed['mass.1000022']\n",
    "# y = (allowed['Omega']/0.12)*allowed['proton_SI']\n",
    "# plt.scatter(x,y,color=c_other,label='Allowed',s=60)\n",
    "\n",
    "x = allowed['mass.1000022']\n",
    "y = (allowed['Omega']/0.12)*allowed['proton_SI']\n",
    "plt.scatter(x,y,color=c_other,label='Allowed',s=60)\n",
    "\n",
    "        \n",
    "plt.plot(mDMlist,sigUL,c='red',label='Xenon 1T',linewidth=3)\n",
    "\n",
    "\n",
    "lgd = plt.legend(loc=(0.98,0.2), framealpha=1.,fontsize=15)\n",
    "\n",
    "# plt.ylim(0,1)\n",
    "plt.xlim(10,4000)\n",
    "plt.xlabel(r'$m_{\\tilde{\\chi}_1^0}$ (GeV)')\n",
    "plt.ylabel(r'$(\\Omega h^2/0.12) \\sigma_{SI}$ (pb)')\n",
    "plt.yscale('log')\n",
    "plt.xscale('log')\n",
    "plt.tight_layout()\n",
    "plt.show()"
   ]
  },
  {
   "cell_type": "markdown",
   "metadata": {},
   "source": [
    "## Plots Concerning DM nature"
   ]
  },
  {
   "cell_type": "markdown",
   "metadata": {},
   "source": [
    "### Large mu scenario"
   ]
  },
  {
   "cell_type": "code",
   "execution_count": null,
   "metadata": {},
   "outputs": [],
   "source": [
    "largeMu = dataDF[(dataDF['extpar.23'] > 3*dataDF['extpar.2']) & (dataDF['extpar.23'] > 3*dataDF['extpar.1'])]"
   ]
  },
  {
   "cell_type": "code",
   "execution_count": null,
   "metadata": {},
   "outputs": [],
   "source": [
    "fig = plt.figure(figsize=(10,6))\n",
    "\n",
    "\n",
    "x = np.array(largeMu['extpar.1']/largeMu['extpar.2'])\n",
    "y = np.array(largeMu['Omega'])    \n",
    "z = np.array(largeMu['xsecRatio'])\n",
    "x = x[z.argsort()]\n",
    "y = y[z.argsort()]\n",
    "z = z[z.argsort()]             \n",
    "\n",
    "cm = plt.cm.get_cmap('RdYlBu')\n",
    "a = plt.scatter(x,y,c=z,s=50,cmap=cm,vmin=0,vmax=1)\n",
    "plt.hlines(y=0.12,xmin=min(x),xmax=max(x),linestyle='--')\n",
    "plt.yscale('log')\n",
    "plt.xlim(0,4)\n",
    "plt.xlabel(r'$M_1/M_2$')\n",
    "plt.ylabel(r'$\\Omega h^2$')\n",
    "\n",
    "plt.colorbar(label= r'$\\sigma_{\\rm{EW}}/\\sigma_{\\rm{EW}}^{\\rm{wino}}$')\n",
    "plt.text(2.0,1e4,r\"$\\mu > 3 \\max(M_1,M_2)$\")\n",
    "plt.tight_layout()\n",
    "plt.show()"
   ]
  },
  {
   "cell_type": "markdown",
   "metadata": {},
   "source": [
    "### Light Chargino scenario"
   ]
  },
  {
   "cell_type": "code",
   "execution_count": null,
   "metadata": {},
   "outputs": [],
   "source": [
    "lightC1 = dataDF[(dataDF['mass.1000023'] < 1000.0)]"
   ]
  },
  {
   "cell_type": "code",
   "execution_count": null,
   "metadata": {},
   "outputs": [],
   "source": [
    "plt.figure(figsize=(10,6))\n",
    "\n",
    "x = np.array(lightC1['extpar.1']/lightC1['extpar.2'])\n",
    "y = np.array(lightC1['Omega'])\n",
    "z = np.array(lightC1['xsecRatio'])\n",
    "\n",
    "x = x[z.argsort()]\n",
    "y = y[z.argsort()]\n",
    "z = z[z.argsort()]     \n",
    "\n",
    "\n",
    "cm = plt.cm.get_cmap('RdYlBu')\n",
    "# cm = plt.cm.get_cmap('Greys')\n",
    "plt.scatter(x,y,c=z,s=50,cmap=cm,vmin=0,vmax=1)\n",
    "plt.colorbar(label= r'$\\sigma_{\\rm{EW}}/\\sigma_{\\rm{EW}}^{\\rm{wino}}$')\n",
    "\n",
    "xLHC = np.array(excluded['extpar.1']/excluded['extpar.2'])\n",
    "yLHC = np.array(excluded['Omega'])\n",
    "plt.scatter(xLHC,yLHC,c='black',s=50,marker='x',label='Excluded (LHC)')\n",
    "\n",
    "plt.hlines(y=0.12,xmin=min(x),xmax=max(x),linestyle='--')\n",
    "plt.yscale('log')\n",
    "# plt.ylim(0,200)\n",
    "plt.xlim(0,4)\n",
    "plt.xlabel(r'$M_1/M_2$')\n",
    "plt.ylabel(r'$\\Omega h^2$')\n",
    "plt.text(1.5,1000,r\"$m_{\\tilde{\\chi}_1^\\pm} < 1$ TeV\",fontsize=20)\n",
    "plt.legend()\n",
    "plt.tight_layout()\n",
    "plt.show()"
   ]
  },
  {
   "cell_type": "code",
   "execution_count": null,
   "metadata": {},
   "outputs": [],
   "source": [
    "# # Count points with 0.7 <= r < 1\n",
    "# border = dataDF[(dataDF['ExptRes.result0.r'] > 0.7) & (dataDF['ExptRes.result0.r'] < 1.0)]\n",
    "# print('%i files found' %len(border))\n",
    "# #Copy files to ../data/slha_scanRandom_border\n",
    "# for f in border['filename']:\n",
    "#     f_old = os.path.join('../data/slha_scanRandom/',f)\n",
    "#     f_new = os.path.join('../data/slha_scanRandom_border/',f)\n",
    "#     shutil.copyfile(f_old,f_new)"
   ]
  }
 ],
 "metadata": {
  "kernelspec": {
   "display_name": "Python 3",
   "language": "python",
   "name": "python3"
  },
  "language_info": {
   "codemirror_mode": {
    "name": "ipython",
    "version": 3
   },
   "file_extension": ".py",
   "mimetype": "text/x-python",
   "name": "python",
   "nbconvert_exporter": "python",
   "pygments_lexer": "ipython3",
   "version": "3.8.10"
  }
 },
 "nbformat": 4,
 "nbformat_minor": 2
}
