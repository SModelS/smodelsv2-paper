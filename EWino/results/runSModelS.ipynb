{
 "cells": [
  {
   "cell_type": "code",
   "execution_count": 1,
   "metadata": {},
   "outputs": [],
   "source": [
    "import sys\n",
    "sys.path.append('../smodels')\n",
    "from smodels.tools import runtime\n",
    "#Define your model (list of BSM particles)\n",
    "runtime.modelFile = 'smodels.share.models.mssm'\n",
    "#runtime.modelFile = 'mssmQNumbers.slha'\n",
    "\n",
    "from smodels.theory import decomposer\n",
    "from smodels.tools.physicsUnits import fb, GeV, TeV\n",
    "from smodels.theory.theoryPrediction import theoryPredictionsFor\n",
    "from smodels.experiment.databaseObj import Database\n",
    "from smodels.tools import coverage\n",
    "from smodels.tools.smodelsLogging import setLogLevel\n",
    "from smodels.particlesLoader import BSMList\n",
    "from smodels.share.models.SMparticles import SMList\n",
    "from smodels.theory.model import Model\n",
    "setLogLevel(\"info\")"
   ]
  },
  {
   "cell_type": "code",
   "execution_count": 3,
   "metadata": {},
   "outputs": [
    {
     "name": "stderr",
     "output_type": "stream",
     "text": [
      "INFO in databaseObj.loadBinaryFile() in 483: loading binary db file /home/lessa/.cache/smodels/official210.pcl format version 214\n",
      "INFO in databaseObj.loadBinaryFile() in 490: Loaded database from /home/lessa/.cache/smodels/official210.pcl in 1.9 secs.\n"
     ]
    }
   ],
   "source": [
    "# Set the path to the database\n",
    "database = Database(\"/home/lessa/.cache/smodels/official210.pcl\")"
   ]
  },
  {
   "cell_type": "code",
   "execution_count": 4,
   "metadata": {},
   "outputs": [
    {
     "name": "stderr",
     "output_type": "stream",
     "text": [
      "INFO in model.updateParticles() in 385: Loaded 62 BSM particles\n"
     ]
    }
   ],
   "source": [
    "model = Model(BSMparticles=BSMList, SMparticles=SMList)\n",
    "slhafile = '../EWino/data/slha_scanRandom/ew_c8exk4i4.slha'\n",
    "model.updateParticles(inputFile=slhafile)\n",
    "\n",
    "\n",
    "# Set main options for decomposition\n",
    "sigmacut = 0.005*fb\n",
    "mingap = 5.*GeV\n",
    "\n",
    "# Decompose model\n",
    "toplist = decomposer.decompose(model, sigmacut, doCompress=True, doInvisible=True, minmassgap=mingap)\n"
   ]
  },
  {
   "cell_type": "code",
   "execution_count": 5,
   "metadata": {},
   "outputs": [],
   "source": [
    "exp = database.getExpResults(analysisIDs=['ATLAS-SUSY-2018-06'],txnames='TChiWZ',dataTypes=['upperLimit'])[0]"
   ]
  },
  {
   "cell_type": "code",
   "execution_count": 6,
   "metadata": {},
   "outputs": [
    {
     "name": "stdout",
     "output_type": "stream",
     "text": [
      "TChiWZ\n"
     ]
    }
   ],
   "source": [
    "tx = exp.getTxNames()[0]\n",
    "print(tx)"
   ]
  },
  {
   "cell_type": "code",
   "execution_count": 24,
   "metadata": {},
   "outputs": [
    {
     "name": "stdout",
     "output_type": "stream",
     "text": [
      "[[[W+]],[[Z]]] [[C2+, N1], [N3, N1]] [[4.89E+02 [GeV], 1.71E+02 [GeV]], [4.53E+02 [GeV], 1.71E+02 [GeV]]]\n",
      "1.0 TChiWZ\n",
      "[[[W-]],[[Z]]] [[C2-, N1~], [N3, N1]] [[4.89E+02 [GeV], 1.71E+02 [GeV]], [4.53E+02 [GeV], 1.71E+02 [GeV]]]\n",
      "1.0 TChiWZ\n",
      "[[[W+]],[[Z]]] [[C2+, N1], [N4, N1]] [[4.89E+02 [GeV], 1.71E+02 [GeV]], [4.89E+02 [GeV], 1.71E+02 [GeV]]]\n",
      "1.0 TChiWZ\n",
      "[[[W-]],[[Z]]] [[C2-, N1~], [N4, N1]] [[4.89E+02 [GeV], 1.71E+02 [GeV]], [4.89E+02 [GeV], 1.71E+02 [GeV]]]\n",
      "1.0 TChiWZ\n",
      "1.80E+02 [fb]\n",
      "None\n"
     ]
    }
   ],
   "source": [
    "for el in theoryPrediction.elements:\n",
    "    print(el,el.oddParticles,el.mass)\n",
    "    print(el.eff,el.txname)\n",
    "    \n",
    "print(theoryPrediction.dataset.getUpperLimitFor(el,txnames=theoryPrediction.txnames))\n",
    "print(theoryPrediction.dataset.getUpperLimitFor(theoryPrediction.avgElement,txnames=theoryPrediction.txnames))"
   ]
  },
  {
   "cell_type": "code",
   "execution_count": 23,
   "metadata": {},
   "outputs": [
    {
     "name": "stdout",
     "output_type": "stream",
     "text": [
      "[[4.89E+02 [GeV], 1.71E+02 [GeV]], [4.57E+02 [GeV], 1.71E+02 [GeV]]]\n",
      "[[INF [GeV], 0.00E+00 [GeV]], [INF [GeV], 0.00E+00 [GeV]]]\n"
     ]
    }
   ],
   "source": [
    "avg = theoryPrediction.avgElement\n",
    "print(avg.mass)\n",
    "print(avg.totalwidth)"
   ]
  },
  {
   "cell_type": "code",
   "execution_count": 54,
   "metadata": {},
   "outputs": [
    {
     "name": "stdout",
     "output_type": "stream",
     "text": [
      "1.80E+02 [fb]\n"
     ]
    }
   ],
   "source": [
    "x = tx.txnameData.getValueFor([[489.19999999999993*GeV, 171.100*GeV], [457.07706767176154*GeV, 171.1000*GeV]])\n",
    "print(x)"
   ]
  },
  {
   "cell_type": "code",
   "execution_count": 51,
   "metadata": {},
   "outputs": [
    {
     "name": "stdout",
     "output_type": "stream",
     "text": [
      "171.10000000000002\n",
      "171.10000000000002\n",
      "None\n",
      "ATLAS-SUSY-2018-06:1.30E+01 [TeV]:1.20E-03 [pb] (None, None)\n"
     ]
    }
   ],
   "source": [
    "print(avg.mass[1][1].asNumber())\n",
    "print(avg.mass[0][1].asNumber())\n",
    "print(theoryPrediction.dataset.getUpperLimitFor(element=avg,txnames=avg.txname))\n",
    "print(theoryPrediction)"
   ]
  },
  {
   "cell_type": "code",
   "execution_count": 65,
   "metadata": {},
   "outputs": [
    {
     "name": "stdout",
     "output_type": "stream",
     "text": [
      "4.5707700000e+02\n"
     ]
    }
   ],
   "source": [
    "i = 457.07706767176154\n",
    "x = float('{:e}'.format(float('{:.5e}'.format(i))))\n",
    "print('%1.10e' %x)"
   ]
  },
  {
   "cell_type": "code",
   "execution_count": 7,
   "metadata": {},
   "outputs": [],
   "source": [
    "predictions = theoryPredictionsFor(exp, toplist, combinedResults=False, marginalize=False)"
   ]
  },
  {
   "cell_type": "code",
   "execution_count": 12,
   "metadata": {},
   "outputs": [
    {
     "name": "stdout",
     "output_type": "stream",
     "text": [
      "------------------------\n",
      "Dataset =  None\n",
      "TxNames =  ['TChiWZ']\n",
      "Prediction Mass =  [[4.89E+02 [GeV], 1.71E+02 [GeV]], [4.57E+02 [GeV], 1.71E+02 [GeV]]]\n",
      "Prediction PIDs =  [[[1000037, 1000022], [1000025, 1000022]], [[-1000037, -1000022], [1000025, 1000022]], [[1000037, 1000022], [1000035, 1000022]], [[-1000037, -1000022], [1000035, 1000022]]]\n",
      "Theory Prediction =  1.30E+01 [TeV]:1.20E-03 [pb] (None, None)\n",
      "Condition Violation =  None\n",
      "UL for theory prediction =  None\n",
      "r =  None\n",
      "[[[W+]],[[Z]]] [[C2+, N1], [N3, N1]] 1.0\n",
      "None\n",
      "[[[W-]],[[Z]]] [[C2-, N1~], [N3, N1]] 1.0\n",
      "None\n",
      "[[[W+]],[[Z]]] [[C2+, N1], [N4, N1]] 1.0\n",
      "None\n",
      "[[[W-]],[[Z]]] [[C2-, N1~], [N4, N1]] 1.0\n",
      "None\n"
     ]
    }
   ],
   "source": [
    "for theoryPrediction in predictions:\n",
    "    dataset = theoryPrediction.dataset\n",
    "    datasetID = theoryPrediction.dataId()\n",
    "    mass = theoryPrediction.mass\n",
    "    txnames = [str(txname) for txname in theoryPrediction.txnames]\n",
    "    PIDs =  theoryPrediction.PIDs         \n",
    "    print(\"------------------------\" )\n",
    "    print(\"Dataset = \",datasetID )   #Analysis name\n",
    "    print(\"TxNames = \",txnames )  \n",
    "    print(\"Prediction Mass = \",mass )   #Value for average cluster mass (average mass of the elements in cluster)\n",
    "    print(\"Prediction PIDs = \",PIDs )   #Value for average cluster mass (average mass of the elements in cluster)\n",
    "    print(\"Theory Prediction = \",theoryPrediction.xsection )  #Signal cross section\n",
    "    print(\"Condition Violation = \",theoryPrediction.conditions ) #Condition violation values\n",
    "\n",
    "    # Get the corresponding upper limit:\n",
    "    print(\"UL for theory prediction = \",theoryPrediction.upperLimit )\n",
    "\n",
    "    # Compute the r-value\n",
    "    r = theoryPrediction.getRValue()\n",
    "    print(\"r = \",r )\n",
    "    \n",
    "    for el in theoryPrediction.elements:\n",
    "        print(el,el.oddParticles,el.eff)\n",
    "        print(theoryPrediction.getUpperLimit())\n",
    "    \n",
    "    \n",
    "    break\n"
   ]
  },
  {
   "cell_type": "code",
   "execution_count": 10,
   "metadata": {},
   "outputs": [
    {
     "name": "stdout",
     "output_type": "stream",
     "text": [
      "\n",
      " Theory Predictions and Constraints:\n",
      "\n",
      " ATLAS-SUSY-2016-07 \n",
      "------------------------\n",
      "Dataset =  6j_Meff_1200\n",
      "TxNames =  ['T1']\n",
      "Prediction Mass =  [[1.84E+02 [GeV], 1.68E+02 [GeV]], [1.84E+02 [GeV], 1.68E+02 [GeV]]]\n",
      "Prediction PIDs =  [[[-1000024, -1000022], [1000024, 1000022]], [[-1000024, -1000022], [1000023, 1000022]], [[1000023, 1000022], [1000024, 1000022]], [[-1000024, -1000022], [1000023, 1000022]], [[1000023, 1000022], [1000024, 1000022]], [[-1000024, -1000022], [1000023, 1000022]], [[1000023, 1000022], [1000024, 1000022]]]\n",
      "Theory Prediction =  1.30E+01 [TeV]:1.96E-05 [pb] (None, None)\n",
      "Condition Violation =  None\n",
      "UL for theory prediction =  2.17E+00 [fb]\n",
      "r =  0.009023237996343697\n",
      "\n",
      " ATLAS-SUSY-2016-32 \n",
      "------------------------\n",
      "Dataset =  SR1FULL_175\n",
      "TxNames =  ['THSCPM1b', 'THSCPM2b']\n",
      "Prediction Mass =  None\n",
      "Prediction PIDs =  [[[1000022], [1000024]], [[1000022], [-1000024]], [[-1000024], [1000024]], [[1000024, 1000022], [-1000024]], [[-1000024, -1000022], [1000024]], [[1000024, 1000022], [-1000024]], [[-1000024, -1000022], [1000024]], [[1000024, 1000022], [-1000024]], [[-1000024, -1000022], [1000024]], [[1000024, 1000022], [-1000024]], [[-1000024, -1000022], [1000024]], [[1000024, 1000022], [-1000024]], [[1000023, 1000022], [-1000024]], [[1000023, 1000022], [1000024]], [[1000023], [-1000024]], [[1000023], [1000024]], [[1000023, 1000022], [-1000024]], [[1000023, 1000022], [1000024]], [[1000023, 1000022], [-1000024]], [[1000023, 1000022], [1000024]], [[1000023, 1000022], [-1000024]], [[1000023, 1000022], [1000024]], [[1000023, 1000022], [-1000024]], [[1000023, 1000022], [1000024]], [[1000023, 1000022], [-1000024]], [[1000023, 1000022], [1000024]]]\n",
      "Theory Prediction =  1.30E+01 [TeV]:1.72E-08 [pb] (None, None)\n",
      "Condition Violation =  None\n",
      "UL for theory prediction =  1.26E+00 [fb]\n",
      "r =  1.3640292629311272e-05\n",
      "\n",
      " CMS-EXO-13-006 \n",
      "------------------------\n",
      "Dataset =  c100\n",
      "TxNames =  ['THSCPM2b', 'THSCPM1b']\n",
      "Prediction Mass =  None\n",
      "Prediction PIDs =  [[[-1000024], [1000024]], [[1000022], [1000024]], [[1000022], [-1000024]], [[1000024, 1000022], [-1000024]], [[-1000024, -1000022], [1000024]], [[1000024, 1000022], [-1000024]], [[-1000024, -1000022], [1000024]], [[1000024, 1000022], [-1000024]], [[-1000024, -1000022], [1000024]], [[1000024, 1000022], [-1000024]], [[-1000024, -1000022], [1000024]], [[1000024, 1000022], [-1000024]], [[-1000024, -1000022], [1000024]], [[1000023, 1000022], [1000024]], [[1000023], [1000024]], [[1000023, 1000022], [-1000024]], [[1000023, 1000022], [1000024]], [[1000023], [-1000024]], [[1000023, 1000022], [1000024]], [[1000023, 1000022], [-1000024]], [[1000023, 1000022], [1000024]], [[1000023, 1000022], [-1000024]]]\n",
      "Theory Prediction =  8.00E+00 [TeV]:5.79E-10 [pb] (None, None)\n",
      "Condition Violation =  None\n",
      "UL for theory prediction =  4.50E-01 [fb]\n",
      "r =  1.2869190118135819e-06\n"
     ]
    }
   ],
   "source": [
    "# Compute the theory predictions for each experimental result and print them:\n",
    "print(\"\\n Theory Predictions and Constraints:\")\n",
    "rmax = 0.\n",
    "bestResult = None\n",
    "listOfExpRes = database.getExpResults()\n",
    "for expResult in listOfExpRes:\n",
    "    predictions = theoryPredictionsFor(expResult, toplist, combinedResults=False, marginalize=False)\n",
    "    if not predictions: continue # Skip if there are no constraints from this result\n",
    "    print('\\n %s ' %expResult.globalInfo.id)\n",
    "    for theoryPrediction in predictions:\n",
    "        dataset = theoryPrediction.dataset\n",
    "        datasetID = theoryPrediction.dataId()\n",
    "        mass = theoryPrediction.mass\n",
    "        txnames = [str(txname) for txname in theoryPrediction.txnames]\n",
    "        PIDs =  theoryPrediction.PIDs         \n",
    "        print(\"------------------------\" )\n",
    "        print(\"Dataset = \",datasetID )   #Analysis name\n",
    "        print(\"TxNames = \",txnames )  \n",
    "        print(\"Prediction Mass = \",mass )   #Value for average cluster mass (average mass of the elements in cluster)\n",
    "        print(\"Prediction PIDs = \",PIDs )   #Value for average cluster mass (average mass of the elements in cluster)\n",
    "        print(\"Theory Prediction = \",theoryPrediction.xsection )  #Signal cross section\n",
    "        print(\"Condition Violation = \",theoryPrediction.conditions ) #Condition violation values\n",
    "\n",
    "        # Get the corresponding upper limit:\n",
    "        print(\"UL for theory prediction = \",theoryPrediction.upperLimit )\n",
    "\n",
    "        # Compute the r-value\n",
    "        r = theoryPrediction.getRValue()\n",
    "        print(\"r = \",r )\n"
   ]
  },
  {
   "cell_type": "code",
   "execution_count": null,
   "metadata": {},
   "outputs": [],
   "source": []
  }
 ],
 "metadata": {
  "kernelspec": {
   "display_name": "Python 3",
   "language": "python",
   "name": "python3"
  },
  "language_info": {
   "codemirror_mode": {
    "name": "ipython",
    "version": 3
   },
   "file_extension": ".py",
   "mimetype": "text/x-python",
   "name": "python",
   "nbconvert_exporter": "python",
   "pygments_lexer": "ipython3",
   "version": "3.8.10"
  }
 },
 "nbformat": 4,
 "nbformat_minor": 4
}
