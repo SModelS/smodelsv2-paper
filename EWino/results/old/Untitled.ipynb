{
 "cells": [
  {
   "cell_type": "code",
   "execution_count": 2,
   "metadata": {},
   "outputs": [],
   "source": [
    "import warnings\n",
    "warnings.filterwarnings(\"ignore\", message=\"numpy.dtype size changed\")\n",
    "import numpy as np\n",
    "import pandas as pd\n",
    "import glob,imp,os,sys\n",
    "from pandas import json_normalize\n",
    "import pyslha\n",
    "sys.path.append('../smodels')\n",
    "from smodels.particlesLoader import BSMList\n",
    "from smodels.share.models.SMparticles import SMList\n",
    "from smodels.theory.model import Model\n",
    "from getRefXSecs import getXSecFor\n",
    "pd.options.mode.chained_assignment = None #Disable copy warnings"
   ]
  },
  {
   "cell_type": "code",
   "execution_count": 7,
   "metadata": {},
   "outputs": [
    {
     "name": "stdout",
     "output_type": "stream",
     "text": [
      "[-1000024, 1000024] 0.00017155624881599755\n",
      "[1000023, 1000024] 0.0003730965046480004\n",
      "[-1000024, 1000023] 0.0001795718045839995\n",
      "0.0007242245580479974\n"
     ]
    }
   ],
   "source": [
    "### Add reference cross-section ratio for C1C1,C1N2:\n",
    "pids = [[-1000024,1000024],[1000023,1000024],[-1000024,1000023]]\n",
    "ratio = []\n",
    "xsecRefSum = 0.0\n",
    "xsecSum = 0.0\n",
    "row = {'mass.1000023' : 2158.35734, 'mass.1000024' : 2158.35734 }\n",
    "for pidpair in pids:\n",
    "    mass1 = row['mass.%i'%abs(pidpair[0])] \n",
    "    mass2 = row['mass.%i'%abs(pidpair[1])] \n",
    "    mass = (mass1+mass2)/2.\n",
    "    xsecRef = max(0,1000*getXSecFor(pidpair[0],pidpair[1],mass,13.0,'wino'))\n",
    "    xsecRefSum += xsecRef\n",
    "    print(pidpair,xsecRef)\n",
    "print(xsecRefSum)"
   ]
  },
  {
   "cell_type": "code",
   "execution_count": 5,
   "metadata": {},
   "outputs": [],
   "source": [
    "slhaFolder = '../EWino/data/slha_scanRandom/'\n",
    "slhaFile = 'ew_ahtejtpl.slha'\n",
    "slhaData = pyslha.readSLHAFile(os.path.join(slhaFolder,slhaFile))"
   ]
  },
  {
   "cell_type": "code",
   "execution_count": 8,
   "metadata": {},
   "outputs": [
    {
     "name": "stdout",
     "output_type": "stream",
     "text": [
      "mC1 = 2158.505, mN2 = 2158.357, mLSP = 1884.185\n",
      "M1 = 1849.063, M2 = 2019.940, mu = 2785.804\n",
      "\n",
      "C1 decays:\n",
      "ctau (m) = 2.62e-14\n",
      " 1 [24, 1000022]\n",
      "\n",
      "N2 decays:\n",
      "ctau (m) = 2.36e-14\n",
      " 1 [25, 1000022]\n",
      " 0.0049 [23, 1000022]\n",
      "\n",
      "C1pmN2 xsec: 1.94e-06 pb\n",
      "C1pmN2 ref xsec: 5.50e-07 pb\n"
     ]
    }
   ],
   "source": [
    "mC1 = slhaData.blocks['MASS'][1000024]\n",
    "mN2 = slhaData.blocks['MASS'][1000023]\n",
    "mN1 = slhaData.blocks['MASS'][1000022]\n",
    "M1 = slhaData.blocks['EXTPAR'][1]\n",
    "M2 = slhaData.blocks['EXTPAR'][2]\n",
    "mu = slhaData.blocks['EXTPAR'][23]\n",
    "print('mC1 = %1.3f, mN2 = %1.3f, mLSP = %1.3f' %(mC1,mN2,mN1))\n",
    "print('M1 = %1.3f, M2 = %1.3f, mu = %1.3f' %(M1,M2,mu))\n",
    "\n",
    "print('\\nC1 decays:')\n",
    "print('ctau (m) = %1.2e' %(1.967e-16/slhaData.decays[1000024].totalwidth))\n",
    "for dec in slhaData.decays[1000024].decays:\n",
    "    if dec.br < 1e-3: continue\n",
    "    print(dec)\n",
    "    \n",
    "print('\\nN2 decays:')\n",
    "print('ctau (m) = %1.2e' %(1.967e-16/slhaData.decays[1000023].totalwidth))\n",
    "for dec in slhaData.decays[1000023].decays:\n",
    "    if dec.br < 1e-3: continue\n",
    "    print(dec)\n",
    "\n",
    "xsecC1N2 = 0.\n",
    "xsecC1N2 += max([x.value for x in slhaData.xsections[(2212,2212,1000023,1000024)].xsecs if x.sqrts == 13000.])\n",
    "xsecC1N2 += max([x.value for x in slhaData.xsections[(2212,2212,-1000024,1000023)].xsecs if x.sqrts == 13000.])\n",
    "      \n",
    "xsecRef = max(0,getXSecFor(1000023,1000024,(mC1+mN2)/2.,13.0,'wino'))\n",
    "xsecRef += max(0,getXSecFor(-1000024,1000023,(mC1+mN2)/2.,13.0,'wino'))\n",
    "\n",
    "print('\\nC1pmN2 xsec: %1.2e pb' %xsecC1N2)        \n",
    "print('C1pmN2 ref xsec: %1.2e pb' %xsecRef)"
   ]
  },
  {
   "cell_type": "code",
   "execution_count": null,
   "metadata": {},
   "outputs": [],
   "source": []
  }
 ],
 "metadata": {
  "kernelspec": {
   "display_name": "Python 3",
   "language": "python",
   "name": "python3"
  },
  "language_info": {
   "codemirror_mode": {
    "name": "ipython",
    "version": 3
   },
   "file_extension": ".py",
   "mimetype": "text/x-python",
   "name": "python",
   "nbconvert_exporter": "python",
   "pygments_lexer": "ipython3",
   "version": "3.8.10"
  }
 },
 "nbformat": 4,
 "nbformat_minor": 4
}
