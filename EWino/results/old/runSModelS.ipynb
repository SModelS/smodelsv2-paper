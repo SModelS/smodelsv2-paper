{
 "cells": [
  {
   "cell_type": "code",
   "execution_count": 1,
   "metadata": {},
   "outputs": [],
   "source": [
    "import sys\n",
    "sys.path.append('../../../smodels')\n",
    "from smodels.tools import runtime\n",
    "#Define your model (list of BSM particles)\n",
    "runtime.modelFile = 'smodels.share.models.mssm'\n",
    "#runtime.modelFile = 'mssmQNumbers.slha'\n",
    "\n",
    "from smodels.theory import decomposer\n",
    "from smodels.tools.physicsUnits import fb, GeV, TeV\n",
    "from smodels.theory.theoryPrediction import theoryPredictionsFor\n",
    "from smodels.experiment.databaseObj import Database\n",
    "from smodels.tools import coverage\n",
    "from smodels.tools.smodelsLogging import setLogLevel\n",
    "from smodels.particlesLoader import BSMList\n",
    "from smodels.share.models.SMparticles import SMList\n",
    "from smodels.theory.model import Model\n",
    "setLogLevel(\"info\")"
   ]
  },
  {
   "cell_type": "code",
   "execution_count": 2,
   "metadata": {},
   "outputs": [
    {
     "name": "stderr",
     "output_type": "stream",
     "text": [
      "INFO in databaseObj.loadBinaryFile() in 488: loading binary db file /home/lessa/.cache/smodels/official210.pcl format version 214\n",
      "INFO in databaseObj.loadBinaryFile() in 495: Loaded database from /home/lessa/.cache/smodels/official210.pcl in 1.0 secs.\n"
     ]
    }
   ],
   "source": [
    "# Set the path to the database\n",
    "database = Database(\"official\")"
   ]
  },
  {
   "cell_type": "code",
   "execution_count": 3,
   "metadata": {},
   "outputs": [
    {
     "name": "stderr",
     "output_type": "stream",
     "text": [
      "INFO in model.updateParticles() in 385: Loaded 62 BSM particles\n"
     ]
    }
   ],
   "source": [
    "model = Model(BSMparticles=BSMList, SMparticles=SMList)\n",
    "slhafile = '../../data/slha_scanRandom/ew_fexfinu1.slha'\n",
    "model.updateParticles(inputFile=slhafile)\n",
    "\n",
    "\n",
    "# Set main options for decomposition\n",
    "sigmacut = 0.001*fb\n",
    "mingap = 5.*GeV\n",
    "\n",
    "# Decompose model\n",
    "toplist = decomposer.decompose(model, sigmacut, doCompress=True, doInvisible=True, minmassgap=mingap)\n"
   ]
  },
  {
   "cell_type": "code",
   "execution_count": 4,
   "metadata": {},
   "outputs": [],
   "source": [
    "# exp = database.getExpResults(analysisIDs=['ATLAS-SUSY-2019-08'],txnames=['TChiWH'],dataTypes=['upperLimit'])[0]\n",
    "exp = database.getExpResults(analysisIDs=['ATLAS-SUSY-2017-03'],txnames=['TChiWZ'],dataTypes=['upperLimit'])[0]"
   ]
  },
  {
   "cell_type": "code",
   "execution_count": 5,
   "metadata": {},
   "outputs": [
    {
     "name": "stdout",
     "output_type": "stream",
     "text": [
      "TChiWZ\n"
     ]
    }
   ],
   "source": [
    "tx = exp.getTxNames()[0]\n",
    "print(tx)"
   ]
  },
  {
   "cell_type": "code",
   "execution_count": 6,
   "metadata": {},
   "outputs": [],
   "source": [
    "predictions = theoryPredictionsFor(exp, toplist, combinedResults=False, marginalize=False)"
   ]
  },
  {
   "cell_type": "code",
   "execution_count": 7,
   "metadata": {},
   "outputs": [
    {
     "name": "stdout",
     "output_type": "stream",
     "text": [
      "------------------------\n",
      "Dataset =  None\n",
      "TxNames =  ['TChiWZ']\n",
      "Theory Prediction =  1.30E+01 [TeV]:9.91E-04 [pb] (None, None)\n",
      "Condition Violation =  None\n",
      "UL for theory prediction =  2.15E+01 [fb]\n",
      "r =  0.046053963518103924\n",
      "[[[W+]],[[Z]]] [[C2+, N1], [N3, N1]] 3.06E-04 [pb]\n",
      "[[[W-]],[[Z]]] [[C2-, N1~], [N3, N1]] 1.16E-04 [pb]\n",
      "[[[W+]],[[Z]]] [[C2+, N1], [N3, inv]] 2.91E-04 [pb]\n",
      "[[[W-]],[[Z]]] [[C2-, N1~], [N3, inv]] 1.10E-04 [pb]\n",
      "[[[W+]],[[Z]]] [[C2+, inv], [N3, N1]] 6.29E-05 [pb]\n",
      "[[[W-]],[[Z]]] [[C2-, inv], [N3, N1]] 2.38E-05 [pb]\n",
      "[[[W+]],[[Z]]] [[C2+, inv], [N3, inv]] 5.97E-05 [pb]\n",
      "[[[W-]],[[Z]]] [[C2-, inv], [N3, inv]] 2.26E-05 [pb]\n"
     ]
    }
   ],
   "source": [
    "for theoryPrediction in predictions:\n",
    "    dataset = theoryPrediction.dataset\n",
    "    datasetID = theoryPrediction.dataId()\n",
    "    mass = theoryPrediction.mass\n",
    "    txnames = [str(txname) for txname in theoryPrediction.txnames]\n",
    "    PIDs =  theoryPrediction.PIDs         \n",
    "    print(\"------------------------\" )\n",
    "    print(\"Dataset = \",datasetID )   #Analysis name\n",
    "    print(\"TxNames = \",txnames )  \n",
    "    print(\"Theory Prediction = \",theoryPrediction.xsection )  #Signal cross section\n",
    "    print(\"Condition Violation = \",theoryPrediction.conditions ) #Condition violation values\n",
    "\n",
    "    # Get the corresponding upper limit:\n",
    "    print(\"UL for theory prediction = \",theoryPrediction.upperLimit )\n",
    "\n",
    "    # Compute the r-value\n",
    "    r = theoryPrediction.getRValue()\n",
    "    print(\"r = \",r )\n",
    "    \n",
    "    for el in theoryPrediction.elements:\n",
    "        print(el,el.oddParticles,el.weight.getMaxXsec())\n",
    "#         print(theoryPrediction.getUpperLimit())\n",
    "    "
   ]
  },
  {
   "cell_type": "code",
   "execution_count": null,
   "metadata": {},
   "outputs": [],
   "source": []
  }
 ],
 "metadata": {
  "kernelspec": {
   "display_name": "Python 3",
   "language": "python",
   "name": "python3"
  },
  "language_info": {
   "codemirror_mode": {
    "name": "ipython",
    "version": 3
   },
   "file_extension": ".py",
   "mimetype": "text/x-python",
   "name": "python",
   "nbconvert_exporter": "python",
   "pygments_lexer": "ipython3",
   "version": "3.8.10"
  }
 },
 "nbformat": 4,
 "nbformat_minor": 4
}
