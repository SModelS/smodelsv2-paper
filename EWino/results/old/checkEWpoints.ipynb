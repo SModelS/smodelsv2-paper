{
 "cells": [
  {
   "cell_type": "code",
   "execution_count": 3,
   "metadata": {},
   "outputs": [],
   "source": [
    "import warnings\n",
    "warnings.filterwarnings(\"ignore\", message=\"numpy.dtype size changed\")\n",
    "import numpy as np\n",
    "import pandas as pd\n",
    "import glob,imp,os,sys\n",
    "from pandas.io.json import json_normalize\n",
    "sys.path.append('../')\n",
    "from getRefXSecs import getXSecFor\n",
    "import pyslha\n",
    "import matplotlib as mpl\n",
    "import matplotlib.pyplot as plt\n",
    "from matplotlib.colors import LogNorm\n",
    "from collections import OrderedDict\n",
    "import seaborn as sns\n",
    "\n",
    "pd.option_context('display.max_columns', -1)\n",
    "\n",
    "pd.options.mode.chained_assignment = None #Disable copy warnings\n",
    "# plt.style.use('fivethirtyeight') #Set style\n",
    "# mpl.rcParams.update({'figure.figsize' : (15,10)})  #Set general plotting options\n",
    "\n",
    "#Define plotting style:\n",
    "sns.set() #Set style\n",
    "sns.set_style('ticks',{'font.family':'Times New Roman', 'font.serif':'Times New Roman'})\n",
    "sns.set_context('paper', font_scale=1.8)\n",
    "cm = plt.cm.get_cmap('RdYlBu')"
   ]
  },
  {
   "cell_type": "code",
   "execution_count": 4,
   "metadata": {},
   "outputs": [],
   "source": [
    "#Merge with SModelS DataFrame\n",
    "dataDF = pd.read_pickle('../EWino_scanRandom.pcl')\n",
    "# print(dataDF.columns.values.tolist()) #Print all columns names"
   ]
  },
  {
   "cell_type": "markdown",
   "metadata": {},
   "source": [
    "#### Set r = 0 for points with no results "
   ]
  },
  {
   "cell_type": "code",
   "execution_count": 5,
   "metadata": {},
   "outputs": [],
   "source": [
    "#Set points without results with r == 0\n",
    "dataDF.fillna(value={'ExptRes.result0.r' : 0.0},inplace=True)\n",
    "#Sort points according to r value:\n",
    "dataDF = dataDF.sort_values(by=['ExptRes.result0.r'],ascending=False)\n",
    "#Add simple flag for excluded points:\n",
    "dataDF['excluded'] = dataDF['ExptRes.result0.r'] > 1."
   ]
  },
  {
   "cell_type": "markdown",
   "metadata": {},
   "source": [
    "#### Add c*tau column for charginos"
   ]
  },
  {
   "cell_type": "code",
   "execution_count": 6,
   "metadata": {},
   "outputs": [],
   "source": [
    "dataDF['ctau.1000024'] = 1.967e-16/dataDF['width.1000024']"
   ]
  },
  {
   "cell_type": "markdown",
   "metadata": {},
   "source": [
    "### Add ratio of total cross-section to wino cross-sections"
   ]
  },
  {
   "cell_type": "code",
   "execution_count": 7,
   "metadata": {},
   "outputs": [],
   "source": [
    "# pids = [[-1000024,1000024],[1000023,1000024],[-1000024,1000023]]\n",
    "# ratio = []\n",
    "# for index,row in dataDF.iterrows():    \n",
    "#     xsecRefSum = 0.0\n",
    "#     xsecSum = 0.0\n",
    "#     for pidpair in pids:\n",
    "#         mass1 = row['mass.%i'%abs(pidpair[0])] \n",
    "#         mass2 = row['mass.%i'%abs(pidpair[1])] \n",
    "#         mass = (mass1+mass2)/2.\n",
    "#         xsecRef = max(0,1000*getXSecFor(pidpair[0],pidpair[1],mass,13.0,'wino'))\n",
    "#         xsecRefSum += xsecRef\n",
    "            \n",
    "#         xsecLabel = 'xsec13TeV(fb).%i_%i' %(pidpair[0],pidpair[1])\n",
    "#         try:\n",
    "#             xsec = row[xsecLabel]\n",
    "#         except:\n",
    "#             xsec = 0.0\n",
    "#         xsecSum += xsec\n",
    "#     if xsecRefSum > 0.0:\n",
    "#         ratio.append(xsecSum/xsecRefSum)    \n",
    "#     else:\n",
    "#         ratio.append(0.0)"
   ]
  },
  {
   "cell_type": "code",
   "execution_count": 8,
   "metadata": {},
   "outputs": [],
   "source": [
    "# dataDF['xsecRatio'] = ratio"
   ]
  },
  {
   "cell_type": "markdown",
   "metadata": {},
   "source": [
    "### Get points excluded and allowed"
   ]
  },
  {
   "cell_type": "code",
   "execution_count": 9,
   "metadata": {},
   "outputs": [
    {
     "name": "stdout",
     "output_type": "stream",
     "text": [
      "Total number of points = 96629\n",
      "Total excluded = 7269\n",
      "Total allowed = 89360\n"
     ]
    }
   ],
   "source": [
    "excluded = dataDF[dataDF['excluded'] == True]\n",
    "allowed = dataDF[dataDF['excluded'] == False]\n",
    "print('Total number of points = %i' %len(dataDF))\n",
    "print('Total excluded = %i'%(len(excluded)))\n",
    "print('Total allowed = %i'%(len(allowed)))"
   ]
  },
  {
   "cell_type": "markdown",
   "metadata": {},
   "source": [
    "### Create analysis label for excluded points"
   ]
  },
  {
   "cell_type": "code",
   "execution_count": 10,
   "metadata": {},
   "outputs": [],
   "source": [
    "anas = excluded['ExptRes.result0.AnalysisID'].value_counts()\n",
    "anas.sort_values(inplace=True,ascending=False)\n",
    "\n",
    "    \n",
    "labels = []\n",
    "for index, row in excluded.iterrows():\n",
    "    ana = row['ExptRes.result0.AnalysisID']\n",
    "    txList = sorted(row['ExptRes.result0.TxNames'])\n",
    "    label = ana + ' (' + ','.join(txList) + ')'\n",
    "    label = label.replace('off','') #Group together on and off-shell topologies\n",
    "    labels.append(label)\n",
    "excluded['label'] = labels\n"
   ]
  },
  {
   "cell_type": "code",
   "execution_count": null,
   "metadata": {},
   "outputs": [],
   "source": []
  },
  {
   "cell_type": "code",
   "execution_count": null,
   "metadata": {},
   "outputs": [],
   "source": []
  },
  {
   "cell_type": "code",
   "execution_count": 14,
   "metadata": {},
   "outputs": [
    {
     "name": "stdout",
     "output_type": "stream",
     "text": [
      "26\n",
      "               filename ExptRes.result0.AnalysisID  ExptRes.result0.r  \\\n",
      "37251  ew_tsrtluf2.slha         ATLAS-SUSY-2018-32           1.855510   \n",
      "38061  ew_tk631bjq.slha         ATLAS-SUSY-2018-32           1.730209   \n",
      "18440  ew_ai_imb_5.slha         ATLAS-SUSY-2018-32           1.665554   \n",
      "80691  ew_1vosje0n.slha         ATLAS-SUSY-2018-32           1.637391   \n",
      "1324   ew_wo61jb12.slha         ATLAS-SUSY-2018-32           1.622996   \n",
      "72080  ew_kw5e_983.slha         ATLAS-SUSY-2018-32           1.563346   \n",
      "987    ew_phxcy4w3.slha         ATLAS-SUSY-2018-32           1.561608   \n",
      "36118  ew_bu0w6uot.slha         ATLAS-SUSY-2018-32           1.549555   \n",
      "28325  ew_n6jp0gg9.slha         ATLAS-SUSY-2018-32           1.465227   \n",
      "54691  ew_pl6sgljk.slha         ATLAS-SUSY-2018-32           1.418016   \n",
      "35240  ew_rupv_3k0.slha         ATLAS-SUSY-2018-32           1.388448   \n",
      "9938   ew_dcazesgi.slha         ATLAS-SUSY-2018-32           1.345907   \n",
      "34669  ew_s4_i2htc.slha         ATLAS-SUSY-2018-32           1.292866   \n",
      "75671  ew_3yp2hzd_.slha         ATLAS-SUSY-2018-32           1.255125   \n",
      "89600  ew_y91qp_w_.slha         ATLAS-SUSY-2018-32           1.250874   \n",
      "22802  ew_5qj5fm2u.slha         ATLAS-SUSY-2018-32           1.229399   \n",
      "64833  ew_pi9888r4.slha         ATLAS-SUSY-2018-32           1.208648   \n",
      "7452   ew_7ealrrb8.slha         ATLAS-SUSY-2018-32           1.185074   \n",
      "68718  ew_n1921qnf.slha         ATLAS-SUSY-2018-32           1.167479   \n",
      "27490  ew_e7eya299.slha         ATLAS-SUSY-2018-32           1.152860   \n",
      "14889  ew_ek_lvziw.slha         ATLAS-SUSY-2018-32           1.137416   \n",
      "94488  ew_qfsg36oc.slha         ATLAS-SUSY-2018-32           1.102320   \n",
      "92747  ew_rp0mgrdn.slha         ATLAS-SUSY-2018-32           1.089073   \n",
      "88687  ew_6gi5r8z6.slha         ATLAS-SUSY-2018-32           1.086440   \n",
      "46773  ew_zvz239ni.slha         ATLAS-SUSY-2018-32           1.058097   \n",
      "86150  ew_dfukcbjq.slha         ATLAS-SUSY-2018-32           1.024987   \n",
      "\n",
      "       ExptRes.result1.r  \n",
      "37251           1.097885  \n",
      "38061           1.343475  \n",
      "18440           1.239930  \n",
      "80691           1.231108  \n",
      "1324            0.925498  \n",
      "72080           1.069187  \n",
      "987             1.031423  \n",
      "36118           1.044922  \n",
      "28325           0.834307  \n",
      "54691           1.408881  \n",
      "35240           1.211546  \n",
      "9938            1.042827  \n",
      "34669           1.241166  \n",
      "75671           0.731139  \n",
      "89600           0.905020  \n",
      "22802           0.888466  \n",
      "64833           0.972580  \n",
      "7452            0.863072  \n",
      "68718           0.808956  \n",
      "27490           0.746011  \n",
      "14889           0.807368  \n",
      "94488           0.798784  \n",
      "92747           0.924643  \n",
      "88687           0.878489  \n",
      "46773           0.725305  \n",
      "86150           0.810594  \n"
     ]
    }
   ],
   "source": [
    "# dataFiltered = allowed[(allowed['mass.1000024']-allowed['mass.1000022'] < 90.)\n",
    "#         & (abs(allowed['mass.1000022']-150.) < 30.)\n",
    "#         & (abs(allowed['mass.1000024']-175.) < 25.)\n",
    "#         & (abs(allowed['mass.1000024']-allowed['mass.1000023']) < 1.0)                       \n",
    "#         & (allowed['ExptRes.result0.r']/allowed['xsecRatio'] < 0.9)]\n",
    "# dataFiltered[['mass.1000024','mass.1000023','mass.1000022','ExptRes.result0.r','xsecRatio','filename']]\n",
    "dataFilter = excluded[(excluded['label'] == 'ATLAS-SUSY-2018-32 (TChiWW)')\n",
    "                     & (excluded['mass.1000024'] < 250)]\n",
    "print(len(dataFilter))\n",
    "print(dataFilter[['filename','ExptRes.result0.AnalysisID','ExptRes.result0.r','ExptRes.result1.r']])"
   ]
  },
  {
   "cell_type": "code",
   "execution_count": null,
   "metadata": {},
   "outputs": [],
   "source": [
    "plt.figure(figsize=(14,6))\n",
    "excCurves = {}\n",
    "excCurves['CMS-SUS-17-004 (TChiWZ)'] =  np.genfromtxt('../EWino/data/CMS_SUS_17_004_TChiWZ_obs.csv', \n",
    "                                                      delimiter=',')\n",
    "colorDict = dict(zip(excCurves.keys(),sns.color_palette(\"Paired\",len(excCurves))))\n",
    "\n",
    "x = dataFiltered['mass.1000024']\n",
    "y = dataFiltered['mass.1000022']\n",
    "# z = dataFiltered['ExptRes.result0.r']\n",
    "z = dataFiltered['ExptRes.result0.r']/dataFiltered['xsecRatio']\n",
    "cm = plt.cm.get_cmap('Greys')\n",
    "cm = plt.cm.get_cmap('PiYG', 11) \n",
    "\n",
    "plt.scatter(x,y,c=z,s=20,cmap=cm,vmin=z.min(),vmax=z.max())\n",
    "\n",
    "plt.plot([90,500],[0,410],linestyle='--',c='black')\n",
    "\n",
    "\n",
    "for ana in excCurves:\n",
    "    curve = excCurves[ana]\n",
    "    color = colorDict[ana]\n",
    "    plt.plot(curve[:,0],curve[:,1],linewidth=5,linestyle='-',color=color,label=ana)\n",
    "        \n",
    "\n",
    "lgd = plt.legend(loc=(1.3,0.2), framealpha=1.,fontsize=12)\n",
    "\n",
    "plt.ylim(100,200)\n",
    "plt.xlim(150,250)\n",
    "plt.xlabel(r'$\\mathregular{m_{\\tilde{\\chi}_1^\\pm}}$ (GeV)',fontsize = 25)\n",
    "plt.ylabel(r'$\\mathregular{m_{\\tilde{\\chi}_1^0}}$ (GeV)',fontsize = 25)\n",
    "plt.title(\"Points allowed by LHC(%i points)\" %len(x))\n",
    "plt.colorbar(label = r'$\\sigma_{EW}/\\sigma_{EW}^{wino}$')\n",
    "plt.tight_layout()\n",
    "plt.show()"
   ]
  },
  {
   "cell_type": "code",
   "execution_count": null,
   "metadata": {},
   "outputs": [],
   "source": [
    "dataFiltered['ExptRes.result0.r']/dataFiltered['xsecRatio']"
   ]
  },
  {
   "cell_type": "code",
   "execution_count": null,
   "metadata": {},
   "outputs": [],
   "source": [
    "row = allowed.loc[8885]"
   ]
  },
  {
   "cell_type": "code",
   "execution_count": null,
   "metadata": {},
   "outputs": [],
   "source": [
    "row['mass.1000024'],row['mass.1000022'],row['filename']"
   ]
  },
  {
   "cell_type": "code",
   "execution_count": null,
   "metadata": {},
   "outputs": [],
   "source": [
    "print(row['ExptRes.result0.r'],row['ExptRes.result0.AnalysisID'])"
   ]
  },
  {
   "cell_type": "code",
   "execution_count": null,
   "metadata": {},
   "outputs": [],
   "source": [
    "print(row['xsec13TeV(fb).1000023_1000024'],row['xsec13TeV(fb).-1000024_1000023'])\n",
    "print('Total = ',row['xsec13TeV(fb).1000023_1000024']+row['xsec13TeV(fb).-1000024_1000023'])"
   ]
  },
  {
   "cell_type": "code",
   "execution_count": null,
   "metadata": {},
   "outputs": [],
   "source": [
    "#Cross-sections from Prospino:\n",
    "# (1000023_1000024): LO = 5.64, NLO = 6.33\n",
    "# (-1000024_1000023): LO = 1.88, NLO = 2.27\n",
    "# Total: LO = 7.52, NLO = 8.6 (K = 1.14)\n",
    "\n",
    "#Cross-sections from Pythia6:\n",
    "# (1000023_1000024): LO = 5.958\n",
    "# (-1000024_1000023): LO = 1.962\n",
    "# Total: LO = 7.91\n",
    "\n",
    "#Cross-sections for winos (LHC SUSY Xsec group):\n",
    "# (1000023_1000024): NLO+NLL = 6.99\n",
    "# (-1000024_1000023): NLO+NLL = 2.52\n",
    "# Total: NLO+NLL = 9.51\n",
    "\n",
    "\n"
   ]
  }
 ],
 "metadata": {
  "kernelspec": {
   "display_name": "Python 3",
   "language": "python",
   "name": "python3"
  },
  "language_info": {
   "codemirror_mode": {
    "name": "ipython",
    "version": 3
   },
   "file_extension": ".py",
   "mimetype": "text/x-python",
   "name": "python",
   "nbconvert_exporter": "python",
   "pygments_lexer": "ipython3",
   "version": "3.8.10"
  }
 },
 "nbformat": 4,
 "nbformat_minor": 4
}
