{
 "cells": [
  {
   "cell_type": "markdown",
   "metadata": {},
   "source": [
    "# Plot results using the DataFrame stored in pickle file"
   ]
  },
  {
   "cell_type": "code",
   "execution_count": 1,
   "metadata": {},
   "outputs": [],
   "source": [
    "import warnings\n",
    "warnings.filterwarnings(\"ignore\", message=\"numpy.dtype size changed\")\n",
    "from getRefXSecs import getXSecFor\n",
    "import numpy as np\n",
    "import pandas as pd\n",
    "import glob,imp,os,shutil\n",
    "from pandas.io.json import json_normalize\n",
    "import pyslha\n",
    "import matplotlib as mpl\n",
    "import matplotlib.pyplot as plt\n",
    "from matplotlib.colors import LogNorm\n",
    "from collections import OrderedDict\n",
    "import seaborn as sns\n",
    "from scipy.interpolate import interp1d\n",
    "import pyslha\n",
    "\n",
    "\n",
    "pd.option_context('display.max_columns', -1)\n",
    "\n",
    "pd.options.mode.chained_assignment = None #Disable copy warnings\n",
    "# plt.style.use('fivethirtyeight') #Set style\n",
    "# mpl.rcParams.update({'figure.figsize' : (15,10)})  #Set general plotting options\n",
    "\n",
    "#Define plotting style:\n",
    "sns.set() #Set style\n",
    "sns.set_style('ticks',{'font.family':'Times New Roman', 'font.serif':'Times New Roman'})\n",
    "sns.set_context('paper', font_scale=1.8)\n",
    "cm = plt.cm.get_cmap('RdYlBu')"
   ]
  },
  {
   "cell_type": "code",
   "execution_count": 2,
   "metadata": {},
   "outputs": [],
   "source": [
    "#Merge with SModelS DataFrame\n",
    "dataDF = pd.read_pickle('EWino_scanRandom.pcl')\n",
    "# print(dataDF.columns.values.tolist()) #Print all columns names"
   ]
  },
  {
   "cell_type": "markdown",
   "metadata": {},
   "source": [
    "#### Set r = 0 for points with no results "
   ]
  },
  {
   "cell_type": "code",
   "execution_count": 3,
   "metadata": {},
   "outputs": [],
   "source": [
    "#Set points without results with r == 0\n",
    "dataDF.fillna(value={'ExptRes.result0.r' : 0.0},inplace=True)\n",
    "#Sort points according to r value:\n",
    "dataDF = dataDF.sort_values(by=['ExptRes.result0.r'],ascending=False)"
   ]
  },
  {
   "cell_type": "markdown",
   "metadata": {},
   "source": [
    "#### Define exclusions"
   ]
  },
  {
   "cell_type": "code",
   "execution_count": 4,
   "metadata": {},
   "outputs": [],
   "source": [
    "#Add simple flag for excluded points:\n",
    "dataDF['excludedLHC'] = dataDF['ExptRes.result0.r'] > 1.0\n",
    "dataDF['excludedRelic'] = dataDF['Omega'] > 0.13\n",
    "#Xenon 1T curve (from micromegas):\n",
    "data_1t_lnM = [1.790E+00, 1.885E+00, 2.006E+00, 2.148E+00, 2.297E+00, 2.449E+00, 2.598E+00, 2.783E+00, 2.961E+00, 3.117E+00, 3.302E+00, 3.444E+00, 3.614E+00, 3.796E+00, 4.037E+00, 4.268E+00, 4.581E+00, 4.904E+00, 5.178E+00, 5.441E+00, 5.768E+00, 6.095E+00, 6.369E+00, 6.550E+00, 6.891E+00]\n",
    "data_1t_lnS = [1.040E+00, 2.794E-02,-1.003E+00,-2.035E+00,-2.888E+00,-3.591E+00,-4.144E+00,-4.717E+00,-5.111E+00,-5.326E+00,-5.458E+00,-5.486E+00,-5.440E+00,-5.375E+00,-5.178E+00,-4.982E+00,-4.711E+00,-4.412E+00,-4.150E+00,-3.925E+00,-3.598E+00,-3.270E+00,-3.009E+00,-2.812E+00,-2.485E+00]\n",
    "xenonF = interp1d(data_1t_lnM,data_1t_lnS,\n",
    "                  bounds_error=False,fill_value=\"extrapolate\") #interpolate in log\n",
    "@np.vectorize\n",
    "def xenonUL(mDM):\n",
    "    return 1e-8*np.exp(xenonF(np.log(mDM))) #90% upper limit on sigmaNucleon (pb)\n",
    "\n",
    "rDD = (dataDF['Omega']/0.12)*(dataDF['proton_SI']+dataDF['neutron_SI'])/2.0\n",
    "rDD = rDD/xenonUL(dataDF['mass.1000022'])\n",
    "dataDF['excludedDD'] = (rDD > 1)"
   ]
  },
  {
   "cell_type": "markdown",
   "metadata": {},
   "source": [
    "#### Add c*tau column for charginos"
   ]
  },
  {
   "cell_type": "code",
   "execution_count": 5,
   "metadata": {},
   "outputs": [],
   "source": [
    "dataDF['ctau.1000024'] = 1.967e-16/dataDF['width.1000024']"
   ]
  },
  {
   "cell_type": "markdown",
   "metadata": {},
   "source": [
    "### Get points excluded:"
   ]
  },
  {
   "cell_type": "code",
   "execution_count": 6,
   "metadata": {},
   "outputs": [
    {
     "name": "stdout",
     "output_type": "stream",
     "text": [
      "Total number of points = 96669\n",
      "Total excluded (LHC) = 7348\n",
      "Total excluded (relic) = 41245\n",
      "Total excluded (DD) = 12347\n",
      "Total allowed = 35729\n",
      "\n"
     ]
    }
   ],
   "source": [
    "excluded = dataDF[dataDF['excludedLHC'] == True]\n",
    "excludedDM = dataDF[(dataDF['excludedLHC'] == False) & (dataDF['excludedRelic'] == True)]\n",
    "excludedDD = dataDF[(dataDF['excludedLHC'] == False) & (dataDF['excludedRelic'] == False) \n",
    "                    & (dataDF['excludedDD'] == True)]\n",
    "\n",
    "allowed = dataDF[(dataDF['excludedLHC'] == False) & (dataDF['excludedRelic'] == False) \n",
    "                 & (dataDF['excludedDD'] == False)]\n",
    "\n",
    "allowedLHCDD = dataDF[(dataDF['excludedLHC'] == False) & (dataDF['excludedRelic'] == False)]\n",
    "\n",
    "allowedLHC = dataDF[(dataDF['excludedLHC'] == False)]\n",
    "\n",
    "print('Total number of points = %i' %len(dataDF))\n",
    "print('Total excluded (LHC) = %i'%(len(excluded)))\n",
    "print('Total excluded (relic) = %i'%(len(excludedDM)))\n",
    "print('Total excluded (DD) = %i'%(len(excludedDD)))\n",
    "print('Total allowed = %i\\n'%(len(allowed)))\n",
    "\n",
    "# print('Total excluded (r > %1.2f) = %i'%(rscale,len(excludedSC)))\n",
    "# print('Total allowed (r > %1.2f) = %i'%(rscale,len(allowedSC)))\n"
   ]
  },
  {
   "cell_type": "code",
   "execution_count": 14,
   "metadata": {},
   "outputs": [],
   "source": [
    "# lightAllowed = allowedLHC[(allowedLHC['mass.1000024'] < 400) \n",
    "#                           & (allowedLHC['mass.1000022'] < 140)\n",
    "#                          & (allowedLHC['xsecRatio'] > 0.9)]\n",
    "\n",
    "# lightAllowed = allowedLHC[(allowedLHC['mass.1000024']-allowedLHC['mass.1000022'] < 90.)\n",
    "#         & (abs(allowedLHC['mass.1000022']-100.) < 10.)\n",
    "#         & (abs(allowedLHC['mass.1000024']-150.) < 20.)]\n",
    "\n",
    "lightAllowed = dataDF[(abs(dataDF['extpar.1']/dataDF['extpar.2'] - 1.0) < 0.1) & (dataDF['xsecRatio'] > 0.9)]"
   ]
  },
  {
   "cell_type": "code",
   "execution_count": 16,
   "metadata": {},
   "outputs": [
    {
     "data": {
      "text/html": [
       "<div>\n",
       "<style scoped>\n",
       "    .dataframe tbody tr th:only-of-type {\n",
       "        vertical-align: middle;\n",
       "    }\n",
       "\n",
       "    .dataframe tbody tr th {\n",
       "        vertical-align: top;\n",
       "    }\n",
       "\n",
       "    .dataframe thead th {\n",
       "        text-align: right;\n",
       "    }\n",
       "</style>\n",
       "<table border=\"1\" class=\"dataframe\">\n",
       "  <thead>\n",
       "    <tr style=\"text-align: right;\">\n",
       "      <th></th>\n",
       "      <th>filename</th>\n",
       "      <th>mass.1000022</th>\n",
       "      <th>mass.1000023</th>\n",
       "      <th>mass.1000024</th>\n",
       "      <th>ExptRes.result0.r</th>\n",
       "      <th>xsecRatio</th>\n",
       "    </tr>\n",
       "  </thead>\n",
       "  <tbody>\n",
       "    <tr>\n",
       "      <th>85057</th>\n",
       "      <td>ew_ahtejtpl.slha</td>\n",
       "      <td>1884.18472</td>\n",
       "      <td>2158.35734</td>\n",
       "      <td>2158.50522</td>\n",
       "      <td>0.0</td>\n",
       "      <td>4.173275</td>\n",
       "    </tr>\n",
       "    <tr>\n",
       "      <th>87562</th>\n",
       "      <td>ew_6lmn86g2.slha</td>\n",
       "      <td>2161.36454</td>\n",
       "      <td>2172.76089</td>\n",
       "      <td>2166.68465</td>\n",
       "      <td>0.0</td>\n",
       "      <td>4.693640</td>\n",
       "    </tr>\n",
       "    <tr>\n",
       "      <th>95956</th>\n",
       "      <td>ew_9xg5nh8r.slha</td>\n",
       "      <td>1929.84081</td>\n",
       "      <td>2151.92438</td>\n",
       "      <td>2152.06704</td>\n",
       "      <td>0.0</td>\n",
       "      <td>2.975135</td>\n",
       "    </tr>\n",
       "    <tr>\n",
       "      <th>84591</th>\n",
       "      <td>ew_xfihypda.slha</td>\n",
       "      <td>1829.25244</td>\n",
       "      <td>2113.76058</td>\n",
       "      <td>2113.83927</td>\n",
       "      <td>0.0</td>\n",
       "      <td>1.267093</td>\n",
       "    </tr>\n",
       "    <tr>\n",
       "      <th>72943</th>\n",
       "      <td>ew_g1jyc_lz.slha</td>\n",
       "      <td>2016.11451</td>\n",
       "      <td>2141.63912</td>\n",
       "      <td>2141.35864</td>\n",
       "      <td>0.0</td>\n",
       "      <td>1.234511</td>\n",
       "    </tr>\n",
       "    <tr>\n",
       "      <th>...</th>\n",
       "      <td>...</td>\n",
       "      <td>...</td>\n",
       "      <td>...</td>\n",
       "      <td>...</td>\n",
       "      <td>...</td>\n",
       "      <td>...</td>\n",
       "    </tr>\n",
       "    <tr>\n",
       "      <th>46769</th>\n",
       "      <td>ew_3n9vzl82.slha</td>\n",
       "      <td>1934.93997</td>\n",
       "      <td>2173.33399</td>\n",
       "      <td>2173.43613</td>\n",
       "      <td>0.0</td>\n",
       "      <td>31.105268</td>\n",
       "    </tr>\n",
       "    <tr>\n",
       "      <th>45315</th>\n",
       "      <td>ew_tds63cgf.slha</td>\n",
       "      <td>2157.97428</td>\n",
       "      <td>2165.88278</td>\n",
       "      <td>2161.18745</td>\n",
       "      <td>0.0</td>\n",
       "      <td>2.018172</td>\n",
       "    </tr>\n",
       "    <tr>\n",
       "      <th>48834</th>\n",
       "      <td>ew_cyjfa49b.slha</td>\n",
       "      <td>2171.68669</td>\n",
       "      <td>2177.33815</td>\n",
       "      <td>2173.83806</td>\n",
       "      <td>0.0</td>\n",
       "      <td>31.875356</td>\n",
       "    </tr>\n",
       "    <tr>\n",
       "      <th>48681</th>\n",
       "      <td>ew_h532atht.slha</td>\n",
       "      <td>2160.18596</td>\n",
       "      <td>2175.52880</td>\n",
       "      <td>2168.92623</td>\n",
       "      <td>0.0</td>\n",
       "      <td>7.798360</td>\n",
       "    </tr>\n",
       "    <tr>\n",
       "      <th>48357</th>\n",
       "      <td>ew_liw5u4xp.slha</td>\n",
       "      <td>2164.17475</td>\n",
       "      <td>2173.62297</td>\n",
       "      <td>2167.52602</td>\n",
       "      <td>0.0</td>\n",
       "      <td>5.599754</td>\n",
       "    </tr>\n",
       "  </tbody>\n",
       "</table>\n",
       "<p>136 rows × 6 columns</p>\n",
       "</div>"
      ],
      "text/plain": [
       "               filename  mass.1000022  mass.1000023  mass.1000024  \\\n",
       "85057  ew_ahtejtpl.slha    1884.18472    2158.35734    2158.50522   \n",
       "87562  ew_6lmn86g2.slha    2161.36454    2172.76089    2166.68465   \n",
       "95956  ew_9xg5nh8r.slha    1929.84081    2151.92438    2152.06704   \n",
       "84591  ew_xfihypda.slha    1829.25244    2113.76058    2113.83927   \n",
       "72943  ew_g1jyc_lz.slha    2016.11451    2141.63912    2141.35864   \n",
       "...                 ...           ...           ...           ...   \n",
       "46769  ew_3n9vzl82.slha    1934.93997    2173.33399    2173.43613   \n",
       "45315  ew_tds63cgf.slha    2157.97428    2165.88278    2161.18745   \n",
       "48834  ew_cyjfa49b.slha    2171.68669    2177.33815    2173.83806   \n",
       "48681  ew_h532atht.slha    2160.18596    2175.52880    2168.92623   \n",
       "48357  ew_liw5u4xp.slha    2164.17475    2173.62297    2167.52602   \n",
       "\n",
       "       ExptRes.result0.r  xsecRatio  \n",
       "85057                0.0   4.173275  \n",
       "87562                0.0   4.693640  \n",
       "95956                0.0   2.975135  \n",
       "84591                0.0   1.267093  \n",
       "72943                0.0   1.234511  \n",
       "...                  ...        ...  \n",
       "46769                0.0  31.105268  \n",
       "45315                0.0   2.018172  \n",
       "48834                0.0  31.875356  \n",
       "48681                0.0   7.798360  \n",
       "48357                0.0   5.599754  \n",
       "\n",
       "[136 rows x 6 columns]"
      ]
     },
     "execution_count": 16,
     "metadata": {},
     "output_type": "execute_result"
    }
   ],
   "source": [
    "lightAllowed[['filename','mass.1000022','mass.1000023','mass.1000024','ExptRes.result0.r','xsecRatio']]"
   ]
  },
  {
   "cell_type": "code",
   "execution_count": 9,
   "metadata": {},
   "outputs": [
    {
     "name": "stdout",
     "output_type": "stream",
     "text": [
      "Input status: 1\n",
      "Decomposition output status: 1 #decomposition was successful\n",
      "# Input File: ../EWino/data/slha_scanRandom/ew_8hc5sqqr.slha\n",
      "# maxcond = 0.2\n",
      "# minmassgap = 5.\n",
      "# ncpus = 30\n",
      "# sigmacut = 0.005\n",
      "# Database version: 2.1.0\n",
      "================================================================================\n",
      "#Analysis  Sqrts  Cond_Violation  Theory_Value(fb)  Exp_limit(fb)  r  r_expected\n",
      "\n",
      " ATLAS-SUSY-2016-07  1.30E+01    0.0  1.958E-02  2.170E+00  9.023E-03  9.280E-03\n",
      " Signal Region:  6j_Meff_1200\n",
      " Txnames:  T1\n",
      " Likelihoods: L, L_max, L_SM =  2.991E-04  2.993E-04  2.988E-04\n",
      "--------------------------------------------------------------------------------\n",
      " ATLAS-SUSY-2016-32  1.30E+01    0.0  1.719E-05  1.260E+00  1.364E-05  1.364E-05\n",
      " Signal Region:  SR1FULL_175\n",
      " Txnames:  THSCPM1b, THSCPM2b\n",
      " Likelihoods: L, L_max, L_SM =  4.617E-04  4.617E-04  4.617E-04\n",
      "--------------------------------------------------------------------------------\n",
      "     CMS-EXO-13-006  8.00E+00    0.0  5.791E-07  4.500E-01  1.287E-06  1.565E-06\n",
      " Signal Region:  c100\n",
      " Txnames:  THSCPM1b, THSCPM2b\n",
      " Likelihoods: L, L_max, L_SM =  4.735E-02  5.404E-02  4.735E-02\n",
      "\n",
      " \n",
      "================================================================================\n",
      "The highest r value is = 0.009023237996 from ATLAS-SUSY-2016-07 (r_expected=0.00928)\n",
      "CMS analysis with highest available r_expected: CMS-EXO-13-006, r_expected=0.00000, r_obs=0.00000\n",
      "ATLAS analysis with highest available r_expected: ATLAS-SUSY-2016-07, r_expected=0.00928, r_obs=0.00902\n",
      "\n",
      "Total cross-section for missing topologies (fb):  8.872E-02\n",
      "Total cross-section for missing topologies with displaced decays (fb):  0.000E+00\n",
      "Total cross-section for missing topologies with prompt decays (fb):  2.282E+03\n",
      "Total cross-section for topologies outside the grid (fb):  2.322E+03\n",
      "\n",
      "Full information on unconstrained cross sections\n",
      "================================================================================\n",
      "missing topologies with the highest cross sections (up to 10):\n",
      "Sqrts (TeV)   Weight (fb)                  Element description\n",
      " 13.0          6.023E-02    #                     [[[jet,jet]],[[l,nu]]]  (MET,MET)\n",
      " 13.0          2.849E-02    #                    [[[jet,jet]],[[nu,ta]]]  (MET,MET)\n",
      "================================================================================\n",
      "No missing topologies with displaced decays found\n",
      "================================================================================\n",
      "missing topologies with prompt decays with the highest cross sections (up to 10):\n",
      "Sqrts (TeV)   Weight (fb)                  Element description\n",
      " 13.0          1.259E+03    #                           [[],[[jet,jet]]]  (MET,MET)\n",
      " 13.0          4.226E+02    #                              [[],[[l,nu]]]  (MET,MET)\n",
      " 13.0          2.400E+02    #                     [[[jet,jet]],[[l,nu]]]  (MET,MET)\n",
      " 13.0          1.999E+02    #                             [[],[[nu,ta]]]  (MET,MET)\n",
      " 13.0          1.135E+02    #                    [[[jet,jet]],[[nu,ta]]]  (MET,MET)\n",
      " 13.0          3.810E+01    #                       [[[l,nu]],[[nu,ta]]]  (MET,MET)\n",
      " 13.0          9.010E+00    #                      [[[nu,ta]],[[nu,ta]]]  (MET,MET)\n",
      "================================================================================\n",
      "topologies outside the grid with the highest cross sections (up to 10):\n",
      "Sqrts (TeV)   Weight (fb)                  Element description\n",
      " 13.0          1.259E+03    #                           [[],[[jet,jet]]]  (MET,MET)\n",
      " 13.0          4.226E+02    #                              [[],[[l,nu]]]  (MET,MET)\n",
      " 13.0          2.399E+02    #                     [[[jet,jet]],[[l,nu]]]  (MET,MET)\n",
      " 13.0          1.999E+02    #                             [[],[[nu,ta]]]  (MET,MET)\n",
      " 13.0          1.135E+02    #                    [[[jet,jet]],[[nu,ta]]]  (MET,MET)\n",
      " 13.0          4.027E+01    #                        [[[l,nu]],[[l,nu]]]  (MET,MET)\n",
      " 13.0          3.810E+01    #                       [[[l,nu]],[[nu,ta]]]  (MET,MET)\n",
      " 13.0          9.010E+00    #                      [[[nu,ta]],[[nu,ta]]]  (MET,MET)\n",
      "================================================================================\n",
      "\n"
     ]
    }
   ],
   "source": [
    "smodelsFolder = '../EWino/data/smodels_scanRandom/'\n",
    "slhaFolder = '../EWino/data/slha_scanRandom/'\n",
    "i = 92297\n",
    "slhaFile = allowedLHC.loc[i]['filename']\n",
    "with open(os.path.join(smodelsFolder,slhaFile+'.smodels'),'r') as f:\n",
    "    print(f.read())"
   ]
  },
  {
   "cell_type": "code",
   "execution_count": 10,
   "metadata": {},
   "outputs": [],
   "source": [
    "slhaData = pyslha.readSLHAFile(os.path.join(slhaFolder,slhaFile))"
   ]
  },
  {
   "cell_type": "code",
   "execution_count": 11,
   "metadata": {},
   "outputs": [
    {
     "name": "stdout",
     "output_type": "stream",
     "text": [
      "mC1 = 184.139, mN2 = 184.055, mLSP = 167.847\n",
      "\n",
      "C1 decays:\n",
      "ctau (m) = 4.07e-07\n",
      " 0.34 [1000022, 2, -1]\n",
      " 0.33 [1000022, 4, -3]\n",
      " 0.11 [1000022, 14, -13]\n",
      " 0.11 [1000022, 12, -11]\n",
      " 0.11 [1000022, 16, -15]\n",
      "\n",
      "N2 decays:\n",
      "ctau (m) = 1.92e-04\n",
      " 0.18 [1000022, 1, -1]\n",
      " 0.18 [1000022, 3, -3]\n",
      " 0.14 [1000022, 2, -2]\n",
      " 0.14 [1000022, 4, -4]\n",
      " 0.071 [1000022, 16, -16]\n",
      " 0.07 [1000022, 12, -12]\n",
      " 0.07 [1000022, 14, -14]\n",
      " 0.052 [1000022, 5, -5]\n",
      " 0.035 [1000022, 11, -11]\n",
      " 0.035 [1000022, 13, -13]\n",
      " 0.03 [1000022, 15, -15]\n",
      "\n",
      "C1pmN2 xsec: 5.36e-04 pb\n",
      "C1pmN2 ref xsec: 2.54e+00 pb\n"
     ]
    }
   ],
   "source": [
    "mC1 = slhaData.blocks['MASS'][1000024]\n",
    "mN2 = slhaData.blocks['MASS'][1000023]\n",
    "mN1 = slhaData.blocks['MASS'][1000022]\n",
    "print('mC1 = %1.3f, mN2 = %1.3f, mLSP = %1.3f' %(mC1,mN2,mN1))\n",
    "\n",
    "print('\\nC1 decays:')\n",
    "print('ctau (m) = %1.2e' %(1.967e-16/slhaData.decays[1000024].totalwidth))\n",
    "for dec in slhaData.decays[1000024].decays:\n",
    "    if dec.br < 1e-3: continue\n",
    "    print(dec)\n",
    "    \n",
    "print('\\nN2 decays:')\n",
    "print('ctau (m) = %1.2e' %(1.967e-16/slhaData.decays[1000023].totalwidth))\n",
    "for dec in slhaData.decays[1000023].decays:\n",
    "    if dec.br < 1e-3: continue\n",
    "    print(dec)\n",
    "\n",
    "xsecC1N2 = 0.\n",
    "xsecC1N2 += max([x.value for x in slhaData.xsections[(2212,2212,1000023,1000024)].xsecs if x.sqrts == 13000.])\n",
    "xsecC1N2 += max([x.value for x in slhaData.xsections[(2212,2212,-1000024,1000023)].xsecs if x.sqrts == 13000.])\n",
    "      \n",
    "xsecRef = max(0,getXSecFor(1000023,1000024,(mC1+mN2)/2.,13.0,'wino'))\n",
    "xsecRef += max(0,getXSecFor(-1000024,1000023,(mC1+mN2)/2.,13.0,'wino'))\n",
    "\n",
    "print('\\nC1pmN2 xsec: %1.2e pb' %xsecC1N2)        \n",
    "print('C1pmN2 ref xsec: %1.2e pb' %xsecRef)"
   ]
  },
  {
   "cell_type": "code",
   "execution_count": 12,
   "metadata": {},
   "outputs": [
    {
     "name": "stdout",
     "output_type": "stream",
     "text": [
      "2.7116320000000003\n"
     ]
    }
   ],
   "source": [
    "tp = 71.*2.48*(2*0.035)*(2*0.11)\n",
    "ul = 3.484\n",
    "print(tp)\n"
   ]
  },
  {
   "cell_type": "code",
   "execution_count": 13,
   "metadata": {},
   "outputs": [
    {
     "data": {
      "text/plain": [
       "64.93506493506493"
      ]
     },
     "execution_count": 13,
     "metadata": {},
     "output_type": "execute_result"
    }
   ],
   "source": [
    "1/((2*0.035)*(2*0.11))"
   ]
  },
  {
   "cell_type": "code",
   "execution_count": null,
   "metadata": {},
   "outputs": [],
   "source": []
  }
 ],
 "metadata": {
  "kernelspec": {
   "display_name": "Python 3",
   "language": "python",
   "name": "python3"
  },
  "language_info": {
   "codemirror_mode": {
    "name": "ipython",
    "version": 3
   },
   "file_extension": ".py",
   "mimetype": "text/x-python",
   "name": "python",
   "nbconvert_exporter": "python",
   "pygments_lexer": "ipython3",
   "version": "3.8.10"
  }
 },
 "nbformat": 4,
 "nbformat_minor": 2
}
