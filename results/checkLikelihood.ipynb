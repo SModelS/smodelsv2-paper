{
 "cells": [
  {
   "cell_type": "markdown",
   "metadata": {},
   "source": [
    "# Check likelihood calculation using the DataFrame stored in pickle file"
   ]
  },
  {
   "cell_type": "code",
   "execution_count": 1,
   "metadata": {},
   "outputs": [],
   "source": [
    "import warnings\n",
    "warnings.filterwarnings(\"ignore\", message=\"numpy.dtype size changed\")\n",
    "import numpy as np\n",
    "import pandas as pd\n",
    "import glob,imp,os,shutil\n",
    "from pandas.io.json import json_normalize\n",
    "import pyslha\n",
    "import matplotlib as mpl\n",
    "import matplotlib.pyplot as plt\n",
    "from matplotlib.colors import LogNorm\n",
    "from collections import OrderedDict\n",
    "import seaborn as sns\n",
    "from scipy.interpolate import interp1d\n",
    "\n",
    "pd.option_context('display.max_columns', -1)\n",
    "\n",
    "pd.options.mode.chained_assignment = None #Disable copy warnings\n",
    "# plt.style.use('fivethirtyeight') #Set style\n",
    "# mpl.rcParams.update({'figure.figsize' : (15,10)})  #Set general plotting options\n",
    "\n",
    "#Define plotting style:\n",
    "sns.set() #Set style\n",
    "sns.set_style('ticks',{'font.family':'Times New Roman', 'font.serif':'Times New Roman'})\n",
    "sns.set_context('paper', font_scale=1.8)\n",
    "cm = plt.cm.get_cmap('RdYlBu')"
   ]
  },
  {
   "cell_type": "code",
   "execution_count": 51,
   "metadata": {},
   "outputs": [],
   "source": [
    "#Merge with SModelS DataFrame\n",
    "dataDF = pd.read_pickle('EWino_scanRandom.pcl')\n",
    "# print(dataDF.columns.values.tolist()) #Print all columns names"
   ]
  },
  {
   "cell_type": "code",
   "execution_count": 52,
   "metadata": {},
   "outputs": [],
   "source": [
    "exptResults = ['.'.join(label.split('.')[:2]) for label in dataDF.columns.values.tolist() if 'ExptRes.result' in label]\n",
    "exptResults = sorted(list(set(exptResults)))"
   ]
  },
  {
   "cell_type": "code",
   "execution_count": 53,
   "metadata": {},
   "outputs": [
    {
     "name": "stderr",
     "output_type": "stream",
     "text": [
      "/home/lessa/.local/lib/python3.8/site-packages/pandas/core/arraylike.py:274: RuntimeWarning: divide by zero encountered in log\n",
      "  result = getattr(ufunc, method)(*inputs, **kwargs)\n"
     ]
    }
   ],
   "source": [
    "dataDF.fillna(value={'ExptRes.result0.r' : 0.0},inplace=True)\n",
    "dataDF.fillna(value={'ExptRes.result0.likelihood' : 0.0},inplace=True)\n",
    "dataDF.fillna(value={'ExptRes.result0.l_max' : 0.0},inplace=True)\n",
    "dataDF.fillna(value={'ExptRes.result0.l_SM' : 0.0},inplace=True)\n",
    "dataDF['ExptRes.result0.chi2'] = -2*np.log(dataDF['ExptRes.result0.likelihood']/dataDF['ExptRes.result0.l_SM'])\n",
    "\n",
    "# for expLabel in exptResults:\n",
    "#     dataDF.fillna(value={'ExptRes.result0.r' : 0.0},inplace=True)\n",
    "#     try:\n",
    "#         dataDF.fillna(value={label+'.likelihood' : 0.0},inplace=True)\n",
    "#         dataDF.fillna(value={label+'.l_max' : 0.0},inplace=True)\n",
    "#         dataDF.fillna(value={label+'.l_SM' : 0.0},inplace=True)\n",
    "#         #Compute chi2\n",
    "#         dataDF[expLabel+'.chi2'] = -2*np.log(dataDF[expLabel+'.likelihood']/dataDF[expLabel+'.l_SM'])\n",
    "#         dataDF.replace([np.inf, -np.inf], np.nan, inplace=True)\n",
    "#         dataDF.fillna(value={label+'.chi2' : 0.0},inplace=True)        \n",
    "#     except:\n",
    "#         dataDF[label+'.chi2'] = [0]*len(dataDF)"
   ]
  },
  {
   "cell_type": "code",
   "execution_count": 56,
   "metadata": {},
   "outputs": [
    {
     "data": {
      "image/png": "[encoded data removed]",
      "text/plain": [
       "<Figure size 720x432 with 1 Axes>"
      ]
     },
     "metadata": {},
     "output_type": "display_data"
    }
   ],
   "source": [
    "plt.figure(figsize=(10,6))\n",
    "#Points with chi2 is nan or inf will be skipped\n",
    "plt.scatter(dataDF['ExptRes.result0.r'],dataDF['ExptRes.result0.chi2'])\n",
    "plt.xlabel(r'$r$')\n",
    "plt.ylabel(r'$\\chi^2$')\n",
    "plt.hlines(y=3.84,xmin=0,xmax=80,linestyle='--',linewidth=3,color='red')\n",
    "plt.vlines(x=1.00,ymin=0,ymax=100,linestyle='--',linewidth=3,color='red')\n",
    "plt.xlim(0,2)\n",
    "plt.ylim(0,10)\n",
    "plt.show()"
   ]
  },
  {
   "cell_type": "code",
   "execution_count": null,
   "metadata": {},
   "outputs": [],
   "source": []
  }
 ],
 "metadata": {
  "kernelspec": {
   "display_name": "Python 3",
   "language": "python",
   "name": "python3"
  },
  "language_info": {
   "codemirror_mode": {
    "name": "ipython",
    "version": 3
   },
   "file_extension": ".py",
   "mimetype": "text/x-python",
   "name": "python",
   "nbconvert_exporter": "python",
   "pygments_lexer": "ipython3",
   "version": "3.8.10"
  }
 },
 "nbformat": 4,
 "nbformat_minor": 2
}
