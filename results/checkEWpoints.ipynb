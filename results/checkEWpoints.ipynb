{
 "cells": [
  {
   "cell_type": "code",
   "execution_count": 1,
   "metadata": {},
   "outputs": [],
   "source": [
    "import warnings\n",
    "warnings.filterwarnings(\"ignore\", message=\"numpy.dtype size changed\")\n",
    "import numpy as np\n",
    "import pandas as pd\n",
    "import glob,imp,os\n",
    "from pandas.io.json import json_normalize\n",
    "from getRefXSecs import getXSecFor\n",
    "import pyslha\n",
    "import matplotlib as mpl\n",
    "import matplotlib.pyplot as plt\n",
    "from matplotlib.colors import LogNorm\n",
    "from collections import OrderedDict\n",
    "import seaborn as sns\n",
    "\n",
    "pd.option_context('display.max_columns', -1)\n",
    "\n",
    "pd.options.mode.chained_assignment = None #Disable copy warnings\n",
    "# plt.style.use('fivethirtyeight') #Set style\n",
    "# mpl.rcParams.update({'figure.figsize' : (15,10)})  #Set general plotting options\n",
    "\n",
    "#Define plotting style:\n",
    "sns.set() #Set style\n",
    "sns.set_style('ticks',{'font.family':'Times New Roman', 'font.serif':'Times New Roman'})\n",
    "sns.set_context('paper', font_scale=1.8)\n",
    "cm = plt.cm.get_cmap('RdYlBu')"
   ]
  },
  {
   "cell_type": "code",
   "execution_count": 2,
   "metadata": {},
   "outputs": [],
   "source": [
    "#Merge with SModelS DataFrame\n",
    "dataDF = pd.read_pickle('EWino_scanRandom.pcl')\n",
    "# print(dataDF.columns.values.tolist()) #Print all columns names"
   ]
  },
  {
   "cell_type": "markdown",
   "metadata": {},
   "source": [
    "#### Set r = 0 for points with no results "
   ]
  },
  {
   "cell_type": "code",
   "execution_count": 3,
   "metadata": {},
   "outputs": [],
   "source": [
    "#Set points without results with r == 0\n",
    "dataDF.fillna(value={'ExptRes.result0.r' : 0.0},inplace=True)\n",
    "#Sort points according to r value:\n",
    "dataDF = dataDF.sort_values(by=['ExptRes.result0.r'],ascending=False)\n",
    "#Add simple flag for excluded points:\n",
    "dataDF['excluded'] = dataDF['ExptRes.result0.r'] > 1."
   ]
  },
  {
   "cell_type": "markdown",
   "metadata": {},
   "source": [
    "#### Add c*tau column for charginos"
   ]
  },
  {
   "cell_type": "code",
   "execution_count": 4,
   "metadata": {},
   "outputs": [],
   "source": [
    "dataDF['ctau.1000024'] = 1.967e-16/dataDF['width.1000024']"
   ]
  },
  {
   "cell_type": "markdown",
   "metadata": {},
   "source": [
    "### Add ratio of total cross-section to wino cross-sections"
   ]
  },
  {
   "cell_type": "code",
   "execution_count": 5,
   "metadata": {},
   "outputs": [],
   "source": [
    "pids = [[-1000024,1000024],[1000023,1000024],[-1000024,1000023]]\n",
    "ratio = []\n",
    "for index,row in dataDF.iterrows():    \n",
    "    xsecRefSum = 0.0\n",
    "    xsecSum = 0.0\n",
    "    for pidpair in pids:\n",
    "        mass1 = row['mass.%i'%abs(pidpair[0])] \n",
    "        mass2 = row['mass.%i'%abs(pidpair[1])] \n",
    "        mass = (mass1+mass2)/2.\n",
    "        xsecRef = max(0,1000*getXSecFor(pidpair[0],pidpair[1],mass,13.0,'wino'))\n",
    "        xsecRefSum += xsecRef\n",
    "            \n",
    "        xsecLabel = 'xsec13TeV(fb).%i_%i' %(pidpair[0],pidpair[1])\n",
    "        try:\n",
    "            xsec = row[xsecLabel]\n",
    "        except:\n",
    "            xsec = 0.0\n",
    "        xsecSum += xsec\n",
    "    if xsecRefSum > 0.0:\n",
    "        ratio.append(xsecSum/xsecRefSum)    \n",
    "    else:\n",
    "        ratio.append(0.0)"
   ]
  },
  {
   "cell_type": "code",
   "execution_count": 6,
   "metadata": {},
   "outputs": [],
   "source": [
    "dataDF['xsecRatio'] = ratio"
   ]
  },
  {
   "cell_type": "markdown",
   "metadata": {},
   "source": [
    "### Get points excluded and allowed"
   ]
  },
  {
   "cell_type": "code",
   "execution_count": 8,
   "metadata": {},
   "outputs": [
    {
     "name": "stdout",
     "output_type": "stream",
     "text": [
      "Total number of points = 96669\n",
      "Total excluded = 7348\n",
      "Total allowed = 89321\n"
     ]
    }
   ],
   "source": [
    "excluded = dataDF[dataDF['excluded'] == True]\n",
    "allowed = dataDF[dataDF['excluded'] == False]\n",
    "print('Total number of points = %i' %len(dataDF))\n",
    "print('Total excluded = %i'%(len(excluded)))\n",
    "print('Total allowed = %i'%(len(allowed)))"
   ]
  },
  {
   "cell_type": "code",
   "execution_count": 21,
   "metadata": {},
   "outputs": [
    {
     "data": {
      "text/html": [
       "<div>\n",
       "<style scoped>\n",
       "    .dataframe tbody tr th:only-of-type {\n",
       "        vertical-align: middle;\n",
       "    }\n",
       "\n",
       "    .dataframe tbody tr th {\n",
       "        vertical-align: top;\n",
       "    }\n",
       "\n",
       "    .dataframe thead th {\n",
       "        text-align: right;\n",
       "    }\n",
       "</style>\n",
       "<table border=\"1\" class=\"dataframe\">\n",
       "  <thead>\n",
       "    <tr style=\"text-align: right;\">\n",
       "      <th></th>\n",
       "      <th>mass.1000024</th>\n",
       "      <th>mass.1000023</th>\n",
       "      <th>mass.1000022</th>\n",
       "      <th>ExptRes.result0.r</th>\n",
       "      <th>xsecRatio</th>\n",
       "      <th>filename</th>\n",
       "    </tr>\n",
       "  </thead>\n",
       "  <tbody>\n",
       "    <tr>\n",
       "      <th>93317</th>\n",
       "      <td>185.298651</td>\n",
       "      <td>185.145625</td>\n",
       "      <td>152.494264</td>\n",
       "      <td>0.697072</td>\n",
       "      <td>0.874663</td>\n",
       "      <td>ew_ry38c0f4.slha</td>\n",
       "    </tr>\n",
       "    <tr>\n",
       "      <th>13701</th>\n",
       "      <td>198.294454</td>\n",
       "      <td>198.138001</td>\n",
       "      <td>161.980139</td>\n",
       "      <td>0.413565</td>\n",
       "      <td>0.649503</td>\n",
       "      <td>ew_z2ntz8dn.slha</td>\n",
       "    </tr>\n",
       "    <tr>\n",
       "      <th>17982</th>\n",
       "      <td>170.037550</td>\n",
       "      <td>170.038370</td>\n",
       "      <td>158.518549</td>\n",
       "      <td>0.014518</td>\n",
       "      <td>0.213198</td>\n",
       "      <td>ew_01aymkqg.slha</td>\n",
       "    </tr>\n",
       "    <tr>\n",
       "      <th>69476</th>\n",
       "      <td>161.733211</td>\n",
       "      <td>161.626239</td>\n",
       "      <td>146.580542</td>\n",
       "      <td>0.010574</td>\n",
       "      <td>0.209007</td>\n",
       "      <td>ew_ube7jehj.slha</td>\n",
       "    </tr>\n",
       "    <tr>\n",
       "      <th>30897</th>\n",
       "      <td>159.578378</td>\n",
       "      <td>159.972930</td>\n",
       "      <td>150.064263</td>\n",
       "      <td>0.009680</td>\n",
       "      <td>0.222468</td>\n",
       "      <td>ew__n5_ipn3.slha</td>\n",
       "    </tr>\n",
       "    <tr>\n",
       "      <th>7239</th>\n",
       "      <td>174.276828</td>\n",
       "      <td>174.217879</td>\n",
       "      <td>160.661571</td>\n",
       "      <td>0.009376</td>\n",
       "      <td>0.218007</td>\n",
       "      <td>ew_n8b4pa16.slha</td>\n",
       "    </tr>\n",
       "    <tr>\n",
       "      <th>92297</th>\n",
       "      <td>184.139464</td>\n",
       "      <td>184.055414</td>\n",
       "      <td>167.846997</td>\n",
       "      <td>0.009023</td>\n",
       "      <td>0.209784</td>\n",
       "      <td>ew_8hc5sqqr.slha</td>\n",
       "    </tr>\n",
       "    <tr>\n",
       "      <th>14343</th>\n",
       "      <td>192.686917</td>\n",
       "      <td>192.625235</td>\n",
       "      <td>177.182288</td>\n",
       "      <td>0.007247</td>\n",
       "      <td>0.209279</td>\n",
       "      <td>ew_ikrzwzki.slha</td>\n",
       "    </tr>\n",
       "    <tr>\n",
       "      <th>43256</th>\n",
       "      <td>166.005865</td>\n",
       "      <td>166.036731</td>\n",
       "      <td>157.685118</td>\n",
       "      <td>0.006953</td>\n",
       "      <td>0.208544</td>\n",
       "      <td>ew_sv4c653b.slha</td>\n",
       "    </tr>\n",
       "    <tr>\n",
       "      <th>9695</th>\n",
       "      <td>185.678940</td>\n",
       "      <td>185.669717</td>\n",
       "      <td>175.028521</td>\n",
       "      <td>0.005841</td>\n",
       "      <td>0.210219</td>\n",
       "      <td>ew_evjqp_8i.slha</td>\n",
       "    </tr>\n",
       "    <tr>\n",
       "      <th>91949</th>\n",
       "      <td>169.285755</td>\n",
       "      <td>169.341744</td>\n",
       "      <td>163.976589</td>\n",
       "      <td>0.004313</td>\n",
       "      <td>0.211544</td>\n",
       "      <td>ew_klf_o0ld.slha</td>\n",
       "    </tr>\n",
       "    <tr>\n",
       "      <th>33345</th>\n",
       "      <td>177.563562</td>\n",
       "      <td>177.802137</td>\n",
       "      <td>175.558097</td>\n",
       "      <td>0.001431</td>\n",
       "      <td>0.214212</td>\n",
       "      <td>ew_dl9azs51.slha</td>\n",
       "    </tr>\n",
       "  </tbody>\n",
       "</table>\n",
       "</div>"
      ],
      "text/plain": [
       "       mass.1000024  mass.1000023  mass.1000022  ExptRes.result0.r  xsecRatio  \\\n",
       "93317    185.298651    185.145625    152.494264           0.697072   0.874663   \n",
       "13701    198.294454    198.138001    161.980139           0.413565   0.649503   \n",
       "17982    170.037550    170.038370    158.518549           0.014518   0.213198   \n",
       "69476    161.733211    161.626239    146.580542           0.010574   0.209007   \n",
       "30897    159.578378    159.972930    150.064263           0.009680   0.222468   \n",
       "7239     174.276828    174.217879    160.661571           0.009376   0.218007   \n",
       "92297    184.139464    184.055414    167.846997           0.009023   0.209784   \n",
       "14343    192.686917    192.625235    177.182288           0.007247   0.209279   \n",
       "43256    166.005865    166.036731    157.685118           0.006953   0.208544   \n",
       "9695     185.678940    185.669717    175.028521           0.005841   0.210219   \n",
       "91949    169.285755    169.341744    163.976589           0.004313   0.211544   \n",
       "33345    177.563562    177.802137    175.558097           0.001431   0.214212   \n",
       "\n",
       "               filename  \n",
       "93317  ew_ry38c0f4.slha  \n",
       "13701  ew_z2ntz8dn.slha  \n",
       "17982  ew_01aymkqg.slha  \n",
       "69476  ew_ube7jehj.slha  \n",
       "30897  ew__n5_ipn3.slha  \n",
       "7239   ew_n8b4pa16.slha  \n",
       "92297  ew_8hc5sqqr.slha  \n",
       "14343  ew_ikrzwzki.slha  \n",
       "43256  ew_sv4c653b.slha  \n",
       "9695   ew_evjqp_8i.slha  \n",
       "91949  ew_klf_o0ld.slha  \n",
       "33345  ew_dl9azs51.slha  "
      ]
     },
     "execution_count": 21,
     "metadata": {},
     "output_type": "execute_result"
    }
   ],
   "source": [
    "dataFiltered = allowed[(allowed['mass.1000024']-allowed['mass.1000022'] < 90.)\n",
    "        & (abs(allowed['mass.1000022']-150.) < 30.)\n",
    "        & (abs(allowed['mass.1000024']-175.) < 25.)\n",
    "        & (abs(allowed['mass.1000024']-allowed['mass.1000023']) < 1.0)                       \n",
    "        & (allowed['ExptRes.result0.r']/allowed['xsecRatio'] < 0.9)]\n",
    "dataFiltered[['mass.1000024','mass.1000023','mass.1000022','ExptRes.result0.r','xsecRatio','filename']]"
   ]
  },
  {
   "cell_type": "code",
   "execution_count": 24,
   "metadata": {},
   "outputs": [
    {
     "data": {
      "image/png": "[encoded data removed]",
      "text/plain": [
       "<Figure size 1008x432 with 2 Axes>"
      ]
     },
     "metadata": {},
     "output_type": "display_data"
    }
   ],
   "source": [
    "plt.figure(figsize=(14,6))\n",
    "excCurves = {}\n",
    "excCurves['CMS-SUS-17-004 (TChiWZ)'] =  np.genfromtxt('../EWino/data/CMS_SUS_17_004_TChiWZ_obs.csv', \n",
    "                                                      delimiter=',')\n",
    "colorDict = dict(zip(excCurves.keys(),sns.color_palette(\"Paired\",len(excCurves))))\n",
    "\n",
    "x = dataFiltered['mass.1000024']\n",
    "y = dataFiltered['mass.1000022']\n",
    "# z = dataFiltered['ExptRes.result0.r']\n",
    "z = dataFiltered['ExptRes.result0.r']/dataFiltered['xsecRatio']\n",
    "cm = plt.cm.get_cmap('Greys')\n",
    "cm = plt.cm.get_cmap('PiYG', 11) \n",
    "\n",
    "plt.scatter(x,y,c=z,s=20,cmap=cm,vmin=z.min(),vmax=z.max())\n",
    "\n",
    "plt.plot([90,500],[0,410],linestyle='--',c='black')\n",
    "\n",
    "\n",
    "for ana in excCurves:\n",
    "    curve = excCurves[ana]\n",
    "    color = colorDict[ana]\n",
    "    plt.plot(curve[:,0],curve[:,1],linewidth=5,linestyle='-',color=color,label=ana)\n",
    "        \n",
    "\n",
    "lgd = plt.legend(loc=(1.3,0.2), framealpha=1.,fontsize=12)\n",
    "\n",
    "plt.ylim(100,200)\n",
    "plt.xlim(150,250)\n",
    "plt.xlabel(r'$\\mathregular{m_{\\tilde{\\chi}_1^\\pm}}$ (GeV)',fontsize = 25)\n",
    "plt.ylabel(r'$\\mathregular{m_{\\tilde{\\chi}_1^0}}$ (GeV)',fontsize = 25)\n",
    "plt.title(\"Points allowed by LHC(%i points)\" %len(x))\n",
    "plt.colorbar(label = r'$\\sigma_{EW}/\\sigma_{EW}^{wino}$')\n",
    "plt.tight_layout()\n",
    "plt.show()"
   ]
  },
  {
   "cell_type": "code",
   "execution_count": 22,
   "metadata": {},
   "outputs": [
    {
     "data": {
      "text/plain": [
       "91449    3.782430\n",
       "25285    2.791507\n",
       "81935    2.795434\n",
       "20299    2.237624\n",
       "1626     0.930062\n",
       "91795    0.079771\n",
       "45489    0.048397\n",
       "42409    0.027737\n",
       "6672     0.026281\n",
       "15332    0.024988\n",
       "25242    0.023198\n",
       "19418    0.018163\n",
       "77405    0.017890\n",
       "dtype: float64"
      ]
     },
     "execution_count": 22,
     "metadata": {},
     "output_type": "execute_result"
    }
   ],
   "source": [
    "dataFiltered['ExptRes.result0.r']/dataFiltered['xsecRatio']"
   ]
  },
  {
   "cell_type": "code",
   "execution_count": 25,
   "metadata": {},
   "outputs": [
    {
     "ename": "KeyError",
     "evalue": "8885",
     "output_type": "error",
     "traceback": [
      "\u001b[0;31m---------------------------------------------------------------------------\u001b[0m",
      "\u001b[0;31mKeyError\u001b[0m                                  Traceback (most recent call last)",
      "\u001b[0;32m~/.local/lib/python3.8/site-packages/pandas/core/indexes/base.py\u001b[0m in \u001b[0;36mget_loc\u001b[0;34m(self, key, method, tolerance)\u001b[0m\n\u001b[1;32m   3079\u001b[0m             \u001b[0;32mtry\u001b[0m\u001b[0;34m:\u001b[0m\u001b[0;34m\u001b[0m\u001b[0;34m\u001b[0m\u001b[0m\n\u001b[0;32m-> 3080\u001b[0;31m                 \u001b[0;32mreturn\u001b[0m \u001b[0mself\u001b[0m\u001b[0;34m.\u001b[0m\u001b[0m_engine\u001b[0m\u001b[0;34m.\u001b[0m\u001b[0mget_loc\u001b[0m\u001b[0;34m(\u001b[0m\u001b[0mcasted_key\u001b[0m\u001b[0;34m)\u001b[0m\u001b[0;34m\u001b[0m\u001b[0;34m\u001b[0m\u001b[0m\n\u001b[0m\u001b[1;32m   3081\u001b[0m             \u001b[0;32mexcept\u001b[0m \u001b[0mKeyError\u001b[0m \u001b[0;32mas\u001b[0m \u001b[0merr\u001b[0m\u001b[0;34m:\u001b[0m\u001b[0;34m\u001b[0m\u001b[0;34m\u001b[0m\u001b[0m\n",
      "\u001b[0;32mpandas/_libs/index.pyx\u001b[0m in \u001b[0;36mpandas._libs.index.IndexEngine.get_loc\u001b[0;34m()\u001b[0m\n",
      "\u001b[0;32mpandas/_libs/index.pyx\u001b[0m in \u001b[0;36mpandas._libs.index.IndexEngine.get_loc\u001b[0;34m()\u001b[0m\n",
      "\u001b[0;32mpandas/_libs/hashtable_class_helper.pxi\u001b[0m in \u001b[0;36mpandas._libs.hashtable.Int64HashTable.get_item\u001b[0;34m()\u001b[0m\n",
      "\u001b[0;32mpandas/_libs/hashtable_class_helper.pxi\u001b[0m in \u001b[0;36mpandas._libs.hashtable.Int64HashTable.get_item\u001b[0;34m()\u001b[0m\n",
      "\u001b[0;31mKeyError\u001b[0m: 8885",
      "\nThe above exception was the direct cause of the following exception:\n",
      "\u001b[0;31mKeyError\u001b[0m                                  Traceback (most recent call last)",
      "\u001b[0;32m<ipython-input-25-7940b8c6fcbd>\u001b[0m in \u001b[0;36m<module>\u001b[0;34m\u001b[0m\n\u001b[0;32m----> 1\u001b[0;31m \u001b[0mrow\u001b[0m \u001b[0;34m=\u001b[0m \u001b[0mallowed\u001b[0m\u001b[0;34m.\u001b[0m\u001b[0mloc\u001b[0m\u001b[0;34m[\u001b[0m\u001b[0;36m8885\u001b[0m\u001b[0;34m]\u001b[0m\u001b[0;34m\u001b[0m\u001b[0;34m\u001b[0m\u001b[0m\n\u001b[0m",
      "\u001b[0;32m~/.local/lib/python3.8/site-packages/pandas/core/indexing.py\u001b[0m in \u001b[0;36m__getitem__\u001b[0;34m(self, key)\u001b[0m\n\u001b[1;32m    892\u001b[0m \u001b[0;34m\u001b[0m\u001b[0m\n\u001b[1;32m    893\u001b[0m             \u001b[0mmaybe_callable\u001b[0m \u001b[0;34m=\u001b[0m \u001b[0mcom\u001b[0m\u001b[0;34m.\u001b[0m\u001b[0mapply_if_callable\u001b[0m\u001b[0;34m(\u001b[0m\u001b[0mkey\u001b[0m\u001b[0;34m,\u001b[0m \u001b[0mself\u001b[0m\u001b[0;34m.\u001b[0m\u001b[0mobj\u001b[0m\u001b[0;34m)\u001b[0m\u001b[0;34m\u001b[0m\u001b[0;34m\u001b[0m\u001b[0m\n\u001b[0;32m--> 894\u001b[0;31m             \u001b[0;32mreturn\u001b[0m \u001b[0mself\u001b[0m\u001b[0;34m.\u001b[0m\u001b[0m_getitem_axis\u001b[0m\u001b[0;34m(\u001b[0m\u001b[0mmaybe_callable\u001b[0m\u001b[0;34m,\u001b[0m \u001b[0maxis\u001b[0m\u001b[0;34m=\u001b[0m\u001b[0maxis\u001b[0m\u001b[0;34m)\u001b[0m\u001b[0;34m\u001b[0m\u001b[0;34m\u001b[0m\u001b[0m\n\u001b[0m\u001b[1;32m    895\u001b[0m \u001b[0;34m\u001b[0m\u001b[0m\n\u001b[1;32m    896\u001b[0m     \u001b[0;32mdef\u001b[0m \u001b[0m_is_scalar_access\u001b[0m\u001b[0;34m(\u001b[0m\u001b[0mself\u001b[0m\u001b[0;34m,\u001b[0m \u001b[0mkey\u001b[0m\u001b[0;34m:\u001b[0m \u001b[0mTuple\u001b[0m\u001b[0;34m)\u001b[0m\u001b[0;34m:\u001b[0m\u001b[0;34m\u001b[0m\u001b[0;34m\u001b[0m\u001b[0m\n",
      "\u001b[0;32m~/.local/lib/python3.8/site-packages/pandas/core/indexing.py\u001b[0m in \u001b[0;36m_getitem_axis\u001b[0;34m(self, key, axis)\u001b[0m\n\u001b[1;32m   1121\u001b[0m         \u001b[0;31m# fall thru to straight lookup\u001b[0m\u001b[0;34m\u001b[0m\u001b[0;34m\u001b[0m\u001b[0;34m\u001b[0m\u001b[0m\n\u001b[1;32m   1122\u001b[0m         \u001b[0mself\u001b[0m\u001b[0;34m.\u001b[0m\u001b[0m_validate_key\u001b[0m\u001b[0;34m(\u001b[0m\u001b[0mkey\u001b[0m\u001b[0;34m,\u001b[0m \u001b[0maxis\u001b[0m\u001b[0;34m)\u001b[0m\u001b[0;34m\u001b[0m\u001b[0;34m\u001b[0m\u001b[0m\n\u001b[0;32m-> 1123\u001b[0;31m         \u001b[0;32mreturn\u001b[0m \u001b[0mself\u001b[0m\u001b[0;34m.\u001b[0m\u001b[0m_get_label\u001b[0m\u001b[0;34m(\u001b[0m\u001b[0mkey\u001b[0m\u001b[0;34m,\u001b[0m \u001b[0maxis\u001b[0m\u001b[0;34m=\u001b[0m\u001b[0maxis\u001b[0m\u001b[0;34m)\u001b[0m\u001b[0;34m\u001b[0m\u001b[0;34m\u001b[0m\u001b[0m\n\u001b[0m\u001b[1;32m   1124\u001b[0m \u001b[0;34m\u001b[0m\u001b[0m\n\u001b[1;32m   1125\u001b[0m     \u001b[0;32mdef\u001b[0m \u001b[0m_get_slice_axis\u001b[0m\u001b[0;34m(\u001b[0m\u001b[0mself\u001b[0m\u001b[0;34m,\u001b[0m \u001b[0mslice_obj\u001b[0m\u001b[0;34m:\u001b[0m \u001b[0mslice\u001b[0m\u001b[0;34m,\u001b[0m \u001b[0maxis\u001b[0m\u001b[0;34m:\u001b[0m \u001b[0mint\u001b[0m\u001b[0;34m)\u001b[0m\u001b[0;34m:\u001b[0m\u001b[0;34m\u001b[0m\u001b[0;34m\u001b[0m\u001b[0m\n",
      "\u001b[0;32m~/.local/lib/python3.8/site-packages/pandas/core/indexing.py\u001b[0m in \u001b[0;36m_get_label\u001b[0;34m(self, label, axis)\u001b[0m\n\u001b[1;32m   1070\u001b[0m     \u001b[0;32mdef\u001b[0m \u001b[0m_get_label\u001b[0m\u001b[0;34m(\u001b[0m\u001b[0mself\u001b[0m\u001b[0;34m,\u001b[0m \u001b[0mlabel\u001b[0m\u001b[0;34m,\u001b[0m \u001b[0maxis\u001b[0m\u001b[0;34m:\u001b[0m \u001b[0mint\u001b[0m\u001b[0;34m)\u001b[0m\u001b[0;34m:\u001b[0m\u001b[0;34m\u001b[0m\u001b[0;34m\u001b[0m\u001b[0m\n\u001b[1;32m   1071\u001b[0m         \u001b[0;31m# GH#5667 this will fail if the label is not present in the axis.\u001b[0m\u001b[0;34m\u001b[0m\u001b[0;34m\u001b[0m\u001b[0;34m\u001b[0m\u001b[0m\n\u001b[0;32m-> 1072\u001b[0;31m         \u001b[0;32mreturn\u001b[0m \u001b[0mself\u001b[0m\u001b[0;34m.\u001b[0m\u001b[0mobj\u001b[0m\u001b[0;34m.\u001b[0m\u001b[0mxs\u001b[0m\u001b[0;34m(\u001b[0m\u001b[0mlabel\u001b[0m\u001b[0;34m,\u001b[0m \u001b[0maxis\u001b[0m\u001b[0;34m=\u001b[0m\u001b[0maxis\u001b[0m\u001b[0;34m)\u001b[0m\u001b[0;34m\u001b[0m\u001b[0;34m\u001b[0m\u001b[0m\n\u001b[0m\u001b[1;32m   1073\u001b[0m \u001b[0;34m\u001b[0m\u001b[0m\n\u001b[1;32m   1074\u001b[0m     \u001b[0;32mdef\u001b[0m \u001b[0m_handle_lowerdim_multi_index_axis0\u001b[0m\u001b[0;34m(\u001b[0m\u001b[0mself\u001b[0m\u001b[0;34m,\u001b[0m \u001b[0mtup\u001b[0m\u001b[0;34m:\u001b[0m \u001b[0mTuple\u001b[0m\u001b[0;34m)\u001b[0m\u001b[0;34m:\u001b[0m\u001b[0;34m\u001b[0m\u001b[0;34m\u001b[0m\u001b[0m\n",
      "\u001b[0;32m~/.local/lib/python3.8/site-packages/pandas/core/generic.py\u001b[0m in \u001b[0;36mxs\u001b[0;34m(self, key, axis, level, drop_level)\u001b[0m\n\u001b[1;32m   3734\u001b[0m                 \u001b[0;32mraise\u001b[0m \u001b[0mTypeError\u001b[0m\u001b[0;34m(\u001b[0m\u001b[0;34mf\"Expected label or tuple of labels, got {key}\"\u001b[0m\u001b[0;34m)\u001b[0m \u001b[0;32mfrom\u001b[0m \u001b[0me\u001b[0m\u001b[0;34m\u001b[0m\u001b[0;34m\u001b[0m\u001b[0m\n\u001b[1;32m   3735\u001b[0m         \u001b[0;32melse\u001b[0m\u001b[0;34m:\u001b[0m\u001b[0;34m\u001b[0m\u001b[0;34m\u001b[0m\u001b[0m\n\u001b[0;32m-> 3736\u001b[0;31m             \u001b[0mloc\u001b[0m \u001b[0;34m=\u001b[0m \u001b[0mindex\u001b[0m\u001b[0;34m.\u001b[0m\u001b[0mget_loc\u001b[0m\u001b[0;34m(\u001b[0m\u001b[0mkey\u001b[0m\u001b[0;34m)\u001b[0m\u001b[0;34m\u001b[0m\u001b[0;34m\u001b[0m\u001b[0m\n\u001b[0m\u001b[1;32m   3737\u001b[0m \u001b[0;34m\u001b[0m\u001b[0m\n\u001b[1;32m   3738\u001b[0m             \u001b[0;32mif\u001b[0m \u001b[0misinstance\u001b[0m\u001b[0;34m(\u001b[0m\u001b[0mloc\u001b[0m\u001b[0;34m,\u001b[0m \u001b[0mnp\u001b[0m\u001b[0;34m.\u001b[0m\u001b[0mndarray\u001b[0m\u001b[0;34m)\u001b[0m\u001b[0;34m:\u001b[0m\u001b[0;34m\u001b[0m\u001b[0;34m\u001b[0m\u001b[0m\n",
      "\u001b[0;32m~/.local/lib/python3.8/site-packages/pandas/core/indexes/base.py\u001b[0m in \u001b[0;36mget_loc\u001b[0;34m(self, key, method, tolerance)\u001b[0m\n\u001b[1;32m   3080\u001b[0m                 \u001b[0;32mreturn\u001b[0m \u001b[0mself\u001b[0m\u001b[0;34m.\u001b[0m\u001b[0m_engine\u001b[0m\u001b[0;34m.\u001b[0m\u001b[0mget_loc\u001b[0m\u001b[0;34m(\u001b[0m\u001b[0mcasted_key\u001b[0m\u001b[0;34m)\u001b[0m\u001b[0;34m\u001b[0m\u001b[0;34m\u001b[0m\u001b[0m\n\u001b[1;32m   3081\u001b[0m             \u001b[0;32mexcept\u001b[0m \u001b[0mKeyError\u001b[0m \u001b[0;32mas\u001b[0m \u001b[0merr\u001b[0m\u001b[0;34m:\u001b[0m\u001b[0;34m\u001b[0m\u001b[0;34m\u001b[0m\u001b[0m\n\u001b[0;32m-> 3082\u001b[0;31m                 \u001b[0;32mraise\u001b[0m \u001b[0mKeyError\u001b[0m\u001b[0;34m(\u001b[0m\u001b[0mkey\u001b[0m\u001b[0;34m)\u001b[0m \u001b[0;32mfrom\u001b[0m \u001b[0merr\u001b[0m\u001b[0;34m\u001b[0m\u001b[0;34m\u001b[0m\u001b[0m\n\u001b[0m\u001b[1;32m   3083\u001b[0m \u001b[0;34m\u001b[0m\u001b[0m\n\u001b[1;32m   3084\u001b[0m         \u001b[0;32mif\u001b[0m \u001b[0mtolerance\u001b[0m \u001b[0;32mis\u001b[0m \u001b[0;32mnot\u001b[0m \u001b[0;32mNone\u001b[0m\u001b[0;34m:\u001b[0m\u001b[0;34m\u001b[0m\u001b[0;34m\u001b[0m\u001b[0m\n",
      "\u001b[0;31mKeyError\u001b[0m: 8885"
     ]
    }
   ],
   "source": [
    "row = allowed.loc[8885]"
   ]
  },
  {
   "cell_type": "code",
   "execution_count": 15,
   "metadata": {},
   "outputs": [
    {
     "data": {
      "text/plain": [
       "(134.920247, 50.2767346, 'ew_448sx8j9.slha')"
      ]
     },
     "execution_count": 15,
     "metadata": {},
     "output_type": "execute_result"
    }
   ],
   "source": [
    "row['mass.1000024'],row['mass.1000022'],row['filename']"
   ]
  },
  {
   "cell_type": "code",
   "execution_count": 16,
   "metadata": {},
   "outputs": [
    {
     "name": "stdout",
     "output_type": "stream",
     "text": [
      "0.360776 ATLAS-SUSY-2013-11\n"
     ]
    }
   ],
   "source": [
    "print(row['ExptRes.result0.r'],row['ExptRes.result0.AnalysisID'])"
   ]
  },
  {
   "cell_type": "code",
   "execution_count": 17,
   "metadata": {},
   "outputs": [
    {
     "name": "stdout",
     "output_type": "stream",
     "text": [
      "3091.93008 1766.92171\n",
      "Total =  4858.851790000001\n"
     ]
    }
   ],
   "source": [
    "print(row['xsec13TeV(fb).1000023_1000024'],row['xsec13TeV(fb).-1000024_1000023'])\n",
    "print('Total = ',row['xsec13TeV(fb).1000023_1000024']+row['xsec13TeV(fb).-1000024_1000023'])"
   ]
  },
  {
   "cell_type": "code",
   "execution_count": 14,
   "metadata": {},
   "outputs": [],
   "source": [
    "#Cross-sections from Prospino:\n",
    "# (1000023_1000024): LO = 5.64, NLO = 6.33\n",
    "# (-1000024_1000023): LO = 1.88, NLO = 2.27\n",
    "# Total: LO = 7.52, NLO = 8.6 (K = 1.14)\n",
    "\n",
    "#Cross-sections from Pythia6:\n",
    "# (1000023_1000024): LO = 5.958\n",
    "# (-1000024_1000023): LO = 1.962\n",
    "# Total: LO = 7.91\n",
    "\n",
    "#Cross-sections for winos (LHC SUSY Xsec group):\n",
    "# (1000023_1000024): NLO+NLL = 6.99\n",
    "# (-1000024_1000023): NLO+NLL = 2.52\n",
    "# Total: NLO+NLL = 9.51\n",
    "\n",
    "\n"
   ]
  }
 ],
 "metadata": {
  "kernelspec": {
   "display_name": "Python 3",
   "language": "python",
   "name": "python3"
  },
  "language_info": {
   "codemirror_mode": {
    "name": "ipython",
    "version": 3
   },
   "file_extension": ".py",
   "mimetype": "text/x-python",
   "name": "python",
   "nbconvert_exporter": "python",
   "pygments_lexer": "ipython3",
   "version": "3.8.10"
  }
 },
 "nbformat": 4,
 "nbformat_minor": 4
}
