{
 "cells": [
  {
   "cell_type": "code",
   "execution_count": 4,
   "metadata": {},
   "outputs": [],
   "source": [
    "import warnings\n",
    "warnings.filterwarnings(\"ignore\", message=\"numpy.dtype size changed\")\n",
    "import numpy as np\n",
    "import pandas as pd\n",
    "import glob,imp,os\n",
    "from pandas.io.json import json_normalize\n",
    "import pyslha\n",
    "import matplotlib as mpl\n",
    "import matplotlib.pyplot as plt\n",
    "from matplotlib.colors import LogNorm\n",
    "from collections import OrderedDict\n",
    "import seaborn as sns\n",
    "\n",
    "pd.option_context('display.max_columns', -1)\n",
    "\n",
    "pd.options.mode.chained_assignment = None #Disable copy warnings\n",
    "# plt.style.use('fivethirtyeight') #Set style\n",
    "# mpl.rcParams.update({'figure.figsize' : (15,10)})  #Set general plotting options\n",
    "\n",
    "#Define plotting style:\n",
    "sns.set() #Set style\n",
    "sns.set_style('ticks',{'font.family':'Times New Roman', 'font.serif':'Times New Roman'})\n",
    "sns.set_context('paper', font_scale=1.8)\n",
    "cm = plt.cm.get_cmap('RdYlBu')"
   ]
  },
  {
   "cell_type": "code",
   "execution_count": 5,
   "metadata": {},
   "outputs": [],
   "source": [
    "#Merge with SModelS DataFrame\n",
    "dataDF = pd.read_pickle('EWino_scanRandom.pcl')\n",
    "# print(dataDF.columns.values.tolist()) #Print all columns names"
   ]
  },
  {
   "cell_type": "markdown",
   "metadata": {},
   "source": [
    "#### Set r = 0 for points with no results "
   ]
  },
  {
   "cell_type": "code",
   "execution_count": 6,
   "metadata": {},
   "outputs": [],
   "source": [
    "#Set points without results with r == 0\n",
    "dataDF.fillna(value={'ExptRes.result0.r' : 0.0},inplace=True)\n",
    "#Sort points according to r value:\n",
    "dataDF = dataDF.sort_values(by=['ExptRes.result0.r'],ascending=False)\n",
    "#Add simple flag for excluded points:\n",
    "dataDF['excluded'] = dataDF['ExptRes.result0.r'] > 1."
   ]
  },
  {
   "cell_type": "markdown",
   "metadata": {},
   "source": [
    "#### Add c*tau column for charginos"
   ]
  },
  {
   "cell_type": "code",
   "execution_count": 7,
   "metadata": {},
   "outputs": [],
   "source": [
    "dataDF['ctau.1000024'] = 1.967e-16/dataDF['width.1000024']"
   ]
  },
  {
   "cell_type": "markdown",
   "metadata": {},
   "source": [
    "### Get points excluded and allowed"
   ]
  },
  {
   "cell_type": "code",
   "execution_count": 8,
   "metadata": {},
   "outputs": [
    {
     "name": "stdout",
     "output_type": "stream",
     "text": [
      "Total number of points = 47692\n",
      "Total excluded = 3389\n",
      "Total allowed = 44303\n"
     ]
    }
   ],
   "source": [
    "excluded = dataDF[dataDF['excluded'] == True]\n",
    "allowed = dataDF[dataDF['excluded'] == False]\n",
    "print('Total number of points = %i' %len(dataDF))\n",
    "print('Total excluded = %i'%(len(excluded)))\n",
    "print('Total allowed = %i'%(len(allowed)))"
   ]
  },
  {
   "cell_type": "code",
   "execution_count": 13,
   "metadata": {},
   "outputs": [
    {
     "data": {
      "text/html": [
       "<div>\n",
       "<style scoped>\n",
       "    .dataframe tbody tr th:only-of-type {\n",
       "        vertical-align: middle;\n",
       "    }\n",
       "\n",
       "    .dataframe tbody tr th {\n",
       "        vertical-align: top;\n",
       "    }\n",
       "\n",
       "    .dataframe thead th {\n",
       "        text-align: right;\n",
       "    }\n",
       "</style>\n",
       "<table border=\"1\" class=\"dataframe\">\n",
       "  <thead>\n",
       "    <tr style=\"text-align: right;\">\n",
       "      <th></th>\n",
       "      <th>filename</th>\n",
       "      <th>mass.35</th>\n",
       "      <th>mass.36</th>\n",
       "      <th>mass.37</th>\n",
       "      <th>mass.1000021</th>\n",
       "      <th>mass.1000022</th>\n",
       "      <th>mass.1000023</th>\n",
       "      <th>mass.1000024</th>\n",
       "      <th>mass.1000025</th>\n",
       "      <th>mass.1000035</th>\n",
       "      <th>...</th>\n",
       "      <th>ExptRes.result36.AnalysisSqrts (TeV)</th>\n",
       "      <th>ExptRes.result36.lumi (fb-1)</th>\n",
       "      <th>ExptRes.result36.dataType</th>\n",
       "      <th>ExptRes.result36.r</th>\n",
       "      <th>ExptRes.result36.r_expected</th>\n",
       "      <th>ExptRes.result36.Width (GeV)</th>\n",
       "      <th>ExptRes.result36.chi2</th>\n",
       "      <th>ExptRes.result36.likelihood</th>\n",
       "      <th>excluded</th>\n",
       "      <th>ctau.1000024</th>\n",
       "    </tr>\n",
       "  </thead>\n",
       "  <tbody>\n",
       "    <tr>\n",
       "      <th>12402</th>\n",
       "      <td>ew_56j5w2ky.slha</td>\n",
       "      <td>5000.0</td>\n",
       "      <td>5000.0</td>\n",
       "      <td>5000.0</td>\n",
       "      <td>9977.83666</td>\n",
       "      <td>46.482686</td>\n",
       "      <td>702.883413</td>\n",
       "      <td>703.047252</td>\n",
       "      <td>-1927.068670</td>\n",
       "      <td>1929.413310</td>\n",
       "      <td>...</td>\n",
       "      <td>NaN</td>\n",
       "      <td>NaN</td>\n",
       "      <td>NaN</td>\n",
       "      <td>NaN</td>\n",
       "      <td>NaN</td>\n",
       "      <td>NaN</td>\n",
       "      <td>NaN</td>\n",
       "      <td>NaN</td>\n",
       "      <td>False</td>\n",
       "      <td>2.822623e-13</td>\n",
       "    </tr>\n",
       "    <tr>\n",
       "      <th>21762</th>\n",
       "      <td>ew_qpyaxo4t.slha</td>\n",
       "      <td>5000.0</td>\n",
       "      <td>5000.0</td>\n",
       "      <td>5000.0</td>\n",
       "      <td>9899.59016</td>\n",
       "      <td>27.671633</td>\n",
       "      <td>696.412071</td>\n",
       "      <td>696.575656</td>\n",
       "      <td>-1518.492810</td>\n",
       "      <td>1522.208750</td>\n",
       "      <td>...</td>\n",
       "      <td>NaN</td>\n",
       "      <td>NaN</td>\n",
       "      <td>NaN</td>\n",
       "      <td>NaN</td>\n",
       "      <td>NaN</td>\n",
       "      <td>NaN</td>\n",
       "      <td>NaN</td>\n",
       "      <td>NaN</td>\n",
       "      <td>False</td>\n",
       "      <td>1.202954e-13</td>\n",
       "    </tr>\n",
       "    <tr>\n",
       "      <th>31365</th>\n",
       "      <td>ew_r6rz4qkh.slha</td>\n",
       "      <td>5000.0</td>\n",
       "      <td>5000.0</td>\n",
       "      <td>5000.0</td>\n",
       "      <td>9830.07062</td>\n",
       "      <td>46.692139</td>\n",
       "      <td>691.307120</td>\n",
       "      <td>691.469991</td>\n",
       "      <td>-1228.835120</td>\n",
       "      <td>1234.883370</td>\n",
       "      <td>...</td>\n",
       "      <td>NaN</td>\n",
       "      <td>NaN</td>\n",
       "      <td>NaN</td>\n",
       "      <td>NaN</td>\n",
       "      <td>NaN</td>\n",
       "      <td>NaN</td>\n",
       "      <td>NaN</td>\n",
       "      <td>NaN</td>\n",
       "      <td>False</td>\n",
       "      <td>4.471166e-14</td>\n",
       "    </tr>\n",
       "    <tr>\n",
       "      <th>39660</th>\n",
       "      <td>ew_vbsfbku3.slha</td>\n",
       "      <td>5000.0</td>\n",
       "      <td>5000.0</td>\n",
       "      <td>5000.0</td>\n",
       "      <td>9702.48540</td>\n",
       "      <td>22.714318</td>\n",
       "      <td>698.769615</td>\n",
       "      <td>698.938576</td>\n",
       "      <td>-717.307019</td>\n",
       "      <td>923.933844</td>\n",
       "      <td>...</td>\n",
       "      <td>NaN</td>\n",
       "      <td>NaN</td>\n",
       "      <td>NaN</td>\n",
       "      <td>NaN</td>\n",
       "      <td>NaN</td>\n",
       "      <td>NaN</td>\n",
       "      <td>NaN</td>\n",
       "      <td>NaN</td>\n",
       "      <td>False</td>\n",
       "      <td>5.093800e-16</td>\n",
       "    </tr>\n",
       "    <tr>\n",
       "      <th>40067</th>\n",
       "      <td>ew_8i49f7pp.slha</td>\n",
       "      <td>5000.0</td>\n",
       "      <td>5000.0</td>\n",
       "      <td>5000.0</td>\n",
       "      <td>9728.45370</td>\n",
       "      <td>35.577796</td>\n",
       "      <td>704.224651</td>\n",
       "      <td>704.308657</td>\n",
       "      <td>-718.458336</td>\n",
       "      <td>990.238873</td>\n",
       "      <td>...</td>\n",
       "      <td>NaN</td>\n",
       "      <td>NaN</td>\n",
       "      <td>NaN</td>\n",
       "      <td>NaN</td>\n",
       "      <td>NaN</td>\n",
       "      <td>NaN</td>\n",
       "      <td>NaN</td>\n",
       "      <td>NaN</td>\n",
       "      <td>False</td>\n",
       "      <td>4.839060e-16</td>\n",
       "    </tr>\n",
       "    <tr>\n",
       "      <th>24130</th>\n",
       "      <td>ew_4xhaa64w.slha</td>\n",
       "      <td>5000.0</td>\n",
       "      <td>5000.0</td>\n",
       "      <td>5000.0</td>\n",
       "      <td>9881.65977</td>\n",
       "      <td>43.346481</td>\n",
       "      <td>702.684828</td>\n",
       "      <td>702.359462</td>\n",
       "      <td>-707.500273</td>\n",
       "      <td>1532.002820</td>\n",
       "      <td>...</td>\n",
       "      <td>NaN</td>\n",
       "      <td>NaN</td>\n",
       "      <td>NaN</td>\n",
       "      <td>NaN</td>\n",
       "      <td>NaN</td>\n",
       "      <td>NaN</td>\n",
       "      <td>NaN</td>\n",
       "      <td>NaN</td>\n",
       "      <td>False</td>\n",
       "      <td>4.605685e-16</td>\n",
       "    </tr>\n",
       "  </tbody>\n",
       "</table>\n",
       "<p>6 rows × 754 columns</p>\n",
       "</div>"
      ],
      "text/plain": [
       "               filename  mass.35  mass.36  mass.37  mass.1000021  \\\n",
       "12402  ew_56j5w2ky.slha   5000.0   5000.0   5000.0    9977.83666   \n",
       "21762  ew_qpyaxo4t.slha   5000.0   5000.0   5000.0    9899.59016   \n",
       "31365  ew_r6rz4qkh.slha   5000.0   5000.0   5000.0    9830.07062   \n",
       "39660  ew_vbsfbku3.slha   5000.0   5000.0   5000.0    9702.48540   \n",
       "40067  ew_8i49f7pp.slha   5000.0   5000.0   5000.0    9728.45370   \n",
       "24130  ew_4xhaa64w.slha   5000.0   5000.0   5000.0    9881.65977   \n",
       "\n",
       "       mass.1000022  mass.1000023  mass.1000024  mass.1000025  mass.1000035  \\\n",
       "12402     46.482686    702.883413    703.047252  -1927.068670   1929.413310   \n",
       "21762     27.671633    696.412071    696.575656  -1518.492810   1522.208750   \n",
       "31365     46.692139    691.307120    691.469991  -1228.835120   1234.883370   \n",
       "39660     22.714318    698.769615    698.938576   -717.307019    923.933844   \n",
       "40067     35.577796    704.224651    704.308657   -718.458336    990.238873   \n",
       "24130     43.346481    702.684828    702.359462   -707.500273   1532.002820   \n",
       "\n",
       "       ...  ExptRes.result36.AnalysisSqrts (TeV)  \\\n",
       "12402  ...                                   NaN   \n",
       "21762  ...                                   NaN   \n",
       "31365  ...                                   NaN   \n",
       "39660  ...                                   NaN   \n",
       "40067  ...                                   NaN   \n",
       "24130  ...                                   NaN   \n",
       "\n",
       "       ExptRes.result36.lumi (fb-1)  ExptRes.result36.dataType  \\\n",
       "12402                           NaN                        NaN   \n",
       "21762                           NaN                        NaN   \n",
       "31365                           NaN                        NaN   \n",
       "39660                           NaN                        NaN   \n",
       "40067                           NaN                        NaN   \n",
       "24130                           NaN                        NaN   \n",
       "\n",
       "       ExptRes.result36.r  ExptRes.result36.r_expected  \\\n",
       "12402                 NaN                          NaN   \n",
       "21762                 NaN                          NaN   \n",
       "31365                 NaN                          NaN   \n",
       "39660                 NaN                          NaN   \n",
       "40067                 NaN                          NaN   \n",
       "24130                 NaN                          NaN   \n",
       "\n",
       "       ExptRes.result36.Width (GeV)  ExptRes.result36.chi2  \\\n",
       "12402                           NaN                    NaN   \n",
       "21762                           NaN                    NaN   \n",
       "31365                           NaN                    NaN   \n",
       "39660                           NaN                    NaN   \n",
       "40067                           NaN                    NaN   \n",
       "24130                           NaN                    NaN   \n",
       "\n",
       "       ExptRes.result36.likelihood  excluded  ctau.1000024  \n",
       "12402                          NaN     False  2.822623e-13  \n",
       "21762                          NaN     False  1.202954e-13  \n",
       "31365                          NaN     False  4.471166e-14  \n",
       "39660                          NaN     False  5.093800e-16  \n",
       "40067                          NaN     False  4.839060e-16  \n",
       "24130                          NaN     False  4.605685e-16  \n",
       "\n",
       "[6 rows x 754 columns]"
      ]
     },
     "execution_count": 13,
     "metadata": {},
     "output_type": "execute_result"
    }
   ],
   "source": [
    "allowed[(abs(allowed['mass.1000024']-700.) < 10.) & (allowed['mass.1000022'] < 50.)]"
   ]
  },
  {
   "cell_type": "code",
   "execution_count": 14,
   "metadata": {},
   "outputs": [],
   "source": [
    "row = allowed.loc[12402]"
   ]
  },
  {
   "cell_type": "code",
   "execution_count": 15,
   "metadata": {},
   "outputs": [
    {
     "data": {
      "text/plain": [
       "(703.047252, 46.4826862)"
      ]
     },
     "execution_count": 15,
     "metadata": {},
     "output_type": "execute_result"
    }
   ],
   "source": [
    "row['mass.1000024'],row['mass.1000022']"
   ]
  },
  {
   "cell_type": "code",
   "execution_count": 17,
   "metadata": {},
   "outputs": [
    {
     "name": "stdout",
     "output_type": "stream",
     "text": [
      "0.7417107360457573 ATLAS-SUSY-2019-08\n"
     ]
    }
   ],
   "source": [
    "print(row['ExptRes.result0.r'],row['ExptRes.result0.AnalysisID'])"
   ]
  },
  {
   "cell_type": "code",
   "execution_count": 21,
   "metadata": {},
   "outputs": [
    {
     "name": "stdout",
     "output_type": "stream",
     "text": [
      "5.03585082 1.75978084\n",
      "Total =  6.79563166\n"
     ]
    }
   ],
   "source": [
    "print(row['xsec13TeV(fb).1000023_1000024'],row['xsec13TeV(fb).-1000024_1000023'])\n",
    "print('Total = ',row['xsec13TeV(fb).1000023_1000024']+row['xsec13TeV(fb).-1000024_1000023'])"
   ]
  },
  {
   "cell_type": "code",
   "execution_count": null,
   "metadata": {},
   "outputs": [],
   "source": [
    "#Cross-sections from Prospino:\n",
    "# (1000023_1000024): LO = 5.64, NLO = 6.33\n",
    "# (-1000024_1000023): LO = 1.88, NLO = 2.27\n",
    "# Total: LO = 7.52, NLO = 8.6 (K = 1.14)\n",
    "\n",
    "#Cross-sections from Pythia6:\n",
    "# (1000023_1000024): LO = 5.958\n",
    "# (-1000024_1000023): LO = 1.962\n",
    "# Total: LO = 7.91\n",
    "\n",
    "#Cross-sections for winos (LHC SUSY Xsec group):\n",
    "# (1000023_1000024): NLO+NLL = 6.99\n",
    "# (-1000024_1000023): NLO+NLL = 2.52\n",
    "# Total: NLO+NLL = 9.51\n",
    "\n",
    "\n"
   ]
  }
 ],
 "metadata": {
  "kernelspec": {
   "display_name": "Python 3",
   "language": "python",
   "name": "python3"
  },
  "language_info": {
   "codemirror_mode": {
    "name": "ipython",
    "version": 3
   },
   "file_extension": ".py",
   "mimetype": "text/x-python",
   "name": "python",
   "nbconvert_exporter": "python",
   "pygments_lexer": "ipython3",
   "version": "3.8.6"
  }
 },
 "nbformat": 4,
 "nbformat_minor": 4
}
