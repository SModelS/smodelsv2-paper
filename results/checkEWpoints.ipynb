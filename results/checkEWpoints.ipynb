{
 "cells": [
  {
   "cell_type": "code",
   "execution_count": 1,
   "metadata": {},
   "outputs": [],
   "source": [
    "import warnings\n",
    "warnings.filterwarnings(\"ignore\", message=\"numpy.dtype size changed\")\n",
    "import numpy as np\n",
    "import pandas as pd\n",
    "import glob,imp,os\n",
    "from pandas.io.json import json_normalize\n",
    "from getRefXSecs import getXSecFor\n",
    "import pyslha\n",
    "import matplotlib as mpl\n",
    "import matplotlib.pyplot as plt\n",
    "from matplotlib.colors import LogNorm\n",
    "from collections import OrderedDict\n",
    "import seaborn as sns\n",
    "\n",
    "pd.option_context('display.max_columns', -1)\n",
    "\n",
    "pd.options.mode.chained_assignment = None #Disable copy warnings\n",
    "# plt.style.use('fivethirtyeight') #Set style\n",
    "# mpl.rcParams.update({'figure.figsize' : (15,10)})  #Set general plotting options\n",
    "\n",
    "#Define plotting style:\n",
    "sns.set() #Set style\n",
    "sns.set_style('ticks',{'font.family':'Times New Roman', 'font.serif':'Times New Roman'})\n",
    "sns.set_context('paper', font_scale=1.8)\n",
    "cm = plt.cm.get_cmap('RdYlBu')"
   ]
  },
  {
   "cell_type": "code",
   "execution_count": 2,
   "metadata": {},
   "outputs": [],
   "source": [
    "#Merge with SModelS DataFrame\n",
    "dataDF = pd.read_pickle('EWino_scanRandom.pcl')\n",
    "# print(dataDF.columns.values.tolist()) #Print all columns names"
   ]
  },
  {
   "cell_type": "markdown",
   "metadata": {},
   "source": [
    "#### Set r = 0 for points with no results "
   ]
  },
  {
   "cell_type": "code",
   "execution_count": null,
   "metadata": {},
   "outputs": [],
   "source": [
    "#Set points without results with r == 0\n",
    "dataDF.fillna(value={'ExptRes.result0.r' : 0.0},inplace=True)\n",
    "#Sort points according to r value:\n",
    "dataDF = dataDF.sort_values(by=['ExptRes.result0.r'],ascending=False)\n",
    "#Add simple flag for excluded points:\n",
    "dataDF['excluded'] = dataDF['ExptRes.result0.r'] > 1."
   ]
  },
  {
   "cell_type": "markdown",
   "metadata": {},
   "source": [
    "#### Add c*tau column for charginos"
   ]
  },
  {
   "cell_type": "code",
   "execution_count": 4,
   "metadata": {},
   "outputs": [],
   "source": [
    "dataDF['ctau.1000024'] = 1.967e-16/dataDF['width.1000024']"
   ]
  },
  {
   "cell_type": "markdown",
   "metadata": {},
   "source": [
    "### Add ratio of total cross-section to wino cross-sections"
   ]
  },
  {
   "cell_type": "code",
   "execution_count": 5,
   "metadata": {},
   "outputs": [],
   "source": [
    "pids = [[-1000024,1000024],[1000023,1000024],[-1000024,1000023]]\n",
    "ratio = []\n",
    "for index,row in dataDF.iterrows():    \n",
    "    xsecRefSum = 0.0\n",
    "    xsecSum = 0.0\n",
    "    for pidpair in pids:\n",
    "        mass1 = row['mass.%i'%abs(pidpair[0])] \n",
    "        mass2 = row['mass.%i'%abs(pidpair[1])] \n",
    "        mass = (mass1+mass2)/2.\n",
    "        xsecRef = max(0,1000*getXSecFor(pidpair[0],pidpair[1],mass,13.0,'wino'))\n",
    "        xsecRefSum += xsecRef\n",
    "            \n",
    "        xsecLabel = 'xsec13TeV(fb).%i_%i' %(pidpair[0],pidpair[1])\n",
    "        try:\n",
    "            xsec = row[xsecLabel]\n",
    "        except:\n",
    "            xsec = 0.0\n",
    "        xsecSum += xsec\n",
    "    if xsecRefSum > 0.0:\n",
    "        ratio.append(xsecSum/xsecRefSum)    \n",
    "    else:\n",
    "        ratio.append(0.0)"
   ]
  },
  {
   "cell_type": "code",
   "execution_count": 6,
   "metadata": {},
   "outputs": [],
   "source": [
    "dataDF['xsecRatio'] = ratio"
   ]
  },
  {
   "cell_type": "markdown",
   "metadata": {},
   "source": [
    "### Get points excluded and allowed"
   ]
  },
  {
   "cell_type": "code",
   "execution_count": 7,
   "metadata": {},
   "outputs": [
    {
     "name": "stdout",
     "output_type": "stream",
     "text": [
      "Total number of points = 96669\n",
      "Total excluded = 7348\n",
      "Total allowed = 89321\n"
     ]
    }
   ],
   "source": [
    "excluded = dataDF[dataDF['excluded'] == True]\n",
    "allowed = dataDF[dataDF['excluded'] == False]\n",
    "print('Total number of points = %i' %len(dataDF))\n",
    "print('Total excluded = %i'%(len(excluded)))\n",
    "print('Total allowed = %i'%(len(allowed)))"
   ]
  },
  {
   "cell_type": "code",
   "execution_count": 8,
   "metadata": {},
   "outputs": [
    {
     "data": {
      "text/html": [
       "<div>\n",
       "<style scoped>\n",
       "    .dataframe tbody tr th:only-of-type {\n",
       "        vertical-align: middle;\n",
       "    }\n",
       "\n",
       "    .dataframe tbody tr th {\n",
       "        vertical-align: top;\n",
       "    }\n",
       "\n",
       "    .dataframe thead th {\n",
       "        text-align: right;\n",
       "    }\n",
       "</style>\n",
       "<table border=\"1\" class=\"dataframe\">\n",
       "  <thead>\n",
       "    <tr style=\"text-align: right;\">\n",
       "      <th></th>\n",
       "      <th>mass.1000024</th>\n",
       "      <th>mass.1000022</th>\n",
       "      <th>ExptRes.result0.r</th>\n",
       "      <th>filename</th>\n",
       "    </tr>\n",
       "  </thead>\n",
       "  <tbody>\n",
       "    <tr>\n",
       "      <th>91449</th>\n",
       "      <td>160.491852</td>\n",
       "      <td>106.688795</td>\n",
       "      <td>0.904537</td>\n",
       "      <td>ew_51hkk1xd.slha</td>\n",
       "    </tr>\n",
       "    <tr>\n",
       "      <th>25285</th>\n",
       "      <td>150.857633</td>\n",
       "      <td>98.921219</td>\n",
       "      <td>0.442105</td>\n",
       "      <td>ew_fcaea2ej.slha</td>\n",
       "    </tr>\n",
       "    <tr>\n",
       "      <th>81935</th>\n",
       "      <td>137.158141</td>\n",
       "      <td>103.621384</td>\n",
       "      <td>0.421849</td>\n",
       "      <td>ew_27zw0lv0.slha</td>\n",
       "    </tr>\n",
       "    <tr>\n",
       "      <th>20299</th>\n",
       "      <td>140.887288</td>\n",
       "      <td>92.692867</td>\n",
       "      <td>0.335086</td>\n",
       "      <td>ew_aqbrfaft.slha</td>\n",
       "    </tr>\n",
       "    <tr>\n",
       "      <th>1626</th>\n",
       "      <td>131.462160</td>\n",
       "      <td>91.093410</td>\n",
       "      <td>0.140665</td>\n",
       "      <td>ew_np5jefy0.slha</td>\n",
       "    </tr>\n",
       "    <tr>\n",
       "      <th>91795</th>\n",
       "      <td>131.192314</td>\n",
       "      <td>105.201418</td>\n",
       "      <td>0.012382</td>\n",
       "      <td>ew_v1ne8ex3.slha</td>\n",
       "    </tr>\n",
       "    <tr>\n",
       "      <th>45489</th>\n",
       "      <td>130.825403</td>\n",
       "      <td>101.198354</td>\n",
       "      <td>0.007382</td>\n",
       "      <td>ew_1mltrsmb.slha</td>\n",
       "    </tr>\n",
       "    <tr>\n",
       "      <th>42409</th>\n",
       "      <td>142.948695</td>\n",
       "      <td>100.145379</td>\n",
       "      <td>0.004244</td>\n",
       "      <td>ew_5_jmj4gd.slha</td>\n",
       "    </tr>\n",
       "    <tr>\n",
       "      <th>6672</th>\n",
       "      <td>135.528501</td>\n",
       "      <td>97.798328</td>\n",
       "      <td>0.003929</td>\n",
       "      <td>ew_rlh5aobk.slha</td>\n",
       "    </tr>\n",
       "    <tr>\n",
       "      <th>15332</th>\n",
       "      <td>143.578889</td>\n",
       "      <td>107.511429</td>\n",
       "      <td>0.003861</td>\n",
       "      <td>ew_54t5bg0y.slha</td>\n",
       "    </tr>\n",
       "    <tr>\n",
       "      <th>25242</th>\n",
       "      <td>141.930128</td>\n",
       "      <td>98.320778</td>\n",
       "      <td>0.003573</td>\n",
       "      <td>ew_l33dnljh.slha</td>\n",
       "    </tr>\n",
       "    <tr>\n",
       "      <th>19418</th>\n",
       "      <td>137.526760</td>\n",
       "      <td>103.434820</td>\n",
       "      <td>0.002758</td>\n",
       "      <td>ew_jsxd22nt.slha</td>\n",
       "    </tr>\n",
       "    <tr>\n",
       "      <th>77405</th>\n",
       "      <td>133.857940</td>\n",
       "      <td>97.477660</td>\n",
       "      <td>0.002701</td>\n",
       "      <td>ew_97h7rog7.slha</td>\n",
       "    </tr>\n",
       "  </tbody>\n",
       "</table>\n",
       "</div>"
      ],
      "text/plain": [
       "       mass.1000024  mass.1000022  ExptRes.result0.r          filename\n",
       "91449    160.491852    106.688795           0.904537  ew_51hkk1xd.slha\n",
       "25285    150.857633     98.921219           0.442105  ew_fcaea2ej.slha\n",
       "81935    137.158141    103.621384           0.421849  ew_27zw0lv0.slha\n",
       "20299    140.887288     92.692867           0.335086  ew_aqbrfaft.slha\n",
       "1626     131.462160     91.093410           0.140665  ew_np5jefy0.slha\n",
       "91795    131.192314    105.201418           0.012382  ew_v1ne8ex3.slha\n",
       "45489    130.825403    101.198354           0.007382  ew_1mltrsmb.slha\n",
       "42409    142.948695    100.145379           0.004244  ew_5_jmj4gd.slha\n",
       "6672     135.528501     97.798328           0.003929  ew_rlh5aobk.slha\n",
       "15332    143.578889    107.511429           0.003861  ew_54t5bg0y.slha\n",
       "25242    141.930128     98.320778           0.003573  ew_l33dnljh.slha\n",
       "19418    137.526760    103.434820           0.002758  ew_jsxd22nt.slha\n",
       "77405    133.857940     97.477660           0.002701  ew_97h7rog7.slha"
      ]
     },
     "execution_count": 8,
     "metadata": {},
     "output_type": "execute_result"
    }
   ],
   "source": [
    "dataFiltered = allowed[(allowed['mass.1000024']-allowed['mass.1000022'] < 90.)\n",
    "        & (abs(allowed['mass.1000022']-100.) < 10.)\n",
    "        & (abs(allowed['mass.1000024']-150.) < 20.)]\n",
    "dataFiltered[['mass.1000024','mass.1000022','ExptRes.result0.r','filename']]"
   ]
  },
  {
   "cell_type": "code",
   "execution_count": 21,
   "metadata": {},
   "outputs": [
    {
     "data": {
      "image/png": "[encoded data removed]",
      "text/plain": [
       "<Figure size 1008x432 with 2 Axes>"
      ]
     },
     "metadata": {},
     "output_type": "display_data"
    }
   ],
   "source": [
    "plt.figure(figsize=(14,6))\n",
    "excCurves = {}\n",
    "excCurves['CMS-SUS-17-004 (TChiWZ)'] =  np.genfromtxt('../EWino/data/CMS_SUS_17_004_TChiWZ_obs.csv', \n",
    "                                                      delimiter=',')\n",
    "colorDict = dict(zip(excCurves.keys(),sns.color_palette(\"Paired\",len(excCurves))))\n",
    "\n",
    "x = dataFiltered['mass.1000024']\n",
    "y = dataFiltered['mass.1000022']\n",
    "# z = dataFiltered['ExptRes.result0.r']\n",
    "z = dataFiltered['ExptRes.result0.r']/dataFiltered['xsecRatio']\n",
    "cm = plt.cm.get_cmap('Greys')\n",
    "cm = plt.cm.get_cmap('PiYG', 11) \n",
    "\n",
    "plt.scatter(x,y,c=z,s=20,cmap=cm,vmin=z.min(),vmax=z.max())\n",
    "\n",
    "plt.plot([90,500],[0,410],linestyle='--',c='black')\n",
    "\n",
    "\n",
    "for ana in excCurves:\n",
    "    curve = excCurves[ana]\n",
    "    color = colorDict[ana]\n",
    "    plt.plot(curve[:,0],curve[:,1],linewidth=5,linestyle='-',color=color,label=ana)\n",
    "        \n",
    "\n",
    "lgd = plt.legend(loc=(1.3,0.2), framealpha=1.,fontsize=12)\n",
    "\n",
    "plt.ylim(0,200)\n",
    "plt.xlim(0,250)\n",
    "plt.xlabel(r'$\\mathregular{m_{\\tilde{\\chi}_1^\\pm}}$ (GeV)',fontsize = 25)\n",
    "plt.ylabel(r'$\\mathregular{m_{\\tilde{\\chi}_1^0}}$ (GeV)',fontsize = 25)\n",
    "plt.title(\"Points allowed by LHC(%i points)\" %len(x))\n",
    "plt.colorbar(label = r'$\\sigma_{EW}/\\sigma_{EW}^{wino}$')\n",
    "plt.tight_layout()\n",
    "plt.show()"
   ]
  },
  {
   "cell_type": "code",
   "execution_count": 22,
   "metadata": {},
   "outputs": [
    {
     "data": {
      "text/plain": [
       "91449    3.782430\n",
       "25285    2.791507\n",
       "81935    2.795434\n",
       "20299    2.237624\n",
       "1626     0.930062\n",
       "91795    0.079771\n",
       "45489    0.048397\n",
       "42409    0.027737\n",
       "6672     0.026281\n",
       "15332    0.024988\n",
       "25242    0.023198\n",
       "19418    0.018163\n",
       "77405    0.017890\n",
       "dtype: float64"
      ]
     },
     "execution_count": 22,
     "metadata": {},
     "output_type": "execute_result"
    }
   ],
   "source": [
    "dataFiltered['ExptRes.result0.r']/dataFiltered['xsecRatio']"
   ]
  },
  {
   "cell_type": "code",
   "execution_count": 23,
   "metadata": {},
   "outputs": [],
   "source": [
    "row = allowed.loc[42409]"
   ]
  },
  {
   "cell_type": "code",
   "execution_count": 24,
   "metadata": {},
   "outputs": [
    {
     "data": {
      "text/plain": [
       "(142.948695, 100.145379, 'ew_5_jmj4gd.slha')"
      ]
     },
     "execution_count": 24,
     "metadata": {},
     "output_type": "execute_result"
    }
   ],
   "source": [
    "row['mass.1000024'],row['mass.1000022'],row['filename']"
   ]
  },
  {
   "cell_type": "code",
   "execution_count": 12,
   "metadata": {},
   "outputs": [
    {
     "name": "stdout",
     "output_type": "stream",
     "text": [
      "0.0 nan\n"
     ]
    }
   ],
   "source": [
    "print(row['ExptRes.result0.r'],row['ExptRes.result0.AnalysisID'])"
   ]
  },
  {
   "cell_type": "code",
   "execution_count": 13,
   "metadata": {},
   "outputs": [
    {
     "name": "stdout",
     "output_type": "stream",
     "text": [
      "1420.67954 847.799254\n",
      "Total =  2268.478794\n"
     ]
    }
   ],
   "source": [
    "print(row['xsec13TeV(fb).1000023_1000024'],row['xsec13TeV(fb).-1000024_1000023'])\n",
    "print('Total = ',row['xsec13TeV(fb).1000023_1000024']+row['xsec13TeV(fb).-1000024_1000023'])"
   ]
  },
  {
   "cell_type": "code",
   "execution_count": 14,
   "metadata": {},
   "outputs": [],
   "source": [
    "#Cross-sections from Prospino:\n",
    "# (1000023_1000024): LO = 5.64, NLO = 6.33\n",
    "# (-1000024_1000023): LO = 1.88, NLO = 2.27\n",
    "# Total: LO = 7.52, NLO = 8.6 (K = 1.14)\n",
    "\n",
    "#Cross-sections from Pythia6:\n",
    "# (1000023_1000024): LO = 5.958\n",
    "# (-1000024_1000023): LO = 1.962\n",
    "# Total: LO = 7.91\n",
    "\n",
    "#Cross-sections for winos (LHC SUSY Xsec group):\n",
    "# (1000023_1000024): NLO+NLL = 6.99\n",
    "# (-1000024_1000023): NLO+NLL = 2.52\n",
    "# Total: NLO+NLL = 9.51\n",
    "\n",
    "\n"
   ]
  }
 ],
 "metadata": {
  "kernelspec": {
   "display_name": "Python 3",
   "language": "python",
   "name": "python3"
  },
  "language_info": {
   "codemirror_mode": {
    "name": "ipython",
    "version": 3
   },
   "file_extension": ".py",
   "mimetype": "text/x-python",
   "name": "python",
   "nbconvert_exporter": "python",
   "pygments_lexer": "ipython3",
   "version": "3.8.10"
  }
 },
 "nbformat": 4,
 "nbformat_minor": 4
}
