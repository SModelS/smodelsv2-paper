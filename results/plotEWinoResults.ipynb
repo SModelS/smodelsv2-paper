{
 "cells": [
  {
   "cell_type": "markdown",
   "metadata": {},
   "source": [
    "# Plot results using the DataFrame stored in pickle file"
   ]
  },
  {
   "cell_type": "code",
   "execution_count": null,
   "metadata": {},
   "outputs": [],
   "source": [
    "import warnings\n",
    "warnings.filterwarnings(\"ignore\", message=\"numpy.dtype size changed\")\n",
    "import numpy as np\n",
    "import pandas as pd\n",
    "import glob,imp,os\n",
    "from pandas.io.json import json_normalize\n",
    "import pyslha\n",
    "import matplotlib as mpl\n",
    "import matplotlib.pyplot as plt\n",
    "from matplotlib.colors import LogNorm\n",
    "from collections import OrderedDict\n",
    "import seaborn as sns\n",
    "\n",
    "pd.option_context('display.max_columns', -1)\n",
    "\n",
    "pd.options.mode.chained_assignment = None #Disable copy warnings\n",
    "# plt.style.use('fivethirtyeight') #Set style\n",
    "# mpl.rcParams.update({'figure.figsize' : (15,10)})  #Set general plotting options\n",
    "\n",
    "#Define plotting style:\n",
    "sns.set() #Set style\n",
    "sns.set_style('ticks',{'font.family':'Times New Roman', 'font.serif':'Times New Roman'})\n",
    "sns.set_context('paper', font_scale=1.8)\n",
    "cm = plt.cm.get_cmap('RdYlBu')"
   ]
  },
  {
   "cell_type": "code",
   "execution_count": null,
   "metadata": {},
   "outputs": [],
   "source": [
    "#Merge with SModelS DataFrame\n",
    "dataDF = pd.read_pickle('EWino_scan1.pcl')\n",
    "#print(dataDF.columns.values.tolist()) #Print all columns names"
   ]
  },
  {
   "cell_type": "markdown",
   "metadata": {},
   "source": [
    "#### Set r = 0 for points with no results "
   ]
  },
  {
   "cell_type": "code",
   "execution_count": null,
   "metadata": {},
   "outputs": [],
   "source": [
    "#Set points without results with r == 0\n",
    "dataDF.fillna(value={'ExptRes.result0.r' : 0.0},inplace=True)\n",
    "#Sort points according to r value:\n",
    "dataDF = dataDF.sort_values(by=['ExptRes.result0.r'],ascending=False)\n",
    "#Add simple flag for excluded points:\n",
    "dataDF['excluded'] = dataDF['ExptRes.result0.r'] > 1."
   ]
  },
  {
   "cell_type": "markdown",
   "metadata": {},
   "source": [
    "#### Add c*tau column for charginos"
   ]
  },
  {
   "cell_type": "code",
   "execution_count": null,
   "metadata": {},
   "outputs": [],
   "source": [
    "dataDF['ctau.1000024'] = 1.967e-16/dataDF['width.1000024']"
   ]
  },
  {
   "cell_type": "markdown",
   "metadata": {},
   "source": [
    "### Get points excluded:"
   ]
  },
  {
   "cell_type": "code",
   "execution_count": null,
   "metadata": {},
   "outputs": [],
   "source": [
    "excluded = dataDF[dataDF['excluded'] == True]\n",
    "allowed = dataDF[dataDF['excluded'] == False]\n",
    "print('Total number of points = %i' %len(dataDF))\n",
    "print('Total excluded = %i'%(len(excluded)))\n",
    "print('Total allowed = %i'%(len(allowed)))"
   ]
  },
  {
   "cell_type": "markdown",
   "metadata": {},
   "source": [
    "#### Plot distribution excluded points"
   ]
  },
  {
   "cell_type": "code",
   "execution_count": null,
   "metadata": {},
   "outputs": [],
   "source": [
    "plt.figure(figsize=(6,5))\n",
    "xExcluded = excluded['ctau.1000024']\n",
    "xAllowed = allowed['ctau.1000024']\n",
    "nbins = np.logspace(-3,0,30)\n",
    "colors = np.take(sns.color_palette(\"Paired\"),[0,5],axis=0)\n",
    "plt.hist([xExcluded,xAllowed],nbins,stacked=True, \n",
    "                            histtype='barstacked', label=['Excluded','Allowed'],\n",
    "                            linewidth=0, fill=True, color=colors)\n",
    "lgd = plt.legend(bbox_to_anchor=(0.62, 0.75), loc=2, borderaxespad=0.,\n",
    "                 prop={'family' :'serif','style' : 'italic', 'size' : 14},framealpha=1.)\n",
    "plt.yscale('log')\n",
    "plt.xscale('log')\n",
    "plt.title('%1.1f%% excluded points' %(100*len(excluded)/float(len(dataDF))), fontsize=14)\n",
    "plt.xlabel(r'$c \\tau_{\\tilde{\\chi}_1^\\pm}$ (m)')\n",
    "plt.ylabel('Number of points')\n",
    "plt.show()"
   ]
  },
  {
   "cell_type": "markdown",
   "metadata": {},
   "source": [
    "### Plot excluded points grouped by most excluding analysis"
   ]
  },
  {
   "cell_type": "code",
   "execution_count": null,
   "metadata": {},
   "outputs": [],
   "source": [
    "anas = excluded['ExptRes.result0.AnalysisID'].value_counts()\n",
    "anas.sort_values(inplace=True,ascending=False)\n",
    "print(anas)\n",
    "\n",
    "plt.figure(figsize=(8,6))\n",
    "\n",
    "# nbins = np.logspace(-3,3,20)\n",
    "nbins=np.linspace(0,0.07,15)\n",
    "colorDict = dict(zip(anas.index,sns.color_palette(\"Paired\",len(anas))))\n",
    "c_other = 'lightgray'\n",
    "first = True\n",
    "labels= []\n",
    "hists = []\n",
    "colors = []\n",
    "xothers = []\n",
    "for i,ana in enumerate(anas.index):\n",
    "    x = excluded[excluded['ExptRes.result0.AnalysisID'] == ana]['ctau.1000024']\n",
    "    if anas[ana] < 0:\n",
    "        xothers += x.tolist()        \n",
    "        continue\n",
    "    else:\n",
    "        color = colorDict[ana]\n",
    "        label = ana\n",
    "    \n",
    "    hists.append(x)\n",
    "    colors.append(color)\n",
    "    labels.append(label)\n",
    "\n",
    "hists.append(xothers)\n",
    "labels.append('Others')\n",
    "colors.append(c_other)\n",
    "plt.hist(hists,nbins,color=colors,label=labels,\n",
    "                            histtype='barstacked',\n",
    "                            linewidth=1, fill=True)\n",
    "\n",
    "lgd = plt.legend(loc='upper right', borderaxespad=0.,framealpha=1.,fontsize=18)\n",
    "\n",
    "# plt.ylim(0,6500)\n",
    "# plt.xlim(0,0.07)\n",
    "# plt.title('SModelS v2.0', fontsize=26)\n",
    "plt.xlabel(r'$\\mathregular{c \\tau_{\\tilde{\\chi}_1^\\pm}}$ (m)',fontsize = 25)\n",
    "plt.ylabel('Number of points',fontsize = 25)\n",
    "plt.tight_layout()\n",
    "plt.savefig('Wino_v2.png')\n",
    "plt.show()"
   ]
  },
  {
   "cell_type": "code",
   "execution_count": null,
   "metadata": {},
   "outputs": [],
   "source": [
    "anas = excluded['ExptRes.result0.AnalysisID'].value_counts()\n",
    "anas.sort_values(inplace=True,ascending=False)\n",
    "\n",
    "plt.figure(figsize=(8,6))\n",
    "\n",
    "# nbins = np.logspace(-3,3,20)\n",
    "nbins=np.linspace(0,0.07,15)\n",
    "colorDict = dict(zip(anas.index,sns.color_palette(\"Paired\",len(anas))))\n",
    "c_other = 'lightgray'\n",
    "\n",
    "\n",
    "x = allowed['mass.1000024']\n",
    "y = allowed['mass.1000022']\n",
    "plt.scatter(x,y,color=c_other,label='Allowed',s=60)\n",
    "for i,ana in enumerate(anas.index):\n",
    "    x = excluded[excluded['ExptRes.result0.AnalysisID'] == ana]['mass.1000024']\n",
    "    y = excluded[excluded['ExptRes.result0.AnalysisID'] == ana]['mass.1000022']\n",
    "    color = colorDict[ana]\n",
    "    label = ana\n",
    "    plt.scatter(x,y,color=color,label=label,s=60)\n",
    "\n",
    "\n",
    "lgd = plt.legend(loc='upper left', framealpha=1.,fontsize=18)\n",
    "\n",
    "plt.ylim(0,700)\n",
    "plt.xlim(0,700)\n",
    "plt.xlabel(r'$\\mathregular{m_{\\tilde{\\chi}_1^\\pm}}$ (GeV)',fontsize = 25)\n",
    "plt.ylabel(r'$\\mathregular{m_{\\tilde{\\chi}_1^0}}$ (GeV)',fontsize = 25)\n",
    "plt.tight_layout()\n",
    "plt.show()"
   ]
  },
  {
   "cell_type": "code",
   "execution_count": null,
   "metadata": {},
   "outputs": [],
   "source": [
    "anas = excluded['ExptRes.result0.AnalysisID'].value_counts()\n",
    "anas.sort_values(inplace=True,ascending=False)\n",
    "\n",
    "plt.figure(figsize=(8,6))\n",
    "\n",
    "# nbins = np.logspace(-3,3,20)\n",
    "nbins=np.linspace(0,0.07,15)\n",
    "colorDict = dict(zip(anas.index,sns.color_palette(\"Paired\",len(anas))))\n",
    "c_other = 'lightgray'\n",
    "\n",
    "\n",
    "x = allowed['mass.1000024']\n",
    "y = allowed['mass.1000022']\n",
    "y = x-y\n",
    "plt.scatter(x,y,color=c_other,label='Allowed',s=60)\n",
    "for i,ana in enumerate(anas.index):\n",
    "    x = excluded[excluded['ExptRes.result0.AnalysisID'] == ana]['mass.1000024']\n",
    "    y = excluded[excluded['ExptRes.result0.AnalysisID'] == ana]['mass.1000022']\n",
    "    y = x-y\n",
    "    color = colorDict[ana]\n",
    "    label = ana\n",
    "    plt.scatter(x,y,color=color,label=label,s=60)\n",
    "\n",
    "\n",
    "lgd = plt.legend(loc='upper left', framealpha=1.,fontsize=18)\n",
    "\n",
    "# plt.ylim(0,6500)\n",
    "# plt.xlim(0,400)\n",
    "# plt.ylim(0,400)\n",
    "plt.ylabel(r'$\\mathregular{m_{\\tilde{\\chi}_1^\\pm}}-\\mathregular{m_{\\tilde{\\chi}_1^0}}$ (GeV)',fontsize = 25)\n",
    "plt.xlabel(r'$\\mathregular{m_{\\tilde{\\chi}_1^\\pm}}$ (GeV)',fontsize = 25)\n",
    "plt.tight_layout()\n",
    "plt.show()"
   ]
  },
  {
   "cell_type": "code",
   "execution_count": null,
   "metadata": {},
   "outputs": [],
   "source": [
    "anas = excluded['ExptRes.result0.AnalysisID'].value_counts()\n",
    "anas.sort_values(inplace=True,ascending=False)\n",
    "\n",
    "plt.figure(figsize=(8,6))\n",
    "\n",
    "# nbins = np.logspace(-3,3,20)\n",
    "nbins=np.linspace(0,0.07,15)\n",
    "colorDict = dict(zip(anas.index,sns.color_palette(\"Paired\",len(anas))))\n",
    "c_other = 'lightgray'\n",
    "\n",
    "\n",
    "x = allowed['extpar.1']\n",
    "y = allowed['extpar.2']\n",
    "plt.scatter(x,y,color=c_other,label='Allowed',s=60)\n",
    "for i,ana in enumerate(anas.index):\n",
    "    x = excluded[excluded['ExptRes.result0.AnalysisID'] == ana]['extpar.1']\n",
    "    y = excluded[excluded['ExptRes.result0.AnalysisID'] == ana]['extpar.2']\n",
    "    color = colorDict[ana]\n",
    "    label = ana\n",
    "    plt.scatter(x,y,color=color,label=label,s=60)\n",
    "\n",
    "\n",
    "lgd = plt.legend(loc='upper left', framealpha=1.,fontsize=18)\n",
    "\n",
    "# plt.ylim(0,6500)\n",
    "# plt.xlim(0,400)\n",
    "# plt.ylim(0,400)\n",
    "plt.ylabel(r'$\\mathregular{M_2}$ (GeV)',fontsize = 25)\n",
    "plt.xlabel(r'$\\mathregular{M_1}$ (GeV)',fontsize = 25)\n",
    "plt.tight_layout()\n",
    "plt.show()"
   ]
  },
  {
   "cell_type": "code",
   "execution_count": null,
   "metadata": {},
   "outputs": [],
   "source": [
    "anas = excluded['ExptRes.result0.AnalysisID'].value_counts()\n",
    "anas.sort_values(inplace=True,ascending=False)\n",
    "\n",
    "plt.figure(figsize=(8,6))\n",
    "\n",
    "# nbins = np.logspace(-3,3,20)\n",
    "nbins=np.linspace(0,0.07,15)\n",
    "colorDict = dict(zip(anas.index,sns.color_palette(\"Paired\",len(anas))))\n",
    "c_other = 'lightgray'\n",
    "\n",
    "\n",
    "x = allowed['extpar.1']\n",
    "y = allowed['extpar.2']\n",
    "plt.scatter(x,y,color=c_other,label='Allowed',s=60)\n",
    "for i,ana in enumerate(anas.index):\n",
    "    x = excluded[excluded['ExptRes.result0.AnalysisID'] == ana]['extpar.1']\n",
    "    y = excluded[excluded['ExptRes.result0.AnalysisID'] == ana]['extpar.23']\n",
    "    color = colorDict[ana]\n",
    "    label = ana\n",
    "    plt.scatter(x,y,color=color,label=label,s=60)\n",
    "\n",
    "\n",
    "lgd = plt.legend(loc='upper left', framealpha=1.,fontsize=18)\n",
    "\n",
    "# plt.ylim(0,6500)\n",
    "# plt.xlim(0,400)\n",
    "# plt.ylim(0,400)\n",
    "plt.ylabel(r'$\\mathregular{\\mu}$ (GeV)',fontsize = 25)\n",
    "plt.xlabel(r'$\\mathregular{M_1}$ (GeV)',fontsize = 25)\n",
    "plt.tight_layout()\n",
    "plt.show()"
   ]
  },
  {
   "cell_type": "code",
   "execution_count": null,
   "metadata": {},
   "outputs": [],
   "source": []
  }
 ],
 "metadata": {
  "kernelspec": {
   "display_name": "Python 3",
   "language": "python",
   "name": "python3"
  },
  "language_info": {
   "codemirror_mode": {
    "name": "ipython",
    "version": 3
   },
   "file_extension": ".py",
   "mimetype": "text/x-python",
   "name": "python",
   "nbconvert_exporter": "python",
   "pygments_lexer": "ipython3",
   "version": "3.8.6"
  }
 },
 "nbformat": 4,
 "nbformat_minor": 2
}
