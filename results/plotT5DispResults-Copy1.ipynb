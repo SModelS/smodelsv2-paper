{
 "cells": [
  {
   "cell_type": "markdown",
   "metadata": {},
   "source": [
    "### Plot T5Disp results using the DataFrame stored in T5DispResults.pcl "
   ]
  },
  {
   "cell_type": "code",
   "execution_count": 1,
   "metadata": {},
   "outputs": [],
   "source": [
    "import warnings\n",
    "warnings.filterwarnings(\"ignore\", message=\"numpy.dtype size changed\")\n",
    "import numpy as np\n",
    "import pandas as pd\n",
    "import glob,imp,os\n",
    "from pandas.io.json import json_normalize\n",
    "import pyslha\n",
    "import matplotlib as mpl\n",
    "import matplotlib.pyplot as plt\n",
    "from matplotlib.colors import LogNorm\n",
    "from collections import OrderedDict\n",
    "import seaborn as sns\n",
    "import itertools\n",
    "from scipy.interpolate import griddata\n",
    "\n",
    "pd.option_context('display.max_columns', -1)\n",
    "\n",
    "pd.options.mode.chained_assignment = None #Disable copy warnings\n",
    "# plt.style.use('fivethirtyeight') #Set style\n",
    "# mpl.rcParams.update({'figure.figsize' : (15,10)})  #Set general plotting options\n",
    "\n",
    "#Define plotting style:\n",
    "sns.set() #Set style\n",
    "sns.set_style('ticks',{'font.family':'Times New Roman', 'font.serif':'Times New Roman'})\n",
    "sns.set_context('paper', font_scale=1.8)\n",
    "cm = plt.cm.get_cmap('RdYlBu')"
   ]
  },
  {
   "cell_type": "code",
   "execution_count": 2,
   "metadata": {},
   "outputs": [],
   "source": [
    "def getSmoothCurve(x,y,z,stepX=20.,stepY=0.5,doLog=True,doMax=True,cval=1.):\n",
    "\n",
    "    if doLog:\n",
    "        yv = np.log10(y[y > 0.]).tolist()\n",
    "        xv = x[y > 0.].tolist()\n",
    "        zv = z[y > 0.].tolist()\n",
    "    else:\n",
    "        yv = y.tolist()\n",
    "        xv = x.tolist()    \n",
    "        zv = z.tolist()\n",
    "    \n",
    "    points = list(zip(xv,yv))\n",
    "    xbins = np.arange(min(xv),max(xv),stepX)\n",
    "    ybins = np.arange(min(yv),max(yv),stepY)\n",
    "    zvals = np.array([[0.]*len(ybins)]*len(xbins))\n",
    "    for ipt,pt in enumerate(points):\n",
    "        if not (xbins.min() < pt[0] < xbins.max()):\n",
    "            continue\n",
    "        if not (ybins.min() < pt[1] < ybins.max()):\n",
    "            continue\n",
    "        ix = np.searchsorted(xbins,pt[0])-1\n",
    "        iy = np.searchsorted(ybins,pt[1])\n",
    "        if doMax:\n",
    "            zvals[ix,iy] = max(zvals[ix,iy],zv[ipt])\n",
    "        else:\n",
    "            if zvals[ix,iy] == 0.:\n",
    "                zvals[ix,iy] = zv[ipt]\n",
    "            else:\n",
    "                zvals[ix,iy] += zv[ipt]\n",
    "                zvals[ix,iy] = zvals[ix,iy]/2.            \n",
    "\n",
    "        \n",
    "    xpoints = []\n",
    "    ypoints = []\n",
    "    zpoints = []\n",
    "    for ix,xval in enumerate(xbins):\n",
    "        for iy,yval in enumerate(ybins):\n",
    "            xpoints.append(xval)\n",
    "            ypoints.append(yval)\n",
    "            zpoints.append(zvals[ix,iy])\n",
    "    cs = plt.tricontour(xpoints,ypoints,zpoints,levels=[cval],linewidths=0)\n",
    "    curve = None\n",
    "    for c in cs.collections[0].get_paths():\n",
    "        if curve is None:\n",
    "            curve = c.vertices\n",
    "        elif len(c.vertices) > len(curve):\n",
    "            curve = c.vertices\n",
    "    plt.cla()\n",
    "    if doLog:\n",
    "        curve[:,1] = np.power(10,curve[:,1])\n",
    "    return curve"
   ]
  },
  {
   "cell_type": "code",
   "execution_count": 3,
   "metadata": {},
   "outputs": [],
   "source": [
    "#Merge with SModelS DataFrame\n",
    "dataDF = pd.read_pickle('T5DispResults.pcl')\n",
    "#print(dataDF.columns.values.tolist()) #Print all columns names"
   ]
  },
  {
   "cell_type": "code",
   "execution_count": 4,
   "metadata": {},
   "outputs": [],
   "source": [
    "#Set points without results with r == 0\n",
    "dataDF.fillna(value={'ExptRes.result0.r' : 0.0},inplace=True)\n",
    "#Sort points according to r value:\n",
    "dataDF = dataDF.sort_values(by=['ExptRes.result0.r'],ascending=True)\n",
    "#Add simple flag for excluded points:\n",
    "dataDF['excluded'] = dataDF['ExptRes.result0.r'] > 1.\n",
    "#Replace zero widths by small value:\n",
    "# dataDF = dataDF[dataDF['width.37'] > 0.]\n",
    "dataDF['width.1000021'] = dataDF['width.1000021'].map(lambda x: x if x > 0. else 1e-50)\n",
    "dataDF['ctau.1000021'] = 1.967e-16/dataDF['width.1000021']\n",
    "# #Restrict ctau range:\n",
    "# dataDF = dataDF[(dataDF['ctau.37'] > 0.01) & (dataDF['ctau.37'] < 1e5)]"
   ]
  },
  {
   "cell_type": "markdown",
   "metadata": {},
   "source": [
    "### Get data for plotting"
   ]
  },
  {
   "cell_type": "code",
   "execution_count": 5,
   "metadata": {},
   "outputs": [],
   "source": [
    "mG = dataDF['mass.1000021']\n",
    "ctau = dataDF['ctau.1000021']\n",
    "r = dataDF['ExptRes.result0.r']\n",
    "x,y,z = mG,ctau,r"
   ]
  },
  {
   "cell_type": "code",
   "execution_count": 59,
   "metadata": {},
   "outputs": [],
   "source": [
    "#Get more points for smooth plotting\n",
    "pts = np.column_stack((x, np.log10(y)))\n",
    "xnew = np.linspace(min(x),max(x),200)\n",
    "ynew = np.linspace(np.log10(min(y)),np.log10(max(y)),200)\n",
    "X,Y = np.meshgrid(xnew, ynew)\n",
    "newpts = list(zip(X.flat,Y.flat))\n",
    "znew = griddata(pts,r,newpts)\n",
    "znew = np.where(znew >0, znew,0.0)\n",
    "Z = np.reshape(znew,(len(xnew),len(ynew)))\n",
    "#Rescale y points:\n",
    "Y = 10**Y"
   ]
  },
  {
   "cell_type": "code",
   "execution_count": 67,
   "metadata": {},
   "outputs": [
    {
     "data": {
      "image/png": "[encoded data removed]",
      "text/plain": [
       "<Figure size 432x288 with 1 Axes>"
      ]
     },
     "metadata": {},
     "output_type": "display_data"
    }
   ],
   "source": [
    "import matplotlib as mpl\n",
    "levels = np.linspace(0,10,50)\n",
    "\n",
    "plt.contourf(X, Y, Z, levels=levels, vmin=0,vmax=2,cmap=\"YlGnBu\")\n",
    "plt.yscale('log')\n",
    "plt.show()"
   ]
  },
  {
   "cell_type": "markdown",
   "metadata": {},
   "source": [
    "### Get official curves"
   ]
  },
  {
   "cell_type": "code",
   "execution_count": 10,
   "metadata": {},
   "outputs": [],
   "source": [
    "excCMS = np.genfromtxt('CMS-EXO-19-001_Figure_004.csv',delimiter=',',\n",
    "                       names=True) #Displaced Jets"
   ]
  },
  {
   "cell_type": "code",
   "execution_count": 20,
   "metadata": {},
   "outputs": [
    {
     "name": "stderr",
     "output_type": "stream",
     "text": [
      "<ipython-input-20-23ec941c62c0>:4: RuntimeWarning: covariance is not positive-semidefinite.\n",
      "  multivariate_normal([30, 20], [[2, 3], [1, 3]], size=1000)\n"
     ]
    },
    {
     "data": {
      "image/png": "[encoded data removed]",
      "text/plain": [
       "<Figure size 432x288 with 4 Axes>"
      ]
     },
     "metadata": {},
     "output_type": "display_data"
    }
   ],
   "source": [
    "from numpy.random import multivariate_normal\n",
    "data = np.vstack([\n",
    "    multivariate_normal([10, 10], [[3, 2], [2, 3]], size=100000),\n",
    "    multivariate_normal([30, 20], [[2, 3], [1, 3]], size=1000)\n",
    "])\n",
    "\n",
    "gammas = [0.8, 0.5, 0.3]\n",
    "\n",
    "fig, axes = plt.subplots(nrows=2, ncols=2)\n",
    "\n",
    "axes[0, 0].set_title('Linear normalization')\n",
    "axes[0, 0].hist2d(data[:, 0], data[:, 1], bins=100)\n",
    "\n",
    "\n",
    "\n",
    "fig.tight_layout()\n",
    "\n",
    "plt.show()"
   ]
  },
  {
   "cell_type": "code",
   "execution_count": 22,
   "metadata": {},
   "outputs": [
    {
     "data": {
      "text/plain": [
       "array([[10.32782749, 11.00004417],\n",
       "       [ 7.45599113,  9.09495395],\n",
       "       [10.99233292,  9.88298404],\n",
       "       ...,\n",
       "       [30.58596285, 20.57414983],\n",
       "       [31.3879099 , 21.86350738],\n",
       "       [31.75199984, 20.49024557]])"
      ]
     },
     "execution_count": 22,
     "metadata": {},
     "output_type": "execute_result"
    }
   ],
   "source": [
    "data"
   ]
  },
  {
   "cell_type": "code",
   "execution_count": 16,
   "metadata": {},
   "outputs": [
    {
     "data": {
      "image/png": "[encoded data removed]",
      "text/plain": [
       "<Figure size 720x504 with 1 Axes>"
      ]
     },
     "metadata": {},
     "output_type": "display_data"
    }
   ],
   "source": [
    "plt.figure(figsize=(10,7))\n",
    "curve = getSmoothCurve(x,y,z,stepX=18.,stepY=0.5,doLog=True,doMax=True)\n",
    "# cp = plt.scatter(newpts[:,0],newpts[:,1], c=znew, vmin=0., vmax=2., s=25, \n",
    "#                  cmap=sns.color_palette(\"Blues\", as_cmap=True))\n",
    "\n",
    "cp = plt.scatter(x,y, c=r, vmin=0., vmax=2., s=25, \n",
    "                 cmap=sns.color_palette(\"Blues\", as_cmap=True))\n",
    "\n",
    "\n",
    "#                  cmap=cm)\n",
    "# plt.plot(curve[:,0],curve[:,1],color='black',linewidth=3,linestyle='--')\n",
    "cb = plt.colorbar(cp)\n",
    "plt.yscale('log')\n",
    "plt.xlabel(r'$m_{\\tilde g}$ (GeV)',fontsize=24)    \n",
    "plt.ylabel(r'$\\mathdefault{c\\tau}$ (m)',fontsize=24)\n",
    "cb.set_label(r'$\\mathdefault{r=\\sigma_{th}/\\sigma_{UL}}$',fontsize=24)\n",
    "# plt.ylim(y.min(),y.max())\n",
    "# plt.yticks(np.power(10.,np.arange(-2., 6., 1.)))\n",
    "# plt.xlim(100,650)\n",
    "# plt.xticks(np.arange(100.,700.,100.))\n",
    "plt.title(r'$\\mathdefault{p p \\to \\tilde g \\tilde g, \\tilde g \\to g + \\tilde \\chi_1^0}$',fontsize=25)\n",
    "plt.tight_layout()\n",
    "# plt.savefig('T2Disp_points_r.png',dpi=500)\n",
    "plt.show()"
   ]
  },
  {
   "cell_type": "code",
   "execution_count": null,
   "metadata": {},
   "outputs": [],
   "source": []
  }
 ],
 "metadata": {
  "kernelspec": {
   "display_name": "Python 3",
   "language": "python",
   "name": "python3"
  },
  "language_info": {
   "codemirror_mode": {
    "name": "ipython",
    "version": 3
   },
   "file_extension": ".py",
   "mimetype": "text/x-python",
   "name": "python",
   "nbconvert_exporter": "python",
   "pygments_lexer": "ipython3",
   "version": "3.8.6"
  }
 },
 "nbformat": 4,
 "nbformat_minor": 2
}
