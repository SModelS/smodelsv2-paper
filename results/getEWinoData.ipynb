{
 "cells": [
  {
   "cell_type": "markdown",
   "metadata": {},
   "source": [
    "### Read SLHA, SModelS and micrOmegas output and store the data in a pandas DataFrame"
   ]
  },
  {
   "cell_type": "code",
   "execution_count": 1,
   "metadata": {},
   "outputs": [],
   "source": [
    "import warnings\n",
    "warnings.filterwarnings(\"ignore\", message=\"numpy.dtype size changed\")\n",
    "import numpy as np\n",
    "import pandas as pd\n",
    "import glob,imp,os,sys\n",
    "from pandas import json_normalize\n",
    "import pyslha\n",
    "sys.path.append('../smodels')\n",
    "from smodels.particlesLoader import BSMList\n",
    "from smodels.share.models.SMparticles import SMList\n",
    "from smodels.theory.model import Model\n",
    "pd.options.mode.chained_assignment = None #Disable copy warnings"
   ]
  },
  {
   "cell_type": "code",
   "execution_count": 43,
   "metadata": {},
   "outputs": [],
   "source": [
    "def microParser(mfile):\n",
    "    outputDict = {}\n",
    "    if not os.path.isfile(mfile):\n",
    "        print('File %s not found' %mfile)\n",
    "        return outputDict\n",
    "    \n",
    "    with open(mfile,'r') as f:\n",
    "        output = f.read()\n",
    "        #Get block for physical constraints\n",
    "        physConst = output.split('==== Physical Constraints: =====')[1].split('===')[0]\n",
    "        obs_dict = {}\n",
    "        for l in physConst.split('\\n'):\n",
    "            if not l.strip(): continue\n",
    "            if '=' in l:                \n",
    "                line = l[:]\n",
    "                while '=' in line:\n",
    "                    label = line.split('=',1)[0].strip()\n",
    "                    line = line.split('=',1)[1]\n",
    "                    val = line.split()[0].strip() #Get value\n",
    "                    line = line.replace(val,'',1)\n",
    "                    try:\n",
    "                        val = eval(val)\n",
    "                    except:\n",
    "                        pass\n",
    "                    obs_dict[label] = val\n",
    "            elif 'MassLimits' in l:                \n",
    "                if l.split()[1].strip() == 'OK':\n",
    "                    val = True\n",
    "                else:\n",
    "                    val = False\n",
    "                obs_dict['MassLimits'] = val\n",
    "                break\n",
    "    \n",
    "        #Get block for relic density\n",
    "        relic = output.split('==== Calculation of relic density')[1].split('\\n')[1:2]       \n",
    "        line = relic[0]\n",
    "        while '=' in line:\n",
    "            if not line.strip():\n",
    "                continue\n",
    "            label = line.split('=',1)[0].strip()\n",
    "            line = line.split('=',1)[1]\n",
    "            val = line.split()[0].strip() #Get value\n",
    "            line = line.replace(val,'',1)\n",
    "            try:\n",
    "                val = eval(val)\n",
    "            except:\n",
    "                pass\n",
    "            obs_dict[label] = val\n",
    "            \n",
    "            \n",
    "        #Get block for CDM nucleon cross-section\n",
    "        CDMxsec = output.split('==== ~o1-nucleon cross sections[pb] ====')[1].split('===')[0]\n",
    "        CDMxsec = CDMxsec.split('\\n')\n",
    "        for l in CDMxsec:\n",
    "            l = l.strip()\n",
    "            if not l: continue\n",
    "            nucleons = ['proton','neutron']\n",
    "            for nucleon in nucleons:\n",
    "                if nucleon in l:\n",
    "                    l = l.replace(nucleon,'')\n",
    "                    l = l.strip()\n",
    "                    l = l.split()\n",
    "                    labels = ['%s_%s'%(nucleon,v) for v in l[::2]]\n",
    "                    vals = [eval(v) for v in l[1::2]]\n",
    "                    for i,label in enumerate(labels):\n",
    "                        obs_dict[label] = vals[i]\n",
    "    return obs_dict"
   ]
  },
  {
   "cell_type": "code",
   "execution_count": 42,
   "metadata": {},
   "outputs": [
    {
     "name": "stdout",
     "output_type": "stream",
     "text": [
      "{'deltartho': 4.6e-05, 'bsgnlo': 0.000328, 'bsmumu': 3.11e-09, 'btaunu': 0.998, 'dtaunu': 0.0517, 'dmunu': 0.00533, 'Rl23': 1.0, 'MassLimits': True, 'Xf': 20.2, 'Omega': 20.2, 'proton_SI': 1.024e-10, 'proton_SD': 3.629e-07, 'neutron_SI': 1.046e-10, 'neutron_SD': 2.798e-07}\n"
     ]
    }
   ],
   "source": [
    "print(microParser('../EWino/data/micromegas_scanRandom/ew_zbwbb1b_.micro'))"
   ]
  },
  {
   "cell_type": "code",
   "execution_count": 3,
   "metadata": {},
   "outputs": [],
   "source": [
    "model = Model(BSMparticles=BSMList, SMparticles=SMList)"
   ]
  },
  {
   "cell_type": "code",
   "execution_count": 4,
   "metadata": {},
   "outputs": [],
   "source": [
    "slhaFolder = '../EWino/data/slha_scanRandom'\n",
    "smodelsFolder = '../EWino/data/smodels_scanRandom'\n",
    "microFolder = '../EWino/data/micromegas_scanRandom'"
   ]
  },
  {
   "cell_type": "code",
   "execution_count": 5,
   "metadata": {},
   "outputs": [],
   "source": [
    "#Convert Experimental Results list to a dictionary\n",
    "data = []\n",
    "removeFromDict = ['topologies outside the grid',\"missing topologies\",\n",
    "                  \"missing topologies with displaced decays\", 'missing topologies with prompt decays',\n",
    "                 \"Asymmetric Branches\",\"Outside Grid\",\"Missed Topologies\",\"Long Cascades\"]\n",
    "for f in glob.glob(smodelsFolder+'/*.py'):\n",
    "    smodelsDict = imp.load_source(f.replace('.py',''),f).smodelsOutput\n",
    "    for rmKey in removeFromDict:\n",
    "        if rmKey in smodelsDict:\n",
    "            smodelsDict.pop(rmKey)\n",
    "    if 'ExptRes' in smodelsDict:\n",
    "        for res in smodelsDict['ExptRes']:\n",
    "            if 'TxNames weights (fb)' in res:\n",
    "                res.pop('TxNames weights (fb)')        \n",
    "        expList = sorted(smodelsDict['ExptRes'], key=lambda pt: pt['r'],reverse=True)\n",
    "        expDict = dict([['result%i'%i,val] for i,val in enumerate(expList)])\n",
    "        smodelsDict['ExptRes'] = expDict\n",
    "    slhaFile = smodelsDict['OutputStatus']['input file']\n",
    "    dataDict = {'filename' : os.path.basename(slhaFile)}\n",
    "    dataDict.update(smodelsDict)\n",
    "    data.append(dataDict)"
   ]
  },
  {
   "cell_type": "code",
   "execution_count": 6,
   "metadata": {},
   "outputs": [
    {
     "name": "stdout",
     "output_type": "stream",
     "text": [
      "96669\n"
     ]
    }
   ],
   "source": [
    "print(len(data))"
   ]
  },
  {
   "cell_type": "code",
   "execution_count": 7,
   "metadata": {},
   "outputs": [],
   "source": [
    "#Convert data to flat DataFrame:\n",
    "smodelsDF = json_normalize(data)"
   ]
  },
  {
   "cell_type": "code",
   "execution_count": 8,
   "metadata": {},
   "outputs": [],
   "source": [
    "#Get SLHA data:\n",
    "slhaData = []\n",
    "for f in smodelsDF['filename']:\n",
    "    slhaFile = os.path.join(slhaFolder,f)\n",
    "    slha = pyslha.readSLHAFile(slhaFile)\n",
    "    massDict = dict([[str(key),abs(val)] for key,val in slha.blocks['MASS'].items() if key > 25])\n",
    "    extparDict = dict([[str(key),val] for key,val in slha.blocks['EXTPAR'].items()])\n",
    "    widthDict = dict([[str(key),val.totalwidth] for key,val in slha.decays.items() if key > 25])\n",
    "    BRsDict = {}\n",
    "    for pdg,val in slha.decays.items():\n",
    "        if not abs(pdg) in [1000024,1000023]:\n",
    "            continue\n",
    "        initialState = model.getParticlesWith(pdg=pdg)[0].label            \n",
    "        BRsDict[initialState] = {}\n",
    "        for dec in val.decays:\n",
    "            if dec.br < 0.01: continue            \n",
    "            finalState = ','.join([model.getParticlesWith(pdg=pid)[0].label for pid in sorted(dec.ids)])\n",
    "            BRsDict[initialState][finalState] = dec.br\n",
    "    xsec8TeV = dict([ [str(proc.pidsfinal).replace('[','').replace(']','').replace(',','_').replace(' ',''),\n",
    "                   max([x.value for x in proc.get_xsecs(sqrts=8000)])*1000] \n",
    "                 for proc in slha.xsections.values()  if proc.get_xsecs(sqrts=8000)])\n",
    "    xsec13TeV = dict([ [str(proc.pidsfinal).replace('[','').replace(']','').replace(',','_').replace(' ',''),\n",
    "                   max([x.value for x in proc.get_xsecs(sqrts=13000)])*1000] \n",
    "                 for proc in slha.xsections.values()  if proc.get_xsecs(sqrts=13000)])    \n",
    "    slhaDict = {'filename' : f, 'mass' : massDict, 'width' : widthDict, 'extpar' : extparDict, \n",
    "                'xsec8TeV(fb)' : xsec8TeV, 'xsec13TeV(fb)' : xsec13TeV, 'BRs' : BRsDict}\n",
    "    slhaData.append(slhaDict)"
   ]
  },
  {
   "cell_type": "code",
   "execution_count": 9,
   "metadata": {},
   "outputs": [],
   "source": [
    "#Convert to DataFrame\n",
    "slhaDF = json_normalize(slhaData)\n",
    "#Add total cross-sections:\n",
    "xsecs13 = [x for x in list(slhaDF) if 'xsec13TeV' in x]\n",
    "xsecs8 = [x for x in list(slhaDF) if 'xsec8TeV' in x]\n",
    "slhaDF['totalxsec13TeV(fb)'] = slhaDF[xsecs13].sum(axis=1)\n",
    "slhaDF['totalxsec8TeV(fb)'] = slhaDF[xsecs8].sum(axis=1)"
   ]
  },
  {
   "cell_type": "code",
   "execution_count": 10,
   "metadata": {},
   "outputs": [],
   "source": [
    "#Merge with SModelS DataFrame\n",
    "dataDF = slhaDF.merge(smodelsDF,how='inner')\n",
    "# print('Final number of data points:',dataDF.shape[0])\n",
    "#print(dataDF.columns.values.tolist()) #Print all columns names"
   ]
  },
  {
   "cell_type": "code",
   "execution_count": 46,
   "metadata": {},
   "outputs": [],
   "source": [
    "#Get Micromegas data:\n",
    "microData = []\n",
    "for f in smodelsDF['filename']:\n",
    "    microFile = os.path.join(microFolder,f.replace('.slha','.micro'))\n",
    "    obs_dict = microParser(microFile)\n",
    "    obs_dict['filename'] = f\n",
    "    microData.append(obs_dict)"
   ]
  },
  {
   "cell_type": "code",
   "execution_count": 47,
   "metadata": {},
   "outputs": [
    {
     "name": "stdout",
     "output_type": "stream",
     "text": [
      "Final number of data points: 96669\n"
     ]
    }
   ],
   "source": [
    "#Convert to DataFrame\n",
    "microDF = json_normalize(microData)\n",
    "#Merge with SModelS DataFrame\n",
    "dataDF2 = microDF.merge(dataDF,how='inner')\n",
    "print('Final number of data points:',dataDF2.shape[0])\n",
    "#print(dataDF2.columns.values.tolist()) #Print all columns names"
   ]
  },
  {
   "cell_type": "code",
   "execution_count": 49,
   "metadata": {},
   "outputs": [],
   "source": [
    "#Save DataFrame to pickle file:\n",
    "# dataDF.to_pickle('WinoResultsv2.pcl')\n",
    "\n",
    "dataDF2.to_pickle('EWino_scanRandom.pcl')"
   ]
  },
  {
   "cell_type": "code",
   "execution_count": null,
   "metadata": {},
   "outputs": [],
   "source": []
  }
 ],
 "metadata": {
  "kernelspec": {
   "display_name": "Python 3",
   "language": "python",
   "name": "python3"
  },
  "language_info": {
   "codemirror_mode": {
    "name": "ipython",
    "version": 3
   },
   "file_extension": ".py",
   "mimetype": "text/x-python",
   "name": "python",
   "nbconvert_exporter": "python",
   "pygments_lexer": "ipython3",
   "version": "3.8.10"
  }
 },
 "nbformat": 4,
 "nbformat_minor": 2
}
