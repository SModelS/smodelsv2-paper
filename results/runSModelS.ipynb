{
 "cells": [
  {
   "cell_type": "code",
   "execution_count": 1,
   "metadata": {},
   "outputs": [],
   "source": [
    "import sys\n",
    "sys.path.append('../smodels')\n",
    "from smodels.tools import runtime\n",
    "#Define your model (list of BSM particles)\n",
    "runtime.modelFile = 'smodels.share.models.mssm'\n",
    "#runtime.modelFile = 'mssmQNumbers.slha'\n",
    "\n",
    "from smodels.theory import decomposer\n",
    "from smodels.tools.physicsUnits import fb, GeV, TeV\n",
    "from smodels.theory.theoryPrediction import theoryPredictionsFor\n",
    "from smodels.experiment.databaseObj import Database\n",
    "from smodels.tools import coverage\n",
    "from smodels.tools.smodelsLogging import setLogLevel\n",
    "from smodels.particlesLoader import BSMList\n",
    "from smodels.share.models.SMparticles import SMList\n",
    "from smodels.theory.model import Model\n",
    "setLogLevel(\"info\")"
   ]
  },
  {
   "cell_type": "code",
   "execution_count": 2,
   "metadata": {},
   "outputs": [
    {
     "name": "stderr",
     "output_type": "stream",
     "text": [
      "INFO in databaseObj.loadBinaryFile() in 483: loading binary db file /home/lessa/.cache/smodels/official210.pcl format version 214\n",
      "INFO in databaseObj.loadBinaryFile() in 490: Loaded database from /home/lessa/.cache/smodels/official210.pcl in 0.8 secs.\n"
     ]
    }
   ],
   "source": [
    "# Set the path to the database\n",
    "database = Database(\"https://smodels.github.io/database/official210\")"
   ]
  },
  {
   "cell_type": "code",
   "execution_count": 3,
   "metadata": {},
   "outputs": [
    {
     "name": "stderr",
     "output_type": "stream",
     "text": [
      "INFO in model.updateParticles() in 385: Loaded 62 BSM particles\n"
     ]
    }
   ],
   "source": [
    "model = Model(BSMparticles=BSMList, SMparticles=SMList)\n",
    "slhafile = '../EWino/data/slha_scanRandom/ew_qfk25spm.slha'\n",
    "model.updateParticles(inputFile=slhafile)\n",
    "\n",
    "\n",
    "# Set main options for decomposition\n",
    "sigmacut = 0.005*fb\n",
    "mingap = 5.*GeV\n",
    "\n",
    "# Decompose model\n",
    "toplist = decomposer.decompose(model, sigmacut, doCompress=True, doInvisible=True, minmassgap=mingap)\n"
   ]
  },
  {
   "cell_type": "code",
   "execution_count": 9,
   "metadata": {},
   "outputs": [
    {
     "name": "stdout",
     "output_type": "stream",
     "text": [
      "[[[W+]],[[Z]]] [[C1+, N1], [N2, N1]] 2.44E-01 [pb]\n",
      "[[1.82E+02 [GeV], 5.15E+01 [GeV]], [1.87E+02 [GeV], 5.15E+01 [GeV]]] \n",
      "\n",
      "[[[W-]],[[W+]]] [[C1-, N1~], [C1+, N1]] 2.39E-01 [pb]\n",
      "[[1.82E+02 [GeV], 5.15E+01 [GeV]], [1.82E+02 [GeV], 5.15E+01 [GeV]]] \n",
      "\n",
      "[[[W-]],[[Z]]] [[C1-, N1~], [N2, N1]] 1.35E-01 [pb]\n",
      "[[1.82E+02 [GeV], 5.15E+01 [GeV]], [1.87E+02 [GeV], 5.15E+01 [GeV]]] \n",
      "\n",
      "[[[W+]],[[Z]]] [[C1+, N1], [N3, N1]] 1.30E-01 [pb]\n",
      "[[1.82E+02 [GeV], 5.15E+01 [GeV]], [1.88E+02 [GeV], 5.15E+01 [GeV]]] \n",
      "\n",
      "[[[W+]],[[higgs]]] [[C1+, N1], [N3, N1]] 1.08E-01 [pb]\n",
      "[[1.82E+02 [GeV], 5.15E+01 [GeV]], [1.88E+02 [GeV], 5.15E+01 [GeV]]] \n",
      "\n",
      "[[[Z]],[[Z]]] [[N2, N1], [N3, N1]] 1.04E-01 [pb]\n",
      "[[1.87E+02 [GeV], 5.15E+01 [GeV]], [1.88E+02 [GeV], 5.15E+01 [GeV]]] \n",
      "\n",
      "[[[Z]],[[higgs]]] [[N2, N1], [N3, N1]] 8.66E-02 [pb]\n",
      "[[1.87E+02 [GeV], 5.15E+01 [GeV]], [1.88E+02 [GeV], 5.15E+01 [GeV]]] \n",
      "\n",
      "[[[W-]],[[Z]]] [[C1-, N1~], [N3, N1]] 7.22E-02 [pb]\n",
      "[[1.82E+02 [GeV], 5.15E+01 [GeV]], [1.88E+02 [GeV], 5.15E+01 [GeV]]] \n",
      "\n",
      "[[],[[W+]]] [[N1], [C1+, N1]] 6.27E-02 [pb]\n",
      "[[5.15E+01 [GeV]], [1.82E+02 [GeV], 5.15E+01 [GeV]]] \n",
      "\n",
      "[[[W-]],[[higgs]]] [[C1-, N1~], [N3, N1]] 6.03E-02 [pb]\n",
      "[[1.82E+02 [GeV], 5.15E+01 [GeV]], [1.88E+02 [GeV], 5.15E+01 [GeV]]] \n",
      "\n",
      "[[],[[Z]]] [[N1], [N2, N1]] 4.26E-02 [pb]\n",
      "[[5.15E+01 [GeV]], [1.87E+02 [GeV], 5.15E+01 [GeV]]] \n",
      "\n",
      "[[],[[W-]]] [[N1], [C1-, N1~]] 3.63E-02 [pb]\n",
      "[[5.15E+01 [GeV]], [1.82E+02 [GeV], 5.15E+01 [GeV]]] \n",
      "\n",
      "[[],[]] [[N1], [N1]] 2.93E-02 [pb]\n",
      "[[5.15E+01 [GeV]], [5.15E+01 [GeV]]] \n",
      "\n",
      "[[[W+]],[[higgs]]] [[C1+, N1], [N2, N1]] 7.82E-03 [pb]\n",
      "[[1.82E+02 [GeV], 5.15E+01 [GeV]], [1.87E+02 [GeV], 5.15E+01 [GeV]]] \n",
      "\n",
      "[[[W-]],[[higgs]]] [[C1-, N1~], [N2, N1]] 4.31E-03 [pb]\n",
      "[[1.82E+02 [GeV], 5.15E+01 [GeV]], [1.87E+02 [GeV], 5.15E+01 [GeV]]] \n",
      "\n",
      "[[[higgs]],[[Z]]] [[N2, N1], [N3, N1]] 3.32E-03 [pb]\n",
      "[[1.87E+02 [GeV], 5.15E+01 [GeV]], [1.88E+02 [GeV], 5.15E+01 [GeV]]] \n",
      "\n",
      "[[[higgs]],[[higgs]]] [[N2, N1], [N3, N1]] 2.78E-03 [pb]\n",
      "[[1.87E+02 [GeV], 5.15E+01 [GeV]], [1.88E+02 [GeV], 5.15E+01 [GeV]]] \n",
      "\n",
      "[[],[[Z]]] [[N1], [N3, N1]] 2.77E-03 [pb]\n",
      "[[5.15E+01 [GeV]], [1.88E+02 [GeV], 5.15E+01 [GeV]]] \n",
      "\n",
      "[[],[[higgs]]] [[N1], [N3, N1]] 2.32E-03 [pb]\n",
      "[[5.15E+01 [GeV]], [1.88E+02 [GeV], 5.15E+01 [GeV]]] \n",
      "\n",
      "[[],[[higgs]]] [[N1], [N2, N1]] 1.37E-03 [pb]\n",
      "[[5.15E+01 [GeV]], [1.87E+02 [GeV], 5.15E+01 [GeV]]] \n",
      "\n",
      "[[[Z]],[[Z]]] [[N2, N1], [N2, N1]] 1.29E-04 [pb]\n",
      "[[1.87E+02 [GeV], 5.15E+01 [GeV]], [1.87E+02 [GeV], 5.15E+01 [GeV]]] \n",
      "\n"
     ]
    }
   ],
   "source": [
    "elList = sorted(toplist.getElements(), key = lambda el:el.weight.getMaxXsec(), reverse=True)\n",
    "for el in elList:\n",
    "    print(el,el.oddParticles,el.weight.getMaxXsec())\n",
    "    print(el.mass,'\\n')"
   ]
  },
  {
   "cell_type": "code",
   "execution_count": 6,
   "metadata": {},
   "outputs": [
    {
     "data": {
      "text/plain": [
       "2.93E-02 [pb]"
      ]
     },
     "execution_count": 6,
     "metadata": {},
     "output_type": "execute_result"
    }
   ],
   "source": [
    "el.weight.getMaxXsec()"
   ]
  },
  {
   "cell_type": "code",
   "execution_count": null,
   "metadata": {},
   "outputs": [],
   "source": []
  }
 ],
 "metadata": {
  "kernelspec": {
   "display_name": "Python 3",
   "language": "python",
   "name": "python3"
  },
  "language_info": {
   "codemirror_mode": {
    "name": "ipython",
    "version": 3
   },
   "file_extension": ".py",
   "mimetype": "text/x-python",
   "name": "python",
   "nbconvert_exporter": "python",
   "pygments_lexer": "ipython3",
   "version": "3.8.10"
  }
 },
 "nbformat": 4,
 "nbformat_minor": 4
}
